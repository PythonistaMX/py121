{
 "cells": [
  {
   "cell_type": "markdown",
   "metadata": {},
   "source": [
    "[![imagenes](imagenes/pythonista.png)](https://pythonista.io)"
   ]
  },
  {
   "cell_type": "markdown",
   "metadata": {},
   "source": [
    "## Flujos de datos.\n",
    "\n",
    "Un flujo de datos es una secuencia de datos provenientes de una o varias fuentes, al cual se le pueden aplicar ciertas funciones que lo pueden transformar, combinar o condensar.\n",
    "\n",
    "Python es un lenguaje que ha evolucionado para poder manipular de forma altamente eficiente los flujos de  datos.\n",
    "\n",
    "Muchos de los cambios entre Python 2 y Python 3 tiene que ver en el modo en el que se manejan los flujos de datos en la memoria.\n",
    "\n",
    "En este capítulo se estudiarán algunas funciones básicas de Python y de su bilbioteca estándar capaces de tratar con flujos de datos.\n",
    "\n",
    "Los flujos de datos son representados como colecciones de datos como lo son los tipos:\n",
    "\n",
    "* *list*.\n",
    "* *tuple*.\n",
    "* *dict*.\n",
    "* *set*.\n",
    "* *frozenset*.\n",
    "* *str*.\n",
    "* *bytes*."
   ]
  },
  {
   "cell_type": "markdown",
   "metadata": {},
   "source": [
    "## La función *map()*.\n",
    "\n",
    "Esta función permite aplicar una función a uno o varios flujos de datos.\n",
    "\n",
    "````python\n",
    "\n",
    "map(<función con n cantidad de parámetros>, <secuencia de n flujos de datos>)\n",
    "```\n",
    "\n",
    "En este caso, debe de existir un número *n* de flujos de datos para cada parámetro de la función. "
   ]
  },
  {
   "cell_type": "markdown",
   "metadata": {},
   "source": [
    "**Ejemplos:**"
   ]
  },
  {
   "cell_type": "code",
   "execution_count": null,
   "metadata": {},
   "outputs": [],
   "source": [
    "map(lambda x,y,z: (x + y) ** z,\n",
    "      [1, 2, 3, 4, 5],\n",
    "      [6, 7, 8, 9, 10],\n",
    "      [2, 3, 0.5, 4, 2])"
   ]
  },
  {
   "cell_type": "code",
   "execution_count": null,
   "metadata": {},
   "outputs": [],
   "source": [
    "resultado = map(lambda x,y,z: (x + y) ** z,\n",
    "      [1, 2, 3, 4, 5],\n",
    "      [6, 7, 8, 9, 10],\n",
    "      [2, 3, 0.5, 4, 2])"
   ]
  },
  {
   "cell_type": "code",
   "execution_count": null,
   "metadata": {},
   "outputs": [],
   "source": [
    "for item in resultado:\n",
    "    print(item)"
   ]
  },
  {
   "cell_type": "code",
   "execution_count": null,
   "metadata": {},
   "outputs": [],
   "source": [
    "resultado = map(lambda x,y,z: (x + y) ** z,\n",
    "      [1, 2, 3, 4, 5],\n",
    "      [6, 7, 8, 9, 10],\n",
    "      [2, 3, 0.5, 4, 2])"
   ]
  },
  {
   "cell_type": "code",
   "execution_count": null,
   "metadata": {},
   "outputs": [],
   "source": [
    "list(resultado)"
   ]
  },
  {
   "cell_type": "code",
   "execution_count": null,
   "metadata": {},
   "outputs": [],
   "source": [
    "[item for item in map(lambda x,y,z: (x + y) ** z,\n",
    "      [1, 2, 3, 4, 5],\n",
    "      [6, 7, 8, 9, 10],\n",
    "      [2, 3, 0.5, 4, 2])]"
   ]
  },
  {
   "cell_type": "markdown",
   "metadata": {},
   "source": [
    "## La función *filter()*.\n",
    "\n",
    "Esta función aplica una función que da por resultado un objeto de tipo *bool*. \n",
    "\n",
    "```\n",
    "filter(<función>, <flujo>)\n",
    "```\n",
    "\n",
    "El flujo resultante de *filter()* corresponderá a aquellos datos que regresen *True* al ser usados como argumento de la función."
   ]
  },
  {
   "cell_type": "markdown",
   "metadata": {},
   "source": [
    "**Ejemplo:**"
   ]
  },
  {
   "cell_type": "code",
   "execution_count": null,
   "metadata": {},
   "outputs": [],
   "source": [
    "filter(lambda x: x % 2 == 0, range(0,27))"
   ]
  },
  {
   "cell_type": "code",
   "execution_count": null,
   "metadata": {},
   "outputs": [],
   "source": [
    "resultado = filter(lambda x: x % 2 == 0, range(0,27))"
   ]
  },
  {
   "cell_type": "code",
   "execution_count": null,
   "metadata": {},
   "outputs": [],
   "source": [
    "for item  in resultado:\n",
    "    print(item)"
   ]
  },
  {
   "cell_type": "code",
   "execution_count": null,
   "metadata": {},
   "outputs": [],
   "source": [
    "list(filter(lambda x: x % 2 == 0, range(0,27)))"
   ]
  },
  {
   "cell_type": "code",
   "execution_count": null,
   "metadata": {},
   "outputs": [],
   "source": [
    "[item for item in filter(lambda x: x % 2 == 0, range(0,27))]"
   ]
  },
  {
   "cell_type": "markdown",
   "metadata": {},
   "source": [
    "## La función *zip()*.\n",
    "\n",
    "Esta función une en tuplas dos  o mas flujos."
   ]
  },
  {
   "cell_type": "code",
   "execution_count": null,
   "metadata": {},
   "outputs": [],
   "source": [
    "[item for item in zip(('uno', 'dos', 'tres', 'cuatro', 'cinco'), (1, 2, 3, 4, 5))]"
   ]
  },
  {
   "cell_type": "code",
   "execution_count": null,
   "metadata": {},
   "outputs": [],
   "source": [
    "dict(item for item in zip(('uno', 'dos', 'tres', 'cuatro', 'cinco'), (1, 2, 3, 4, 5)))"
   ]
  },
  {
   "cell_type": "code",
   "execution_count": null,
   "metadata": {},
   "outputs": [],
   "source": [
    "[item for item in zip(('nombre', 'primer apellido', 'segundo apellido'),  \n",
    "                           ('Juan' , 'Pérez'))]"
   ]
  },
  {
   "cell_type": "code",
   "execution_count": null,
   "metadata": {},
   "outputs": [],
   "source": [
    "dict(item for item in zip(('nombre', 'primer apellido', 'segundo apellido'),  \n",
    "                           ('Juan' , 'Pérez')))"
   ]
  },
  {
   "cell_type": "markdown",
   "metadata": {},
   "source": [
    "## El módulo *functools*.\n",
    "\n",
    "Es un módulo que forma parte de la bilbioteca estándar de Python y contiene una biblioteca de funciones especializadas en programación funcional."
   ]
  },
  {
   "cell_type": "code",
   "execution_count": null,
   "metadata": {},
   "outputs": [],
   "source": [
    "import functools"
   ]
  },
  {
   "cell_type": "code",
   "execution_count": null,
   "metadata": {},
   "outputs": [],
   "source": [
    "dir(functools)"
   ]
  },
  {
   "cell_type": "markdown",
   "metadata": {},
   "source": [
    "### La función *functools.reduce()*.\n",
    "\n",
    "Esta función aplica una función a cada uno de los elementos de un flujo y el primer parámentro es el resultado de la función previa. "
   ]
  },
  {
   "cell_type": "code",
   "execution_count": null,
   "metadata": {},
   "outputs": [],
   "source": [
    "from functools import reduce"
   ]
  },
  {
   "cell_type": "code",
   "execution_count": null,
   "metadata": {},
   "outputs": [],
   "source": [
    "reduce(lambda x,y: x + y,[1,2,3,4,5])"
   ]
  },
  {
   "cell_type": "markdown",
   "metadata": {},
   "source": [
    "<p style=\"text-align: center\"><a rel=\"license\" href=\"http://creativecommons.org/licenses/by/4.0/\"><img alt=\"Licencia Creative Commons\" style=\"border-width:0\" src=\"https://i.creativecommons.org/l/by/4.0/80x15.png\" /></a><br />Esta obra está bajo una <a rel=\"license\" href=\"http://creativecommons.org/licenses/by/4.0/\">Licencia Creative Commons Atribución 4.0 Internacional</a>.</p>\n",
    "<p style=\"text-align: center\">&copy; José Luis Chiquete Valdivieso. 2019.</p>"
   ]
  }
 ],
 "metadata": {
  "kernelspec": {
   "display_name": "Python 3",
   "language": "python",
   "name": "python3"
  },
  "language_info": {
   "codemirror_mode": {
    "name": "ipython",
    "version": 3
   },
   "file_extension": ".py",
   "mimetype": "text/x-python",
   "name": "python",
   "nbconvert_exporter": "python",
   "pygments_lexer": "ipython3",
   "version": "3.6.6"
  }
 },
 "nbformat": 4,
 "nbformat_minor": 2
}
