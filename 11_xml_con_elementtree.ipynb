{
 "cells": [
  {
   "cell_type": "markdown",
   "metadata": {},
   "source": [
    "[![imagenes/pythonista.png](imagenes/pythonista.png)](https://pythonista.io)"
   ]
  },
  {
   "cell_type": "markdown",
   "metadata": {},
   "source": [
    "## El estándar XML."
   ]
  },
  {
   "cell_type": "markdown",
   "metadata": {},
   "source": [
    "XML es el acrónimo de \"Extensible Markup Language\" que se puede traducir como Lenguaje Extensible de Marcadores y corresponde a un estándar general para serializar datos de diversas índoles de forma estructurada.\n",
    "El estándar de XML fue publicado en 1996 por el W3C y se utiliza de forma intensiva para definir estructuras de datos.\n",
    "\n",
    "A un documento XML se le conoce como *Elemento* y contiene estructuras de datos basada en contenidos delimitados por marcadores (markups). Dichos marcadores corresponden a etiquetas (tags) que indican el principio y el fin de la estructura que delimitan."
   ]
  },
  {
   "cell_type": "markdown",
   "metadata": {},
   "source": [
    "## El paquete *xml.etree.ElementTree*\n",
    "\n",
    "El paquete *xml* forma parte de la Biblioteca Estándar de Python y contiene a su vez  una serie de paquetes y módulos especializados en la gestión y manipulación de documentos estrcuturados.\n",
    "\n",
    "El paquete *xml.etree.ElementTree*, se especializa en documentos XML y contiene diversas clases y funciones que se pueden utilizar para tal propósito.\n",
    "\n",
    "https://docs.python.org/3/library/xml.html"
   ]
  },
  {
   "cell_type": "code",
   "execution_count": 1,
   "metadata": {},
   "outputs": [],
   "source": [
    "import xml.etree.ElementTree as ET"
   ]
  },
  {
   "cell_type": "code",
   "execution_count": 2,
   "metadata": {},
   "outputs": [
    {
     "data": {
      "text/plain": [
       "['Comment',\n",
       " 'Element',\n",
       " 'ElementPath',\n",
       " 'ElementTree',\n",
       " 'HTML_EMPTY',\n",
       " 'PI',\n",
       " 'ParseError',\n",
       " 'ProcessingInstruction',\n",
       " 'QName',\n",
       " 'SubElement',\n",
       " 'TreeBuilder',\n",
       " 'VERSION',\n",
       " 'XML',\n",
       " 'XMLID',\n",
       " 'XMLParser',\n",
       " 'XMLPullParser',\n",
       " '_Element_Py',\n",
       " '_ListDataStream',\n",
       " '__all__',\n",
       " '__builtins__',\n",
       " '__cached__',\n",
       " '__doc__',\n",
       " '__file__',\n",
       " '__loader__',\n",
       " '__name__',\n",
       " '__package__',\n",
       " '__spec__',\n",
       " '_escape_attrib',\n",
       " '_escape_attrib_html',\n",
       " '_escape_cdata',\n",
       " '_get_writer',\n",
       " '_namespace_map',\n",
       " '_namespaces',\n",
       " '_raise_serialization_error',\n",
       " '_serialize',\n",
       " '_serialize_html',\n",
       " '_serialize_text',\n",
       " '_serialize_xml',\n",
       " 'collections',\n",
       " 'contextlib',\n",
       " 'dump',\n",
       " 'fromstring',\n",
       " 'fromstringlist',\n",
       " 'io',\n",
       " 'iselement',\n",
       " 'iterparse',\n",
       " 'parse',\n",
       " 're',\n",
       " 'register_namespace',\n",
       " 'sys',\n",
       " 'tostring',\n",
       " 'tostringlist',\n",
       " 'warnings']"
      ]
     },
     "execution_count": 2,
     "metadata": {},
     "output_type": "execute_result"
    }
   ],
   "source": [
    "dir(ET)"
   ]
  },
  {
   "cell_type": "markdown",
   "metadata": {},
   "source": [
    "### La clase * Element*.\n",
    "El módulo *xml.etree.elementree* contiene a la clase *Element*, la cual permite inspeccionar un documento XML mediante el el acceso a sus métodos y atributos, así como el indexado de sus elementos."
   ]
  },
  {
   "cell_type": "markdown",
   "metadata": {},
   "source": [
    "## Documento de ejemplo."
   ]
  },
  {
   "cell_type": "markdown",
   "metadata": {},
   "source": [
    "El documento localizado en [data/cursos.xml](data/cursos.xml) contiene el siguiente código:\n",
    "\n",
    "``` xml\n",
    "<?xml version=\"1.0\"?>\n",
    "<data>\n",
    "    <curso clave=\"py101\" nombre=\"Introducción a la Programación con Python 3\">\n",
    "        <requiere />\n",
    "        <categoria>Introductorio</categoria>\n",
    "        <version>2018</version>\n",
    "        <url>https://pythonista.mx/cursos/py101</url>\n",
    "        <tema orden=\"1\" nombre=\"Introducción al lenguaje Python\" />\n",
    "        <tema orden=\"2\" nombre=\"Palabras reservadas y espacio de nombres\" />\n",
    "        <tema orden=\"3\" nombre=\"Expresiones y declaraciones\" />\n",
    "        <tema orden=\"4\" nombre=\"Números, cadenas de caracteres, tipos y operadores\" />\n",
    "        <tema orden=\"5\"  nombre=\"Orientación a objetos e introspección\" />\n",
    "        <tema orden=\"6\" nombre=\"Entrada y salida estándar\" />\n",
    "        <tema orden=\"7\" nombre=\"Bloques, comentarios y condicionales\" />\n",
    "        <tema orden=\"8\" nombre=\"Ciclos, iteraciones e interrupciones de ejecución\" />\n",
    "        <tema orden=\"9\" nombre=\"Objetos tipo list y tipo tuple\" />\n",
    "        <tema orden=\"10\" nombre=\"Objetos tipo dict\" />\n",
    "        <tema orden=\"11\" nombre=\"Objetos tipo str\" />\n",
    "        <tema orden=\"12\" nombre=\"Objetos tipo set y frozenset\" />\n",
    "        <tema orden=\"13\" nombre=\"Funciones\" />\n",
    "        <tema orden=\"14\" nombre=\"Gestión de excepiones\" />\n",
    "        <tema orden=\"15\" nombre=\"Iteradores y generadores\" />\n",
    "        <tema orden=\"16\" nombre=\"Completado de elementos\" />\n",
    "        <tema orden=\"17\" nombre=\"Entrada y salida de archivos\" />\n",
    "        <tema orden=\"18\" nombre=\"Módulos y paquetes\" />\n",
    "        <tema orden=\"19\" nombre=\"Gestión de módulos y paquetes con pip\" />\n",
    "        <tema orden=\"20\" nombre=\"Creación de paquetes con setuptools\" />\n",
    "        <tema orden=\"21\" nombre=\"Entornos virtuales\" />\n",
    "    </curso>\n",
    "    <curso clave=\"py111\" nombre=\"Introducción a la programación orientada a objetos con Python 3\">\n",
    "        <requiere clave=\"py101\"/>\n",
    "        <categoria>Introductorio</categoria>\n",
    "        <version>2018</version>\n",
    "        <url>\"https://pythonista.mx/cursos/py111\"</url>\n",
    "        <tema orden=\"1\" nombre=\"Clases e instancias\" />\n",
    "        <tema orden=\"2\" nombre=\"Atributos y métodos\" />\n",
    "        <tema orden=\"3\" nombre=\"Atributos y métodos especiales\" />\n",
    "        <tema orden=\"4\" nombre=\"Interfaces, implementaciones y encapsulamientos\" />\n",
    "        <tema orden=\"5\" nombre=\"Propiedades\" />\n",
    "        <tema orden=\"6\" nombre=\"Métodos estáticos y de clase\" />\n",
    "        <tema orden=\"7\" nombre=\"Herencias\" />\n",
    "        <tema orden=\"8\" nombre=\"Mixins\" />\n",
    "        <tema orden=\"9\" nombre=\"Clases abstractas\" />\n",
    "        <tema orden=\"10\" nombre=\"Creación de excepciones personalizadas\" />\n",
    "        <tema orden=\"11\" nombre=\"Persistencia de objetos\" />      \n",
    "    </curso>\n",
    "    <curso clave=\"py121\" nombre=\"Introducción a manejo de datos con Python\">\n",
    "        <requiere clave=\"py101\"/>\n",
    "        <requiere clave=\"py111\"/>\n",
    "        <categoria>Introductorio</categoria>\n",
    "        <version>2018</version>\n",
    "        <url>\"https://pythonista.mx/cursos/py121\"</url>\n",
    "        <tema orden=\"1\" nombre=\"Documentos separados por comas (CSV)\" />\n",
    "        <tema orden=\"2\" nombre=\"Gestión de estructura basadas en JSON\" />\n",
    "        <tema orden=\"3\" nombre=\"Análisis de redes sociales con la API de Twitter\" />\n",
    "        <tema orden=\"4\" nombre=\"Análisis de transacciones HTTP con Requests\"/>\n",
    "        <tema orden=\"5\" nombre=\"Análisis de HTML con Beautifulsoup\" />\n",
    "        <tema orden=\"6\" nombre=\"Expresiones regulares\" />\n",
    "        <tema orden=\"7\" nombre=\"XML y texto estructurado\" />\n",
    "        <tema orden=\"8\" nombre=\"Adquisición de contenido web con Scrapy\" />\n",
    "        <tema orden=\"9\" nombre=\"Escritura y lectura de hojas de cáculo en Excel\" />\n",
    "        <tema orden=\"10\" nombre=\"Escritura y lectura de documentos PDF\" />\n",
    "        <tema orden=\"11\" nombre=\"Introducción a gestión de datos en MongoDB\" />\n",
    "        <tema orden=\"12\" nombre=\"Introducción a gestión de bases de datos SQL\" />\n",
    "        <tema orden=\"13\" nombre=\"Introducción al ORM SQLAlchemy\" />  \n",
    "    </curso>\n",
    "</data>\n",
    "```"
   ]
  },
  {
   "cell_type": "markdown",
   "metadata": {},
   "source": [
    "## Adqusición de XML a partir de una cadena de caracteres.\n",
    "\n",
    "``` python\n",
    "Elementtree.fromstring()\n",
    "```"
   ]
  },
  {
   "cell_type": "markdown",
   "metadata": {},
   "source": [
    "## Adquisición de XML a partir de un archivo.\n",
    "\n",
    "### Lectura de un archivo XML.\n",
    "\n",
    "``` python\n",
    "Elementtree.parse('<ruta>')\n",
    "```\n",
    "\n",
    "### Creación de un objeto *Element* a partir del archivo.\n",
    "\n",
    "```\n",
    "<objeto resultante de Elementtree.parse>.getroot()\n",
    "```\n",
    "\n",
    "**Ejemplo:**"
   ]
  },
  {
   "cell_type": "code",
   "execution_count": 3,
   "metadata": {},
   "outputs": [
    {
     "data": {
      "text/plain": [
       "'/opt/oi/py121'"
      ]
     },
     "execution_count": 3,
     "metadata": {},
     "output_type": "execute_result"
    }
   ],
   "source": [
    "%pwd"
   ]
  },
  {
   "cell_type": "code",
   "execution_count": 4,
   "metadata": {},
   "outputs": [],
   "source": [
    "cursos = ET.parse(\"/opt/oi/py121/data/cursos.xml\")"
   ]
  },
  {
   "cell_type": "code",
   "execution_count": 5,
   "metadata": {},
   "outputs": [],
   "source": [
    "raiz = cursos.getroot()"
   ]
  },
  {
   "cell_type": "code",
   "execution_count": 6,
   "metadata": {},
   "outputs": [
    {
     "name": "stdout",
     "output_type": "stream",
     "text": [
      "Help on Element object:\n",
      "\n",
      "class Element(builtins.object)\n",
      " |  Methods defined here:\n",
      " |  \n",
      " |  __copy__(self, /)\n",
      " |  \n",
      " |  __deepcopy__(self, memo, /)\n",
      " |  \n",
      " |  __delitem__(self, key, /)\n",
      " |      Delete self[key].\n",
      " |  \n",
      " |  __getattribute__(self, name, /)\n",
      " |      Return getattr(self, name).\n",
      " |  \n",
      " |  __getitem__(self, key, /)\n",
      " |      Return self[key].\n",
      " |  \n",
      " |  __getstate__(self, /)\n",
      " |  \n",
      " |  __init__(self, /, *args, **kwargs)\n",
      " |      Initialize self.  See help(type(self)) for accurate signature.\n",
      " |  \n",
      " |  __len__(self, /)\n",
      " |      Return len(self).\n",
      " |  \n",
      " |  __new__(*args, **kwargs) from builtins.type\n",
      " |      Create and return a new object.  See help(type) for accurate signature.\n",
      " |  \n",
      " |  __repr__(self, /)\n",
      " |      Return repr(self).\n",
      " |  \n",
      " |  __setitem__(self, key, value, /)\n",
      " |      Set self[key] to value.\n",
      " |  \n",
      " |  __setstate__(self, state, /)\n",
      " |  \n",
      " |  __sizeof__(self, /)\n",
      " |      __sizeof__() -> int\n",
      " |      size of object in memory, in bytes\n",
      " |  \n",
      " |  append(self, subelement, /)\n",
      " |  \n",
      " |  clear(self, /)\n",
      " |  \n",
      " |  extend(self, elements, /)\n",
      " |  \n",
      " |  find(self, /, path, namespaces=None)\n",
      " |  \n",
      " |  findall(self, /, path, namespaces=None)\n",
      " |  \n",
      " |  findtext(self, /, path, default=None, namespaces=None)\n",
      " |  \n",
      " |  get(self, /, key, default=None)\n",
      " |  \n",
      " |  getchildren(self, /)\n",
      " |  \n",
      " |  getiterator(...)\n",
      " |      iter($self, /, tag=None)\n",
      " |      --\n",
      " |  \n",
      " |  insert(self, index, subelement, /)\n",
      " |  \n",
      " |  items(self, /)\n",
      " |  \n",
      " |  iter(self, /, tag=None)\n",
      " |  \n",
      " |  iterfind(self, /, path, namespaces=None)\n",
      " |  \n",
      " |  itertext(self, /)\n",
      " |  \n",
      " |  keys(self, /)\n",
      " |  \n",
      " |  makeelement(self, tag, attrib, /)\n",
      " |  \n",
      " |  remove(self, subelement, /)\n",
      " |  \n",
      " |  set(self, key, value, /)\n",
      " |  \n",
      " |  ----------------------------------------------------------------------\n",
      " |  Data descriptors defined here:\n",
      " |  \n",
      " |  attrib\n",
      " |      A dictionary containing the element's attributes\n",
      " |  \n",
      " |  tag\n",
      " |      A string identifying what kind of data this element represents\n",
      " |  \n",
      " |  tail\n",
      " |      A string of text directly after the end tag, or None\n",
      " |  \n",
      " |  text\n",
      " |      A string of text directly after the start tag, or None\n",
      "\n"
     ]
    }
   ],
   "source": [
    "help(raiz)"
   ]
  },
  {
   "cell_type": "code",
   "execution_count": 7,
   "metadata": {},
   "outputs": [
    {
     "data": {
      "text/plain": [
       "['__class__',\n",
       " '__copy__',\n",
       " '__deepcopy__',\n",
       " '__delattr__',\n",
       " '__delitem__',\n",
       " '__dir__',\n",
       " '__doc__',\n",
       " '__eq__',\n",
       " '__format__',\n",
       " '__ge__',\n",
       " '__getattribute__',\n",
       " '__getitem__',\n",
       " '__getstate__',\n",
       " '__gt__',\n",
       " '__hash__',\n",
       " '__init__',\n",
       " '__init_subclass__',\n",
       " '__le__',\n",
       " '__len__',\n",
       " '__lt__',\n",
       " '__ne__',\n",
       " '__new__',\n",
       " '__reduce__',\n",
       " '__reduce_ex__',\n",
       " '__repr__',\n",
       " '__setattr__',\n",
       " '__setitem__',\n",
       " '__setstate__',\n",
       " '__sizeof__',\n",
       " '__str__',\n",
       " '__subclasshook__',\n",
       " 'append',\n",
       " 'attrib',\n",
       " 'clear',\n",
       " 'extend',\n",
       " 'find',\n",
       " 'findall',\n",
       " 'findtext',\n",
       " 'get',\n",
       " 'getchildren',\n",
       " 'getiterator',\n",
       " 'insert',\n",
       " 'items',\n",
       " 'iter',\n",
       " 'iterfind',\n",
       " 'itertext',\n",
       " 'keys',\n",
       " 'makeelement',\n",
       " 'remove',\n",
       " 'set',\n",
       " 'tag',\n",
       " 'tail',\n",
       " 'text']"
      ]
     },
     "execution_count": 7,
     "metadata": {},
     "output_type": "execute_result"
    }
   ],
   "source": [
    "dir(raiz)"
   ]
  },
  {
   "cell_type": "code",
   "execution_count": 8,
   "metadata": {
    "scrolled": true
   },
   "outputs": [
    {
     "data": {
      "text/plain": [
       "'data'"
      ]
     },
     "execution_count": 8,
     "metadata": {},
     "output_type": "execute_result"
    }
   ],
   "source": [
    "raiz.tag"
   ]
  },
  {
   "cell_type": "markdown",
   "metadata": {},
   "source": [
    "#### Acceso a atributos."
   ]
  },
  {
   "cell_type": "code",
   "execution_count": 9,
   "metadata": {
    "scrolled": true
   },
   "outputs": [
    {
     "name": "stdout",
     "output_type": "stream",
     "text": [
      "curso {'clave': 'py101', 'nombre': 'Introducción a la Programación con Python 3'}\n",
      "curso {'clave': 'py111', 'nombre': 'Introducción a la programación orientada a objetos con Python 3'}\n",
      "curso {'clave': 'py121', 'nombre': 'Introducción a manejo de datos con Python'}\n"
     ]
    }
   ],
   "source": [
    "for hijo in raiz:\n",
    "    print(hijo.tag, hijo.attrib)"
   ]
  },
  {
   "cell_type": "markdown",
   "metadata": {},
   "source": [
    "#### Acceso al contenido de los atributos."
   ]
  },
  {
   "cell_type": "code",
   "execution_count": 10,
   "metadata": {},
   "outputs": [
    {
     "name": "stdout",
     "output_type": "stream",
     "text": [
      "curso py101\n",
      "curso py111\n",
      "curso py121\n"
     ]
    }
   ],
   "source": [
    "for hijo in raiz:\n",
    "    print(hijo.tag, hijo.attrib['clave'])"
   ]
  },
  {
   "cell_type": "markdown",
   "metadata": {},
   "source": [
    "Los elementos dentro del objeto \"Element\" son indexables."
   ]
  },
  {
   "cell_type": "code",
   "execution_count": 11,
   "metadata": {},
   "outputs": [
    {
     "data": {
      "text/plain": [
       "<Element 'tema' at 0x7fcf44555c78>"
      ]
     },
     "execution_count": 11,
     "metadata": {},
     "output_type": "execute_result"
    }
   ],
   "source": [
    "raiz[0][4]"
   ]
  },
  {
   "cell_type": "code",
   "execution_count": 12,
   "metadata": {},
   "outputs": [
    {
     "data": {
      "text/plain": [
       "{'orden': '1', 'nombre': 'Introducción al lenguaje Python'}"
      ]
     },
     "execution_count": 12,
     "metadata": {},
     "output_type": "execute_result"
    }
   ],
   "source": [
    "raiz[0][4].attrib"
   ]
  },
  {
   "cell_type": "code",
   "execution_count": 13,
   "metadata": {},
   "outputs": [
    {
     "name": "stdout",
     "output_type": "stream",
     "text": [
      "Introductorio\n"
     ]
    }
   ],
   "source": [
    "print(raiz[0][1].text)"
   ]
  },
  {
   "cell_type": "code",
   "execution_count": 14,
   "metadata": {},
   "outputs": [
    {
     "data": {
      "text/plain": [
       "<Element 'categoria' at 0x7fcf44555b88>"
      ]
     },
     "execution_count": 14,
     "metadata": {},
     "output_type": "execute_result"
    }
   ],
   "source": [
    "raiz[0][1]"
   ]
  },
  {
   "cell_type": "markdown",
   "metadata": {},
   "source": [
    "### Búsqueda mediante XPath.\n",
    "XPath permite realizar búsquedas dentro de un elemento XML de forma similar a como se busca en la ruta de un sistema de archivos mediante expresiones.\n",
    "\n",
    "Puede conocer más sobre la especificaciónde XPath en https://www.w3.org/TR/xpath/.\n",
    "\n",
    "El módulo *Elementtree* cuenta con soporte limitado para las expresiones de XPath. Puede consultar dichasd expresiones en https://docs.python.org/3/library/xml.etree.elementtree.html#xpath-support"
   ]
  },
  {
   "cell_type": "markdown",
   "metadata": {},
   "source": [
    "**Ejemplo:**"
   ]
  },
  {
   "cell_type": "code",
   "execution_count": 15,
   "metadata": {},
   "outputs": [
    {
     "data": {
      "text/plain": [
       "[<Element 'curso' at 0x7fcf445559a8>,\n",
       " <Element 'curso' at 0x7fcf445684f8>,\n",
       " <Element 'curso' at 0x7fcf445689f8>]"
      ]
     },
     "execution_count": 15,
     "metadata": {},
     "output_type": "execute_result"
    }
   ],
   "source": [
    "raiz.findall('./curso')"
   ]
  },
  {
   "cell_type": "code",
   "execution_count": 16,
   "metadata": {},
   "outputs": [
    {
     "data": {
      "text/plain": [
       "[<Element 'url' at 0x7fcf44555c28>,\n",
       " <Element 'url' at 0x7fcf44568638>,\n",
       " <Element 'url' at 0x7fcf44568b88>]"
      ]
     },
     "execution_count": 16,
     "metadata": {},
     "output_type": "execute_result"
    }
   ],
   "source": [
    "raiz.findall('./curso/url')"
   ]
  },
  {
   "cell_type": "code",
   "execution_count": 17,
   "metadata": {},
   "outputs": [
    {
     "data": {
      "text/plain": [
       "'\"https://pythonista.mx/cursos/py111\"'"
      ]
     },
     "execution_count": 17,
     "metadata": {},
     "output_type": "execute_result"
    }
   ],
   "source": [
    "raiz.findall('./curso/url')[1].text"
   ]
  },
  {
   "cell_type": "code",
   "execution_count": 18,
   "metadata": {},
   "outputs": [
    {
     "name": "stdout",
     "output_type": "stream",
     "text": [
      "py101\n",
      "py111\n",
      "py121\n"
     ]
    }
   ],
   "source": [
    "for dato in raiz.findall('curso[@clave]'):\n",
    "    print(dato.attrib['clave'])"
   ]
  },
  {
   "cell_type": "code",
   "execution_count": 19,
   "metadata": {},
   "outputs": [
    {
     "data": {
      "text/plain": [
       "[<Element 'curso' at 0x7fcf445689f8>]"
      ]
     },
     "execution_count": 19,
     "metadata": {},
     "output_type": "execute_result"
    }
   ],
   "source": [
    "raiz.findall('curso[@clave=\"py121\"]')"
   ]
  },
  {
   "cell_type": "code",
   "execution_count": 20,
   "metadata": {},
   "outputs": [
    {
     "data": {
      "text/plain": [
       "{'clave': 'py121', 'nombre': 'Introducción a manejo de datos con Python'}"
      ]
     },
     "execution_count": 20,
     "metadata": {},
     "output_type": "execute_result"
    }
   ],
   "source": [
    "raiz.findall('curso[@clave=\"py121\"]')[0].attrib"
   ]
  },
  {
   "cell_type": "code",
   "execution_count": 21,
   "metadata": {},
   "outputs": [
    {
     "data": {
      "text/plain": [
       "<Element 'tema' at 0x7fcf445689a8>"
      ]
     },
     "execution_count": 21,
     "metadata": {},
     "output_type": "execute_result"
    }
   ],
   "source": [
    "raiz.find('curso/tema[@nombre=\"Persistencia de objetos\"]')"
   ]
  },
  {
   "cell_type": "markdown",
   "metadata": {},
   "source": [
    "<p style=\"text-align: center\"><a rel=\"license\" href=\"http://creativecommons.org/licenses/by/4.0/\"><img alt=\"Licencia Creative Commons\" style=\"border-width:0\" src=\"https://i.creativecommons.org/l/by/4.0/80x15.png\" /></a><br />Esta obra está bajo una <a rel=\"license\" href=\"http://creativecommons.org/licenses/by/4.0/\">Licencia Creative Commons Atribución 4.0 Internacional</a>.</p>\n",
    "<p style=\"text-align: center\">&copy; José Luis Chiquete Valdivieso. 2019.</p>"
   ]
  }
 ],
 "metadata": {
  "kernelspec": {
   "display_name": "Python 3",
   "language": "python",
   "name": "python3"
  },
  "language_info": {
   "codemirror_mode": {
    "name": "ipython",
    "version": 3
   },
   "file_extension": ".py",
   "mimetype": "text/x-python",
   "name": "python",
   "nbconvert_exporter": "python",
   "pygments_lexer": "ipython3",
   "version": "3.6.9"
  }
 },
 "nbformat": 4,
 "nbformat_minor": 2
}
