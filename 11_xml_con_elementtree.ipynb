{
 "cells": [
  {
   "cell_type": "markdown",
   "metadata": {},
   "source": [
    "[![imagenes/pythonista.png](imagenes/pythonista.png)](https://pythonista.io)"
   ]
  },
  {
   "cell_type": "markdown",
   "metadata": {},
   "source": [
    "## El estándar XML."
   ]
  },
  {
   "cell_type": "markdown",
   "metadata": {},
   "source": [
    "XML es el acrónimo de \"Extensible Markup Language\" que se puede traducir como Lenguaje Extensible de Marcadores y corresponde a un estándar general para serializar datos de diversas índoles de forma estructurada.\n",
    "El estándar de XML fue publicado en 1996 por el W3C y se utiliza de forma intensiva para definir estructuras de datos.\n",
    "\n",
    "A un documento XML se le conoce como *Elemento* y contiene estructuras de datos basada en contenidos delimitados por marcadores (markups). Dichos marcadores corresponden a etiquetas (tags) que indican el principio y el fin de la estructura que delimitan."
   ]
  },
  {
   "cell_type": "markdown",
   "metadata": {},
   "source": [
    "## El paquete *xml.etree.ElementTree*\n",
    "\n",
    "El paquete *xml* forma parte de la Biblioteca Estándar de Python y contiene a su vez  una serie de paquetes y módulos especializados en la gestión y manipulación de documentos estrcuturados.\n",
    "\n",
    "El paquete *xml.etree.ElementTree*, se especializa en documentos XML y contiene diversas clases y funciones que se pueden utilizar para tal propósito.\n",
    "\n",
    "https://docs.python.org/3/library/xml.html"
   ]
  },
  {
   "cell_type": "code",
   "execution_count": null,
   "metadata": {},
   "outputs": [],
   "source": [
    "import xml.etree.ElementTree as ET"
   ]
  },
  {
   "cell_type": "code",
   "execution_count": null,
   "metadata": {},
   "outputs": [],
   "source": [
    "dir(ET)"
   ]
  },
  {
   "cell_type": "markdown",
   "metadata": {},
   "source": [
    "### La clase * Element*.\n",
    "El módulo *xml.etree.elementree* contiene a la clase *Element*, la cual permite inspeccionar un documento XML mediante el el acceso a sus métodos y atributos, así como el indexado de sus elementos."
   ]
  },
  {
   "cell_type": "markdown",
   "metadata": {},
   "source": [
    "## Documento de ejemplo."
   ]
  },
  {
   "cell_type": "markdown",
   "metadata": {},
   "source": [
    "El documento localizado en [data/cursos.xml](data/cursos.xml) contiene el siguiente código:\n",
    "\n",
    "``` xml\n",
    "<?xml version=\"1.0\"?>\n",
    "<data>\n",
    "    <curso clave=\"py101\" nombre=\"Introducción a la Programación con Python 3\">\n",
    "        <requiere />\n",
    "        <categoria>Introductorio</categoria>\n",
    "        <version>2018</version>\n",
    "        <url>https://pythonista.mx/cursos/py101</url>\n",
    "        <tema orden=\"1\" nombre=\"Introducción al lenguaje Python\" />\n",
    "        <tema orden=\"2\" nombre=\"Palabras reservadas y espacio de nombres\" />\n",
    "        <tema orden=\"3\" nombre=\"Expresiones y declaraciones\" />\n",
    "        <tema orden=\"4\" nombre=\"Números, cadenas de caracteres, tipos y operadores\" />\n",
    "        <tema orden=\"5\"  nombre=\"Orientación a objetos e introspección\" />\n",
    "        <tema orden=\"6\" nombre=\"Entrada y salida estándar\" />\n",
    "        <tema orden=\"7\" nombre=\"Bloques, comentarios y condicionales\" />\n",
    "        <tema orden=\"8\" nombre=\"Ciclos, iteraciones e interrupciones de ejecución\" />\n",
    "        <tema orden=\"9\" nombre=\"Objetos tipo list y tipo tuple\" />\n",
    "        <tema orden=\"10\" nombre=\"Objetos tipo dict\" />\n",
    "        <tema orden=\"11\" nombre=\"Objetos tipo str\" />\n",
    "        <tema orden=\"12\" nombre=\"Objetos tipo set y frozenset\" />\n",
    "        <tema orden=\"13\" nombre=\"Funciones\" />\n",
    "        <tema orden=\"14\" nombre=\"Gestión de excepiones\" />\n",
    "        <tema orden=\"15\" nombre=\"Iteradores y generadores\" />\n",
    "        <tema orden=\"16\" nombre=\"Completado de elementos\" />\n",
    "        <tema orden=\"17\" nombre=\"Entrada y salida de archivos\" />\n",
    "        <tema orden=\"18\" nombre=\"Módulos y paquetes\" />\n",
    "        <tema orden=\"19\" nombre=\"Gestión de módulos y paquetes con pip\" />\n",
    "        <tema orden=\"20\" nombre=\"Creación de paquetes con setuptools\" />\n",
    "        <tema orden=\"21\" nombre=\"Entornos virtuales\" />\n",
    "    </curso>\n",
    "    <curso clave=\"py111\" nombre=\"Introducción a la programación orientada a objetos con Python 3\">\n",
    "        <requiere clave=\"py101\"/>\n",
    "        <categoria>Introductorio</categoria>\n",
    "        <version>2018</version>\n",
    "        <url>\"https://pythonista.mx/cursos/py111\"</url>\n",
    "        <tema orden=\"1\" nombre=\"Clases e instancias\" />\n",
    "        <tema orden=\"2\" nombre=\"Atributos y métodos\" />\n",
    "        <tema orden=\"3\" nombre=\"Atributos y métodos especiales\" />\n",
    "        <tema orden=\"4\" nombre=\"Interfaces, implementaciones y encapsulamientos\" />\n",
    "        <tema orden=\"5\" nombre=\"Propiedades\" />\n",
    "        <tema orden=\"6\" nombre=\"Métodos estáticos y de clase\" />\n",
    "        <tema orden=\"7\" nombre=\"Herencias\" />\n",
    "        <tema orden=\"8\" nombre=\"Mixins\" />\n",
    "        <tema orden=\"9\" nombre=\"Clases abstractas\" />\n",
    "        <tema orden=\"10\" nombre=\"Creación de excepciones personalizadas\" />\n",
    "        <tema orden=\"11\" nombre=\"Persistencia de objetos\" />      \n",
    "    </curso>\n",
    "    <curso clave=\"py121\" nombre=\"Introducción a manejo de datos con Python\">\n",
    "        <requiere clave=\"py101\"/>\n",
    "        <requiere clave=\"py111\"/>\n",
    "        <categoria>Introductorio</categoria>\n",
    "        <version>2018</version>\n",
    "        <url>\"https://pythonista.mx/cursos/py121\"</url>\n",
    "        <tema orden=\"1\" nombre=\"Documentos separados por comas (CSV)\" />\n",
    "        <tema orden=\"2\" nombre=\"Gestión de estructura basadas en JSON\" />\n",
    "        <tema orden=\"3\" nombre=\"Análisis de redes sociales con la API de Twitter\" />\n",
    "        <tema orden=\"4\" nombre=\"Análisis de transacciones HTTP con Requests\"/>\n",
    "        <tema orden=\"5\" nombre=\"Análisis de HTML con Beautifulsoup\" />\n",
    "        <tema orden=\"6\" nombre=\"Expresiones regulares\" />\n",
    "        <tema orden=\"7\" nombre=\"XML y texto estructurado\" />\n",
    "        <tema orden=\"8\" nombre=\"Adquisición de contenido web con Scrapy\" />\n",
    "        <tema orden=\"9\" nombre=\"Escritura y lectura de hojas de cáculo en Excel\" />\n",
    "        <tema orden=\"10\" nombre=\"Escritura y lectura de documentos PDF\" />\n",
    "        <tema orden=\"11\" nombre=\"Introducción a gestión de datos en MongoDB\" />\n",
    "        <tema orden=\"12\" nombre=\"Introducción a gestión de bases de datos SQL\" />\n",
    "        <tema orden=\"13\" nombre=\"Introducción al ORM SQLAlchemy\" />  \n",
    "    </curso>\n",
    "</data>\n",
    "```"
   ]
  },
  {
   "cell_type": "markdown",
   "metadata": {},
   "source": [
    "## Adqusición de XML a partir de una cadena de caracteres.\n",
    "\n",
    "``` python\n",
    "Elementtree.fromstring()\n",
    "```"
   ]
  },
  {
   "cell_type": "markdown",
   "metadata": {},
   "source": [
    "## Adquisición de XML a partir de un archivo.\n",
    "\n",
    "### Lectura de un archivo XML.\n",
    "\n",
    "``` python\n",
    "Elementtree.parse('<ruta>')\n",
    "```\n",
    "\n",
    "### Creación de un objeto *Element* a partir del archivo.\n",
    "\n",
    "```\n",
    "<objeto resultante de Elementtree.parse>.getroot()\n",
    "```\n",
    "\n",
    "**Ejemplo:**"
   ]
  },
  {
   "cell_type": "code",
   "execution_count": null,
   "metadata": {},
   "outputs": [],
   "source": [
    "%pwd"
   ]
  },
  {
   "cell_type": "code",
   "execution_count": null,
   "metadata": {},
   "outputs": [],
   "source": [
    "cursos = ET.parse(\"/opt/pythonista/py121/data/cursos.xml\")"
   ]
  },
  {
   "cell_type": "code",
   "execution_count": null,
   "metadata": {},
   "outputs": [],
   "source": [
    "raiz = cursos.getroot()"
   ]
  },
  {
   "cell_type": "code",
   "execution_count": null,
   "metadata": {},
   "outputs": [],
   "source": [
    "help(raiz)"
   ]
  },
  {
   "cell_type": "code",
   "execution_count": null,
   "metadata": {},
   "outputs": [],
   "source": [
    "dir(raiz)"
   ]
  },
  {
   "cell_type": "code",
   "execution_count": null,
   "metadata": {
    "scrolled": true
   },
   "outputs": [],
   "source": [
    "raiz.tag"
   ]
  },
  {
   "cell_type": "markdown",
   "metadata": {},
   "source": [
    "#### Acceso a atributos."
   ]
  },
  {
   "cell_type": "code",
   "execution_count": null,
   "metadata": {
    "scrolled": true
   },
   "outputs": [],
   "source": [
    "for hijo in raiz:\n",
    "    print(hijo.tag, hijo.attrib)"
   ]
  },
  {
   "cell_type": "markdown",
   "metadata": {},
   "source": [
    "#### Acceso al contenido de los atributos."
   ]
  },
  {
   "cell_type": "code",
   "execution_count": null,
   "metadata": {},
   "outputs": [],
   "source": [
    "for hijo in raiz:\n",
    "    print(hijo.tag, hijo.attrib['clave'])"
   ]
  },
  {
   "cell_type": "markdown",
   "metadata": {},
   "source": [
    "Los elementos dentro del objeto \"Element\" son indexables."
   ]
  },
  {
   "cell_type": "code",
   "execution_count": null,
   "metadata": {},
   "outputs": [],
   "source": [
    "raiz[0][4]"
   ]
  },
  {
   "cell_type": "code",
   "execution_count": null,
   "metadata": {},
   "outputs": [],
   "source": [
    "raiz[0][4].attrib"
   ]
  },
  {
   "cell_type": "code",
   "execution_count": null,
   "metadata": {},
   "outputs": [],
   "source": [
    "print(raiz[0][1].text)"
   ]
  },
  {
   "cell_type": "code",
   "execution_count": null,
   "metadata": {},
   "outputs": [],
   "source": [
    "raiz[0][1]"
   ]
  },
  {
   "cell_type": "markdown",
   "metadata": {},
   "source": [
    "### Búsqueda mediante XPath.\n",
    "XPath permite realizar búsquedas dentro de un elemento XML de forma similar a como se busca en la ruta de un sistema de archivos mediante expresiones.\n",
    "\n",
    "Puede conocer más sobre la especificaciónde XPath en https://www.w3.org/TR/xpath/.\n",
    "\n",
    "El módulo *Elementtree* cuenta con soporte limitado para las expresiones de XPath. Puede consultar dichasd expresiones en https://docs.python.org/3/library/xml.etree.elementtree.html#xpath-support"
   ]
  },
  {
   "cell_type": "markdown",
   "metadata": {},
   "source": [
    "**Ejemplo:**"
   ]
  },
  {
   "cell_type": "code",
   "execution_count": null,
   "metadata": {},
   "outputs": [],
   "source": [
    "raiz.findall('./curso')"
   ]
  },
  {
   "cell_type": "code",
   "execution_count": null,
   "metadata": {},
   "outputs": [],
   "source": [
    "raiz.findall('./curso/url')"
   ]
  },
  {
   "cell_type": "code",
   "execution_count": null,
   "metadata": {},
   "outputs": [],
   "source": [
    "raiz.findall('./curso/url')[1].text"
   ]
  },
  {
   "cell_type": "code",
   "execution_count": null,
   "metadata": {},
   "outputs": [],
   "source": [
    "for dato in raiz.findall('curso[@clave]'):\n",
    "    print(dato.attrib['clave'])"
   ]
  },
  {
   "cell_type": "code",
   "execution_count": null,
   "metadata": {},
   "outputs": [],
   "source": [
    "raiz.findall('curso[@clave=\"py121\"]')"
   ]
  },
  {
   "cell_type": "code",
   "execution_count": null,
   "metadata": {},
   "outputs": [],
   "source": [
    "raiz.findall('curso[@clave=\"py121\"]')[0].attrib"
   ]
  },
  {
   "cell_type": "code",
   "execution_count": null,
   "metadata": {},
   "outputs": [],
   "source": [
    "raiz.find('curso/tema[@nombre=\"Persistencia de objetos\"]')"
   ]
  },
  {
   "cell_type": "markdown",
   "metadata": {},
   "source": [
    "<p style=\"text-align: center\"><a rel=\"license\" href=\"http://creativecommons.org/licenses/by/4.0/\"><img alt=\"Licencia Creative Commons\" style=\"border-width:0\" src=\"https://i.creativecommons.org/l/by/4.0/80x15.png\" /></a><br />Esta obra está bajo una <a rel=\"license\" href=\"http://creativecommons.org/licenses/by/4.0/\">Licencia Creative Commons Atribución 4.0 Internacional</a>.</p>\n",
    "<p style=\"text-align: center\">&copy; José Luis Chiquete Valdivieso. 2019.</p>"
   ]
  }
 ],
 "metadata": {
  "kernelspec": {
   "display_name": "Python 3",
   "language": "python",
   "name": "python3"
  },
  "language_info": {
   "codemirror_mode": {
    "name": "ipython",
    "version": 3
   },
   "file_extension": ".py",
   "mimetype": "text/x-python",
   "name": "python",
   "nbconvert_exporter": "python",
   "pygments_lexer": "ipython3",
   "version": "3.6.9"
  }
 },
 "nbformat": 4,
 "nbformat_minor": 2
}
