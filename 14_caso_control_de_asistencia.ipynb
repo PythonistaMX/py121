{
 "cells": [
  {
   "cell_type": "markdown",
   "metadata": {},
   "source": [
    "[![imagenes](imagenes/pythonista.png)](https://pythonista.io)"
   ]
  },
  {
   "cell_type": "markdown",
   "metadata": {},
   "source": [
    "## Enunciado del  problema.\n",
    "\n",
    "Se desea obtener el nombre de los asistentes a una sesión de Gotomeeting mediante las bitácora de chat de dicha plataforma.\n",
    "\n",
    "* Las bitácoras son guardadas automáticamente en archivos con extensión *rtf* al terminar una sesión. \n",
    "* Los nombres de los asistentes siempre se ponen antes de cada comentario, indicando a quién va dirigido el mensaje mediante paréntesis.\n",
    "* Los caracteres que no se encuentran el el código ASCII son sustituidos mediante un caracter de escape \" *\\\\'* \" seguido por el número hexadecimal correspondiente a dicho caracter en la codificación [*Latin-1*](https://es.wikipedia.org/wiki/ISO/IEC_8859-1).\n",
    "* Los asistentes pueden escribir su nombre en mayúsculas y minúsculas y es común que no coloquen los acentos de la misma forma en cada sesión.\n",
    "\n",
    "```\n",
    "\\cf3\\b Joruiz Kartate (a Todos)\\b0 : \\cf1 03:09 p. m.: Buenas tardes, entendido\\cf2\\par\n",
    "\\cf3\\b Lop\\'den Rasquam (a Todos)\\b0 : \\cf1 03:09 p. m.: y buenas tardes \\cf2\\par\n",
    "```"
   ]
  },
  {
   "cell_type": "markdown",
   "metadata": {},
   "source": [
    "## Código explicado."
   ]
  },
  {
   "cell_type": "markdown",
   "metadata": {},
   "source": [
    "### Importación de los módulos requeridos."
   ]
  },
  {
   "cell_type": "code",
   "execution_count": null,
   "metadata": {},
   "outputs": [],
   "source": [
    "from os import listdir\n",
    "import csv"
   ]
  },
  {
   "cell_type": "markdown",
   "metadata": {},
   "source": [
    "### La función *escape()*.\n",
    "\n",
    "Esta función realiza la conversión de los caracteres escapados en codificación *Latin-1*."
   ]
  },
  {
   "cell_type": "code",
   "execution_count": null,
   "metadata": {},
   "outputs": [],
   "source": [
    "def escape(cadena):\n",
    "    while \"\\\\'\" in cadena:\n",
    "        indice = cadena.index(\"\\\\'\")\n",
    "        original = cadena[indice: indice + 4] \n",
    "        cadena = cadena.replace(original, \n",
    "                                bytes.fromhex(original[-2:]).decode('latin1'))\n",
    "    return cadena"
   ]
  },
  {
   "cell_type": "markdown",
   "metadata": {},
   "source": [
    "**Ejemplo:**"
   ]
  },
  {
   "cell_type": "code",
   "execution_count": null,
   "metadata": {},
   "outputs": [],
   "source": [
    "escape(\"Esta es la í con acento: \\\\'ed\")"
   ]
  },
  {
   "cell_type": "markdown",
   "metadata": {},
   "source": [
    "### La función *abre_archivo()*.\n",
    "\n",
    "Esta función abre un archivo de texto y regresa in objeto de tipo *set*  y extrae de cada línea la cadena de caracteres que se ajusta a los siguientes criterios. \n",
    "* Selecciona la línea del archivo en las que existen los caracteres \"*(\"* y los caracteres \"*)\\\\b*\".\n",
    "* Aplica la función *escape()* a cada línea.\n",
    "* Recorta el texto hasta antes de encontrar el signo de apertura de paréntesis precedido por un espacio\"* (*\".\n",
    "* Desecha los primeros 7 caracteres de cada línea.\n",
    "* Sustituye caracteres especiales.\n",
    "* Transforma el texto en minúsculas.\n",
    "* Crea un elemento set con cada línea procesada."
   ]
  },
  {
   "cell_type": "code",
   "execution_count": null,
   "metadata": {},
   "outputs": [],
   "source": [
    "def abre_archivo(ruta):\n",
    "    mapa = str.maketrans('áéíóúüàèìòùñ', 'aeiouuaeioun')\n",
    "    with open(ruta, 'r') as archivo:\n",
    "        return set((escape(linea.partition(' (')[0][6:]).strip().lower().translate(mapa)\\\n",
    "                    for linea in archivo.readlines() if '(' in linea and ')\\\\b' in linea))"
   ]
  },
  {
   "cell_type": "markdown",
   "metadata": {},
   "source": [
    "**Ejemplo:**"
   ]
  },
  {
   "cell_type": "markdown",
   "metadata": {},
   "source": [
    "El archivo [data/Registro de conversaciones 01_15 16_00.rtf](data/Registro%20de%20conversaciones%2001_15%2016_00.rtf)"
   ]
  },
  {
   "cell_type": "code",
   "execution_count": null,
   "metadata": {},
   "outputs": [],
   "source": [
    "abre_archivo(\"data/Registro de conversaciones 01_15 16_00.rtf\")"
   ]
  },
  {
   "cell_type": "markdown",
   "metadata": {},
   "source": [
    "### La función *asistentes()*."
   ]
  },
  {
   "cell_type": "code",
   "execution_count": null,
   "metadata": {},
   "outputs": [],
   "source": [
    "def asistentes(lista):\n",
    "    conjunto = set()\n",
    "    for elemento in lista:\n",
    "        conjunto.update(elemento)\n",
    "    return conjunto"
   ]
  },
  {
   "cell_type": "markdown",
   "metadata": {},
   "source": [
    "**Ejemplo:**"
   ]
  },
  {
   "cell_type": "code",
   "execution_count": null,
   "metadata": {},
   "outputs": [],
   "source": [
    "asistencia = ({'Luis', 'Juan', 'Jorge'},\n",
    "          {'Arturo', 'Juan', 'Ivan', 'Luis'},\n",
    "          {'Guadalupe', 'Marco', 'Luis'})"
   ]
  },
  {
   "cell_type": "code",
   "execution_count": null,
   "metadata": {},
   "outputs": [],
   "source": [
    "asistentes(asistencia)"
   ]
  },
  {
   "cell_type": "markdown",
   "metadata": {},
   "source": [
    "## La función *lista_sesiones*. \n",
    "\n",
    "Esta función va a crear una lista de asistencia para todas las sesiones."
   ]
  },
  {
   "cell_type": "code",
   "execution_count": null,
   "metadata": {},
   "outputs": [],
   "source": [
    "def lista_sesiones(sesiones):\n",
    "    alumnos = asistentes(sesiones)\n",
    "    control = {}\n",
    "    for sesion in sesiones:\n",
    "        for alumno in alumnos:\n",
    "            asistio = 0\n",
    "            if alumno in sesion:\n",
    "                asistio = 1\n",
    "            if alumno in control:\n",
    "                control[alumno].append(asistio)\n",
    "                control[alumno][0] += asistio\n",
    "            else:\n",
    "                control[alumno] = [asistio, asistio]\n",
    "    return control"
   ]
  },
  {
   "cell_type": "markdown",
   "metadata": {},
   "source": [
    "**Ejemplo:*"
   ]
  },
  {
   "cell_type": "code",
   "execution_count": null,
   "metadata": {},
   "outputs": [],
   "source": [
    "lista_sesiones(asistencia)"
   ]
  },
  {
   "cell_type": "markdown",
   "metadata": {},
   "source": [
    "### La función *crea_csv*.\n",
    "\n",
    "Esta función crea el objeto *conjunto* el cual contiene la relación de asistencias de todas las sesiones."
   ]
  },
  {
   "cell_type": "code",
   "execution_count": null,
   "metadata": {},
   "outputs": [],
   "source": [
    "def crea_csv(archivos, ruta='relacion.csv'):\n",
    "    conjunto = lista_sesiones([abre_archivo(archivo) for archivo in archivos])\n",
    "    with open(ruta, 'wt') as archivo:\n",
    "        relacion = csv.writer(archivo)\n",
    "        for alumno in conjunto:\n",
    "            fila = [alumno]\n",
    "            fila.extend(conjunto[alumno])\n",
    "            relacion.writerow(fila)"
   ]
  },
  {
   "cell_type": "markdown",
   "metadata": {},
   "source": [
    "### La función *main()*.\n",
    "\n",
    "Esta es la función que ejecuta el proceso. \n",
    "* Realizará y ordenará el listado de todos los archivos del subdirectorio *data*  con la extensión definida en *extension* en la ruta definida en *directorio*.   "
   ]
  },
  {
   "cell_type": "code",
   "execution_count": null,
   "metadata": {},
   "outputs": [],
   "source": [
    "def main(directorio='./', extension='.rtf'):\n",
    "    directorio = [directorio + item for item in listdir('data') if item.endswith('.rtf')]\n",
    "    directorio.sort()\n",
    "    crea_csv(directorio)"
   ]
  },
  {
   "cell_type": "code",
   "execution_count": null,
   "metadata": {},
   "outputs": [],
   "source": [
    "if __name__ == '__main__':\n",
    "    main('data/')"
   ]
  },
  {
   "cell_type": "markdown",
   "metadata": {},
   "source": [
    "<p style=\"text-align: center\"><a rel=\"license\" href=\"http://creativecommons.org/licenses/by/4.0/\"><img alt=\"Licencia Creative Commons\" style=\"border-width:0\" src=\"https://i.creativecommons.org/l/by/4.0/80x15.png\" /></a><br />Esta obra está bajo una <a rel=\"license\" href=\"http://creativecommons.org/licenses/by/4.0/\">Licencia Creative Commons Atribución 4.0 Internacional</a>.</p>\n",
    "<p style=\"text-align: center\">&copy; José Luis Chiquete Valdivieso. 2019.</p>"
   ]
  }
 ],
 "metadata": {
  "kernelspec": {
   "display_name": "Python 3",
   "language": "python",
   "name": "python3"
  },
  "language_info": {
   "codemirror_mode": {
    "name": "ipython",
    "version": 3
   },
   "file_extension": ".py",
   "mimetype": "text/x-python",
   "name": "python",
   "nbconvert_exporter": "python",
   "pygments_lexer": "ipython3",
   "version": "3.7.3"
  }
 },
 "nbformat": 4,
 "nbformat_minor": 2
}
