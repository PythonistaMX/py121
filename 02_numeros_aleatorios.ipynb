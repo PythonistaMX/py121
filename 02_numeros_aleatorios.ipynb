{
 "cells": [
  {
   "cell_type": "markdown",
   "metadata": {},
   "source": [
    "[![imagenes/pythonista.png](imagenes/pythonista.png)](https://pythonista.io)"
   ]
  },
  {
   "cell_type": "markdown",
   "metadata": {},
   "source": [
    "# Generación de números aleatorios."
   ]
  },
  {
   "cell_type": "markdown",
   "metadata": {},
   "source": [
    "## El módulo ```random```.\n",
    "\n",
    "Python cuenta con el módulo ```random``` para generación de números pseudo-aleatorios a partir de diversos mnodelos, distribuciones y métodos.\n",
    "\n",
    "La referencia del módulo ```ramdom``` puede ser consultada en: \n",
    "\n",
    "https://docs.python.org/3/library/random.html"
   ]
  },
  {
   "cell_type": "code",
   "execution_count": null,
   "metadata": {},
   "outputs": [],
   "source": [
    "import random"
   ]
  },
  {
   "cell_type": "markdown",
   "metadata": {},
   "source": [
    "### Inicialización del generador de números mediante el método ```random.seed()```.\n",
    "\n",
    "Aún cuando no es obligatorio, se sugiere utilizar este método para inicializar el generador de números aleatorios."
   ]
  },
  {
   "cell_type": "code",
   "execution_count": null,
   "metadata": {},
   "outputs": [],
   "source": [
    "random.seed()"
   ]
  },
  {
   "cell_type": "markdown",
   "metadata": {},
   "source": [
    "### Obtención de un número aleatorio con ```random.random()```.\n",
    "\n",
    "Generará un número aleatorio de tipo ```float``` que va de ```0`.0``` a ```1.0```. La precisión depende de la arquitectura del sistema."
   ]
  },
  {
   "cell_type": "code",
   "execution_count": null,
   "metadata": {},
   "outputs": [],
   "source": [
    "random.random()"
   ]
  },
  {
   "cell_type": "markdown",
   "metadata": {},
   "source": [
    "### Obtención de un número entero aleatorio dentro de un rango ```random.randint()```.\n",
    "\n",
    "Generará un número aleatorio que va dentro del rango ingresado.\n",
    "\n",
    "```\n",
    "random.randtin(<m>, <n>)\n",
    "```\n",
    "\n",
    "Donde:\n",
    "\n",
    "* ```<m>``` es un número de tipo ```int``` que corresponde al límite inferior del rango.\n",
    "* ```<n>``` es un número de tipo ```int``` que corresponde al límite superior del rango.\n"
   ]
  },
  {
   "cell_type": "markdown",
   "metadata": {},
   "source": [
    "**Ejemplo:**"
   ]
  },
  {
   "cell_type": "code",
   "execution_count": null,
   "metadata": {},
   "outputs": [],
   "source": [
    "random.randint(12, 28)"
   ]
  },
  {
   "cell_type": "markdown",
   "metadata": {},
   "source": [
    "### La función ```random.choices()```.\n",
    "\n",
    "Esta función regresa un objeto de tipo ```list``` de tamaño específico que contiene una combinaciones aleatorias de elementos.\n",
    "\n",
    "\n",
    "```\n",
    "random.choices((<opción 1> , <opción 2>, ... <opción n>), k=<tamaño>)\n",
    "```\n",
    "\n",
    "Donde:\n",
    "\n",
    "* ```<opción i>``` es un objeto que será utilizado para conformar las combinaciones.\n",
    "* ```<tamaño>``` es el número de elementos que regresará la función."
   ]
  },
  {
   "cell_type": "markdown",
   "metadata": {},
   "source": [
    "**Ejemplos:**"
   ]
  },
  {
   "cell_type": "code",
   "execution_count": null,
   "metadata": {},
   "outputs": [],
   "source": [
    "random.choices(('Hugo', 'Paco', 'Luis'))"
   ]
  },
  {
   "cell_type": "code",
   "execution_count": null,
   "metadata": {},
   "outputs": [],
   "source": [
    "random.choices(('Hugo', 'Paco', 'Luis'),k=2)"
   ]
  },
  {
   "cell_type": "markdown",
   "metadata": {},
   "source": [
    "<p style=\"text-align: center\"><a rel=\"license\" href=\"http://creativecommons.org/licenses/by/4.0/\"><img alt=\"Licencia Creative Commons\" style=\"border-width:0\" src=\"https://i.creativecommons.org/l/by/4.0/80x15.png\" /></a><br />Esta obra está bajo una <a rel=\"license\" href=\"http://creativecommons.org/licenses/by/4.0/\">Licencia Creative Commons Atribución 4.0 Internacional</a>.</p>\n",
    "<p style=\"text-align: center\">&copy; José Luis Chiquete Valdivieso. 2020.</p>"
   ]
  }
 ],
 "metadata": {
  "kernelspec": {
   "display_name": "Python 3",
   "language": "python",
   "name": "python3"
  },
  "language_info": {
   "codemirror_mode": {
    "name": "ipython",
    "version": 3
   },
   "file_extension": ".py",
   "mimetype": "text/x-python",
   "name": "python",
   "nbconvert_exporter": "python",
   "pygments_lexer": "ipython3",
   "version": "3.6.9"
  }
 },
 "nbformat": 4,
 "nbformat_minor": 2
}
