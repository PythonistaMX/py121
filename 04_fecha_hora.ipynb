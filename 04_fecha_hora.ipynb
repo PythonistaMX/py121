{
 "cells": [
  {
   "cell_type": "markdown",
   "metadata": {},
   "source": [
    "[![imagenes/pythonista.png](imagenes/pythonista.png)](https://pythonista.io)"
   ]
  },
  {
   "cell_type": "markdown",
   "metadata": {},
   "source": [
    "# Paquetes de fecha y hora de Python 3\n",
    "\n",
    "La biblioteca estándar de Python cuenta con dos paquetes especializados en manejos de fechas y horas.\n",
    "\n",
    "* ```time```.\n",
    "* ```datetime```."
   ]
  },
  {
   "cell_type": "markdown",
   "metadata": {},
   "source": [
    "### Preliminares:\n",
    "\n",
    "Si la notebook actual es ejecutada desde una máquina virtual proporcionada por Pythonista<sup>®</sup>, la zona horaria es GMT.\n",
    "\n",
    "Las siguientes celdas configurarán un sistema basado en Linux a la zona horaria de la Ciudad de México."
   ]
  },
  {
   "cell_type": "markdown",
   "metadata": {},
   "source": [
    "* La siguiente celda mostrará las zonas de tiempo disponibles de un sistema basado en Linux."
   ]
  },
  {
   "cell_type": "code",
   "execution_count": null,
   "metadata": {},
   "outputs": [],
   "source": [
    "!timedatectl list-timezones"
   ]
  },
  {
   "cell_type": "markdown",
   "metadata": {},
   "source": [
    "* La siguiente celda configurará a un sistema basado en Linux para la zona de tiempo corresondiente a la Ciudad de México."
   ]
  },
  {
   "cell_type": "code",
   "execution_count": null,
   "metadata": {},
   "outputs": [],
   "source": [
    "!sudo timedatectl set-timezone America/Mexico_City"
   ]
  },
  {
   "cell_type": "markdown",
   "metadata": {},
   "source": [
    "* La siguiente celda regresará la fecha y hora del sistema."
   ]
  },
  {
   "cell_type": "code",
   "execution_count": null,
   "metadata": {},
   "outputs": [],
   "source": [
    "!date"
   ]
  },
  {
   "cell_type": "markdown",
   "metadata": {},
   "source": [
    "**Nota:** Es necesario reiniciar el kernel para que el cambio sea reconocido en la notebook. "
   ]
  },
  {
   "cell_type": "markdown",
   "metadata": {},
   "source": [
    "## Algunos conceptos básicos. \n",
    "\n",
    "### *Epoch*.\n",
    "\n",
    "Los sistemas *GNU/Linux* y *UNIX* poseen un contador de tiempo cuyo inicio corresponde a las 00:00 horas (GMT) del jueves 1 de enero de 1970. A esta fecha se le conoce como \"*epoch*\"."
   ]
  },
  {
   "cell_type": "markdown",
   "metadata": {},
   "source": [
    "### La tupla de fecha y hora.\n",
    "\n",
    "Una fecha es representada por una tupla en la que cada elemento representa un dato calendárico y de tiempo específico.\n",
    "\n",
    "``` \n",
    "(<Año en cuatro cifras>, <número de mes de 1 a 12>, \n",
    "<número de día del mes de 0 a 31>, <hora del día de 0 a 23>, \n",
    " <minutos de 0 a 60>, <segundos de 0 a 61>, \n",
    " <dia de la semana de 0(lunes) a 6(domingo>, <día del año de 1 a 366>,\n",
    " <valor entero de -1 a 1 para indicar si se apega a un esquema de ahorro de energía>)\n",
    " ```"
   ]
  },
  {
   "cell_type": "markdown",
   "metadata": {},
   "source": [
    "###  Horario de ahorro de energía.\n",
    "El último elemento de la tupla indica si se está haciendo uso del horario de ahorro de energia.\n",
    " * ```0``` para cuando no está implementado.\n",
    " * ```1``` para cuando está implementado.\n",
    " * ```-1``` para cuando se desconoce si está implementado."
   ]
  },
  {
   "cell_type": "markdown",
   "metadata": {},
   "source": [
    "### Estampa de tiempo (timestamp).\n",
    "\n",
    "Una estampa de tiempo es un valor numérico que indica el número de segundos transcurridos  a partir de \"*epoch*\"."
   ]
  },
  {
   "cell_type": "markdown",
   "metadata": {},
   "source": [
    "# El módulo ```time```.\n",
    "\n",
    "Este módulo es parte de la biblioteca estándar de Python y permite realizar algunas operaciones básicas de fecha y hora.\n",
    "\n",
    "Python tiene información detallada sobre el módulo ```time``` en el siguiente enlace:\n",
    "\n",
    "https://docs.python.org/3/library/time.html"
   ]
  },
  {
   "cell_type": "code",
   "execution_count": null,
   "metadata": {},
   "outputs": [],
   "source": [
    "import time"
   ]
  },
  {
   "cell_type": "markdown",
   "metadata": {},
   "source": [
    "### La función ```time.time()```.\n",
    "\n",
    "Esta función regresa la estampa de tiempo correspondiente al momento en el que se ejecuta la función. \n",
    "\n",
    "```\n",
    "time.time()\n",
    "```\n",
    "\n",
    "Esta función tiene una precisión de nanosegundos."
   ]
  },
  {
   "cell_type": "markdown",
   "metadata": {},
   "source": [
    "**Ejemplo:**"
   ]
  },
  {
   "cell_type": "markdown",
   "metadata": {},
   "source": [
    "* La siguiente celda regresará la estampa de tiempo del momento en el que la función es ejecutada."
   ]
  },
  {
   "cell_type": "code",
   "execution_count": null,
   "metadata": {},
   "outputs": [],
   "source": [
    "time.time()"
   ]
  },
  {
   "cell_type": "markdown",
   "metadata": {},
   "source": [
    "### La función ```time.ctime()```.\n",
    "\n",
    "Regresa una cadena con formato en inglés ```'<dia de la semana> <mes> <número del día del mes> <horas>:<minutos>:<segundos> <año>'``` a partir de un número que se ingresa como argumento y que corresponde a los segundos transcurridos a partir de \"*epoch*\". Se usará el huso horario local.\n",
    "\n",
    "```\n",
    "time.ctime(<estampa de tiempo>)\n",
    "```\n",
    "\n",
    "Donde:\n",
    "\n",
    "* ```<estampa de tiempo>``` es un numero entero que corresponde a los segundos transcurridos desde \"*epoch*\"."
   ]
  },
  {
   "cell_type": "markdown",
   "metadata": {},
   "source": [
    "**Ejemplos:**"
   ]
  },
  {
   "cell_type": "markdown",
   "metadata": {},
   "source": [
    "* La siguiente celda desplegará la fecha de la estampa de tiempo ```1234567890``` ingresada como argumento."
   ]
  },
  {
   "cell_type": "code",
   "execution_count": null,
   "metadata": {},
   "outputs": [],
   "source": [
    "time.ctime(1234567890)"
   ]
  },
  {
   "cell_type": "markdown",
   "metadata": {},
   "source": [
    "* La siguiente celda regresará la fecha de \"*epoch*\" ."
   ]
  },
  {
   "cell_type": "code",
   "execution_count": null,
   "metadata": {},
   "outputs": [],
   "source": [
    "time.ctime(0)"
   ]
  },
  {
   "cell_type": "markdown",
   "metadata": {},
   "source": [
    "* La siguiente celda regresará la fecha y hora actual."
   ]
  },
  {
   "cell_type": "code",
   "execution_count": null,
   "metadata": {
    "scrolled": true
   },
   "outputs": [],
   "source": [
    "time.ctime(time.time())"
   ]
  },
  {
   "cell_type": "markdown",
   "metadata": {},
   "source": [
    "### La función ```time.gmtime()```.\n",
    "\n",
    "Esta función regresa una estructura de tupla de tiempo con la hora del Meridiano de Greenwich (*GMT*) a partir de la estampa de tiempo que se ingresa como argumento. En caso de no ingresar un argumento, se tomará el conteo del momento en el que se ejecuta la función.\n",
    "\n",
    "```\n",
    "time.gtime(<estampa de tiempo>)\n",
    "```\n",
    "\n",
    "Donde: \n",
    "\n",
    "* ```<estampa de tiempo>``` es un numero entero que corresponde a los segundos transcurridos desde \"*epoch*\"."
   ]
  },
  {
   "cell_type": "markdown",
   "metadata": {},
   "source": [
    "**Ejemplos:**"
   ]
  },
  {
   "cell_type": "markdown",
   "metadata": {},
   "source": [
    "* La siguiente celda mostrará una tupla de tiempo con la hora actual basada en el *GMT*."
   ]
  },
  {
   "cell_type": "code",
   "execution_count": null,
   "metadata": {},
   "outputs": [],
   "source": [
    "time.gmtime()"
   ]
  },
  {
   "cell_type": "markdown",
   "metadata": {},
   "source": [
    "* La siguiente celda mostrará una tupla de tiempo basaso en el *GMT* correspondiente a la estampa de tiempo ```1234567890``` ingresada como argumento."
   ]
  },
  {
   "cell_type": "code",
   "execution_count": null,
   "metadata": {},
   "outputs": [],
   "source": [
    "time.gmtime(1234567890)"
   ]
  },
  {
   "cell_type": "markdown",
   "metadata": {},
   "source": [
    "* La siguiente celda mostrará una tupla de tiempo basada en el *GMT* correspondiente a \"*epoch*\" ingresada como argumento en valor de ```0```."
   ]
  },
  {
   "cell_type": "code",
   "execution_count": null,
   "metadata": {},
   "outputs": [],
   "source": [
    "time.gmtime(0)"
   ]
  },
  {
   "cell_type": "markdown",
   "metadata": {},
   "source": [
    "### La función ```time.localtime()```.\n",
    "\n",
    "Esta función regresa una estructura de tupla de tiempo con el uso horario configurado en el sistema local a partir de la estampa de tiempo que se ingresa como argumento. En caso de no ingresar un argumento, se tomará el conteo del momento en el que se ejecuta la función.\n",
    "\n",
    "```\n",
    "time.gtime(<estampa de tiempo>)\n",
    "```\n",
    "\n",
    "\n",
    "Donde: \n",
    "\n",
    "* ```<estampa de tiempo>``` es un numero entero que corresponde a los segundos transcurridos desde \"*epoch*\"."
   ]
  },
  {
   "cell_type": "markdown",
   "metadata": {},
   "source": [
    "**Ejemplos:**"
   ]
  },
  {
   "cell_type": "markdown",
   "metadata": {},
   "source": [
    "* La siguiente celda mostrará una tupla de tiempo correspondiente a la estampa de tiempo ingresada como argumento usando el huso horario del sistema."
   ]
  },
  {
   "cell_type": "code",
   "execution_count": null,
   "metadata": {},
   "outputs": [],
   "source": [
    "time.localtime()"
   ]
  },
  {
   "cell_type": "markdown",
   "metadata": {},
   "source": [
    "* La siguiente celda mostrará una tupla de tiempo correspondiente a la estampa de tiempo ```1234567890``` ingresada como argumento usando el huso horario local del sistema."
   ]
  },
  {
   "cell_type": "code",
   "execution_count": null,
   "metadata": {},
   "outputs": [],
   "source": [
    "time.localtime(1234567890)"
   ]
  },
  {
   "cell_type": "markdown",
   "metadata": {},
   "source": [
    "* La siguiente celda mostrará una tupla de tiempo correspondiente a \"*epoch*\" usando el huso horario local del sistema."
   ]
  },
  {
   "cell_type": "code",
   "execution_count": null,
   "metadata": {},
   "outputs": [],
   "source": [
    "time.localtime(0)"
   ]
  },
  {
   "cell_type": "markdown",
   "metadata": {},
   "source": [
    "### La función ```time.asctime()```.\n",
    "\n",
    "Regresa una cadena de caracteres con la fecha que se ingresa como una tupla de tiempo.\n",
    "\n",
    "```\n",
    "time.asctime(<tupla de tiempo>)\n",
    "```\n",
    "\n",
    "Donde:\n",
    "\n",
    "* ```<tupla de tiempo>``` corresponde a una fecha y hora expresada como una tupla de tiempo."
   ]
  },
  {
   "cell_type": "markdown",
   "metadata": {},
   "source": [
    "**Ejemplo:**"
   ]
  },
  {
   "cell_type": "code",
   "execution_count": null,
   "metadata": {},
   "outputs": [],
   "source": [
    "time.localtime()"
   ]
  },
  {
   "cell_type": "code",
   "execution_count": null,
   "metadata": {
    "scrolled": true
   },
   "outputs": [],
   "source": [
    "time.asctime(time.localtime())"
   ]
  },
  {
   "cell_type": "markdown",
   "metadata": {},
   "source": [
    "### La función ```time.sleep()```.\n",
    "\n",
    "Permite detener la ejecución de un script durante un tiempo defindo en segundos.\n",
    "\n",
    "```\n",
    "time.sleep(<n>)\n",
    "```\n",
    "\n",
    "Donde:\n",
    "\n",
    "* ```<n>``` es el número de segundos que deberá de denetnerse la ejecución del intérprete."
   ]
  },
  {
   "cell_type": "markdown",
   "metadata": {},
   "source": [
    "**Ejemplo:**"
   ]
  },
  {
   "cell_type": "markdown",
   "metadata": {},
   "source": [
    "* La siguiente celda desplegará un mensaje y ```15``` segundos después desplegará otro mensaje."
   ]
  },
  {
   "cell_type": "code",
   "execution_count": null,
   "metadata": {},
   "outputs": [],
   "source": [
    "print('Hola')\n",
    "time.sleep(15)\n",
    "print('Hola, de nuevo.')"
   ]
  },
  {
   "cell_type": "markdown",
   "metadata": {},
   "source": [
    "## El módulo ```datetime```.\n",
    "\n",
    "Este módulo contiene clases relativas al manejo de fechas. A diferencia del módulo ```time```, los datos de tiempo representan atributos de los siguientes tipos.\n",
    "\n",
    "\n",
    "* ```datetime.time```. Corresponde a un tipo que contiene datos de horas como atributos.\n",
    "* ```datetime.date```. Corresponde a un tipo que contiene datos de fechas como atributos.\n",
    "* ```datetime.datetime```.  Corresponde a un tipo que contiene datos de fechas y horas como atributos.\n",
    "* ```datetime.timedelta```. Corresponde a una clase que puede manipular diferencias horarias.\n",
    "\n",
    "La documentación del módulo ```datetime``` se encuentra en:\n",
    "\n",
    "https://docs.python.org/3/library/datetime.html\n",
    "\n",
    "**Nota:** Se utilizará al tipo ```datetime.datetime``` en vista de que contiene a los atributos y métodos tanto de  ```datetime.time``` como de  ```datetime.date```,"
   ]
  },
  {
   "cell_type": "markdown",
   "metadata": {},
   "source": [
    "## El tipo ```datetime.datetime```.\n",
    "\n",
    "Este tipo permite crear objetos de fecha y hora, ingresando una sucesión de datos en forma de una tupla de tiempo.\n",
    "\n",
    "```\n",
    "datetime.datetime{<tupla de tiempo>)\n",
    "```\n",
    "\n",
    "Donde:\n",
    "\n",
    "* ```<tupla de tiempo>``` corresponde a una fecha y hora determinada descrita como una tupla de tiempo.\n",
    "\n",
    "Los atributos de estos objetos son:\n",
    "\n",
    "* ```year```, el cual corresponde al año de la fecha que contiene.\n",
    "* ```month```, el cual corresponde al mes de la fecha que contiene.\n",
    "* ```day```, el cual corresponde al día de la fecha que contiene.\n",
    "* ```minute```, el cual corresponde al minuto de la fecha que contiene.\n",
    "* ```second```, el cual corresponde al segundo de la fecha que contiene."
   ]
  },
  {
   "cell_type": "markdown",
   "metadata": {},
   "source": [
    "**Ejemplo:**"
   ]
  },
  {
   "cell_type": "markdown",
   "metadata": {},
   "source": [
    "* Se importará ```datetime.datetime```."
   ]
  },
  {
   "cell_type": "code",
   "execution_count": null,
   "metadata": {},
   "outputs": [],
   "source": [
    "from datetime import datetime"
   ]
  },
  {
   "cell_type": "markdown",
   "metadata": {},
   "source": [
    "Se creará el objeto con nombre ```fecha_nacimiento``` correspondiente al 25 de diciembre de 1984 a las 15:25 horas."
   ]
  },
  {
   "cell_type": "code",
   "execution_count": null,
   "metadata": {},
   "outputs": [],
   "source": [
    "fecha_nacimiento = datetime(1984, 12, 25, 15, 25)"
   ]
  },
  {
   "cell_type": "code",
   "execution_count": null,
   "metadata": {
    "scrolled": false
   },
   "outputs": [],
   "source": [
    "type(fecha_nacimiento)"
   ]
  },
  {
   "cell_type": "markdown",
   "metadata": {},
   "source": [
    "* Las siguientes celdas mostrarán los atributos del objeto ```fecha_nacimiento```."
   ]
  },
  {
   "cell_type": "code",
   "execution_count": null,
   "metadata": {},
   "outputs": [],
   "source": [
    "fecha_nacimiento.month"
   ]
  },
  {
   "cell_type": "code",
   "execution_count": null,
   "metadata": {},
   "outputs": [],
   "source": [
    "fecha_nacimiento.year"
   ]
  },
  {
   "cell_type": "code",
   "execution_count": null,
   "metadata": {},
   "outputs": [],
   "source": [
    "fecha_nacimiento.day"
   ]
  },
  {
   "cell_type": "code",
   "execution_count": null,
   "metadata": {},
   "outputs": [],
   "source": [
    "fecha_nacimiento.hour"
   ]
  },
  {
   "cell_type": "code",
   "execution_count": null,
   "metadata": {},
   "outputs": [],
   "source": [
    "fecha_nacimiento.minute"
   ]
  },
  {
   "cell_type": "code",
   "execution_count": null,
   "metadata": {},
   "outputs": [],
   "source": [
    "fecha_nacimiento.tzname()"
   ]
  },
  {
   "cell_type": "code",
   "execution_count": null,
   "metadata": {},
   "outputs": [],
   "source": [
    "fecha_nacimiento.second"
   ]
  },
  {
   "cell_type": "markdown",
   "metadata": {},
   "source": [
    "### Los métodos```datetime.datetime.time()``` y ```datetime.datetime.date()```.\n",
    "\n",
    "Estos métodos regresan objetos del tipo indicado."
   ]
  },
  {
   "cell_type": "markdown",
   "metadata": {},
   "source": [
    "**Ejemplos:**"
   ]
  },
  {
   "cell_type": "code",
   "execution_count": null,
   "metadata": {},
   "outputs": [],
   "source": [
    "fecha_nacimiento.time()"
   ]
  },
  {
   "cell_type": "code",
   "execution_count": null,
   "metadata": {},
   "outputs": [],
   "source": [
    "fecha_nacimiento.date()"
   ]
  },
  {
   "cell_type": "markdown",
   "metadata": {},
   "source": [
    "### El  método ```datetime.datetime.now()```.\n",
    "\n",
    "Regresa un objeto de tipo ```datetime.datetime``` con la hora del momento en el que se ejecutó el método."
   ]
  },
  {
   "cell_type": "markdown",
   "metadata": {},
   "source": [
    "**Ejemplo:**"
   ]
  },
  {
   "cell_type": "code",
   "execution_count": null,
   "metadata": {},
   "outputs": [],
   "source": [
    "datetime.now()"
   ]
  },
  {
   "cell_type": "markdown",
   "metadata": {},
   "source": [
    "### El  método ```datetime.datetime.timestamp()```.\n",
    "\n",
    "Regresa el número de segundos desde \"epoch\" a partir de un objeto ```datetime.datetime```.\n",
    "\n",
    "```\n",
    "datetime.datetime.timestamp(<objeto de fecha>)\n",
    "```\n",
    "\n",
    "Donde:\n",
    "\n",
    "* ```<objeto de fecha>``` es un objeto de tipo ```datetime.datetime```"
   ]
  },
  {
   "cell_type": "markdown",
   "metadata": {},
   "source": [
    "**Ejemplo:**"
   ]
  },
  {
   "cell_type": "code",
   "execution_count": null,
   "metadata": {},
   "outputs": [],
   "source": [
    "datetime.timestamp(fecha_nacimiento)"
   ]
  },
  {
   "cell_type": "code",
   "execution_count": null,
   "metadata": {},
   "outputs": [],
   "source": [
    "fecha_nacimiento.timestamp()"
   ]
  },
  {
   "cell_type": "code",
   "execution_count": null,
   "metadata": {
    "scrolled": false
   },
   "outputs": [],
   "source": [
    "datetime.timestamp(datetime(2018, 6, 13, 22, 45))"
   ]
  },
  {
   "cell_type": "code",
   "execution_count": null,
   "metadata": {},
   "outputs": [],
   "source": [
    "datetime.timestamp(datetime.now())"
   ]
  },
  {
   "cell_type": "markdown",
   "metadata": {},
   "source": [
    "### El  método ```datetime.datetime.fromtimestamp()```.\n",
    "\n",
    "Regresa la fecha a partir de una estampa de tiempo."
   ]
  },
  {
   "cell_type": "code",
   "execution_count": null,
   "metadata": {},
   "outputs": [],
   "source": [
    "datetime.fromtimestamp(5131231239)"
   ]
  },
  {
   "cell_type": "markdown",
   "metadata": {},
   "source": [
    "### El  método ```datetime.datetime.isoweekday()```.\n",
    "\n",
    "Regresa el número de de día de la semana al que corresponde la fecha, siendo ```1```= lunes y así sucesivamente hasta ```7```= domingo."
   ]
  },
  {
   "cell_type": "markdown",
   "metadata": {},
   "source": [
    "**Ejemplos:**"
   ]
  },
  {
   "cell_type": "code",
   "execution_count": null,
   "metadata": {},
   "outputs": [],
   "source": [
    "fecha_nacimiento.isoweekday()"
   ]
  },
  {
   "cell_type": "code",
   "execution_count": null,
   "metadata": {},
   "outputs": [],
   "source": [
    "datetime.isoweekday(datetime(2018, 5, 13))"
   ]
  },
  {
   "cell_type": "code",
   "execution_count": null,
   "metadata": {},
   "outputs": [],
   "source": [
    "datetime.isoweekday(datetime.now())"
   ]
  },
  {
   "cell_type": "markdown",
   "metadata": {},
   "source": [
    "## Períodos de tiempo.\n",
    "\n",
    "Es muy común hacer comparaciones entre fechas o tratar de calcular fechas próximas que implican períodos de tiempo."
   ]
  },
  {
   "cell_type": "markdown",
   "metadata": {},
   "source": [
    "### La clase ```datime.timedelta```.\n",
    "\n",
    "La clase ```datime.timedelta``` permite definir guardar periodos de tiempo determinados.\n",
    "\n",
    "Las instancias de dicha clase se definen de la siguiente manera:\n",
    "\n",
    "```\n",
    "timedelta(<argumentos>)\n",
    "```\n",
    "\n",
    "Los argumentos para ```timedelta``` pueden ser una combinación de los siguientes parámetros:\n",
    "\n",
    "* ```weeks``` para semanas.\n",
    "* ```days``` para días. \n",
    "* ```hours``` para horas.\n",
    "* ```minutes``` para minutos.\n",
    "* ```seconds``` para segundos. \n",
    "* ```milliseconds``` para milisegundos.\n",
    "* ```microseconds``` para microsegundos.\n",
    "\n",
    "Aún cuando se pueden definir tiempos en los períodos enumerados, los objetos instaciados sólo tienen los atributos:\n",
    "\n",
    "* ```days```\n",
    "* ```seconds```\n",
    "* ```milliseconds```\n",
    "\n",
    "Cada uno de estos atributos complementa a los otros. Es decir, que el atributo *seconds* no calcula todos los segundos del período de tiempo, sino sólo aquellos segundos excedentes que no completan  un día."
   ]
  },
  {
   "cell_type": "markdown",
   "metadata": {},
   "source": [
    "**Ejemplos:**"
   ]
  },
  {
   "cell_type": "code",
   "execution_count": null,
   "metadata": {},
   "outputs": [],
   "source": [
    "from datetime import timedelta"
   ]
  },
  {
   "cell_type": "code",
   "execution_count": null,
   "metadata": {},
   "outputs": [],
   "source": [
    "timedelta(weeks=4, days=3, hours=12, microseconds=4)"
   ]
  },
  {
   "cell_type": "code",
   "execution_count": null,
   "metadata": {},
   "outputs": [],
   "source": [
    "periodo = timedelta(weeks=4, days=3, hours=12, microseconds=4)"
   ]
  },
  {
   "cell_type": "code",
   "execution_count": null,
   "metadata": {},
   "outputs": [],
   "source": [
    "periodo.days"
   ]
  },
  {
   "cell_type": "code",
   "execution_count": null,
   "metadata": {},
   "outputs": [],
   "source": [
    "periodo.seconds /60 /60"
   ]
  },
  {
   "cell_type": "markdown",
   "metadata": {},
   "source": [
    "### Diferencia de fechas.\n",
    "\n",
    "El operador de sustracción ```-``` se utiliza para calcular diferencias de fechas y horas entre objetos instanciados de ```datetime.time```, ```datetime.date```  y ```datetime.datetime```. El resultado es un objeto de tipo ```datetime.timedelta```."
   ]
  },
  {
   "cell_type": "markdown",
   "metadata": {},
   "source": [
    "**Ejemplo:**"
   ]
  },
  {
   "cell_type": "code",
   "execution_count": null,
   "metadata": {},
   "outputs": [],
   "source": [
    "ahora = datetime.now()"
   ]
  },
  {
   "cell_type": "code",
   "execution_count": null,
   "metadata": {},
   "outputs": [],
   "source": [
    "nacimiento = datetime(1985, 7, 21, 15, 32)"
   ]
  },
  {
   "cell_type": "code",
   "execution_count": null,
   "metadata": {},
   "outputs": [],
   "source": [
    "diferencia = (ahora - nacimiento)"
   ]
  },
  {
   "cell_type": "code",
   "execution_count": null,
   "metadata": {},
   "outputs": [],
   "source": [
    "type(diferencia)"
   ]
  },
  {
   "cell_type": "code",
   "execution_count": null,
   "metadata": {
    "scrolled": true
   },
   "outputs": [],
   "source": [
    "diferencia.days"
   ]
  },
  {
   "cell_type": "code",
   "execution_count": null,
   "metadata": {},
   "outputs": [],
   "source": [
    "diferencia.days/365"
   ]
  },
  {
   "cell_type": "code",
   "execution_count": null,
   "metadata": {},
   "outputs": [],
   "source": [
    "diferencia.seconds /60/60"
   ]
  },
  {
   "cell_type": "markdown",
   "metadata": {},
   "source": [
    "## Cálculo de fechas a partir de un período de tiempo.\n",
    "\n",
    "Es posible calcular fechas combinando objetos instanciados de ```datetime.datetime```, *datetime.date* y *datetime.time* con objetos instanciados de ```datetime.timedelta``` para calcular fechas en un período de tiempo usando el ooperador de adición ```+``` y el de sustracción ```-```."
   ]
  },
  {
   "cell_type": "markdown",
   "metadata": {},
   "source": [
    "**Ejemplos:**"
   ]
  },
  {
   "cell_type": "code",
   "execution_count": null,
   "metadata": {},
   "outputs": [],
   "source": [
    "proxima_semana = datetime.now() + timedelta(days=7)"
   ]
  },
  {
   "cell_type": "code",
   "execution_count": null,
   "metadata": {},
   "outputs": [],
   "source": [
    "proxima_semana"
   ]
  },
  {
   "cell_type": "code",
   "execution_count": null,
   "metadata": {},
   "outputs": [],
   "source": [
    "semana_pasada = datetime.now() - timedelta(days=7)"
   ]
  },
  {
   "cell_type": "code",
   "execution_count": null,
   "metadata": {},
   "outputs": [],
   "source": [
    "semana_pasada"
   ]
  },
  {
   "cell_type": "code",
   "execution_count": null,
   "metadata": {},
   "outputs": [],
   "source": [
    "nacimiento + diferencia"
   ]
  },
  {
   "cell_type": "markdown",
   "metadata": {},
   "source": [
    "<p style=\"text-align: center\"><a rel=\"license\" href=\"http://creativecommons.org/licenses/by/4.0/\"><img alt=\"Licencia Creative Commons\" style=\"border-width:0\" src=\"https://i.creativecommons.org/l/by/4.0/80x15.png\" /></a><br />Esta obra está bajo una <a rel=\"license\" href=\"http://creativecommons.org/licenses/by/4.0/\">Licencia Creative Commons Atribución 4.0 Internacional</a>.</p>\n",
    "<p style=\"text-align: center\">&copy; José Luis Chiquete Valdivieso. 2020.</p>"
   ]
  }
 ],
 "metadata": {
  "kernelspec": {
   "display_name": "Python 3",
   "language": "python",
   "name": "python3"
  },
  "language_info": {
   "codemirror_mode": {
    "name": "ipython",
    "version": 3
   },
   "file_extension": ".py",
   "mimetype": "text/x-python",
   "name": "python",
   "nbconvert_exporter": "python",
   "pygments_lexer": "ipython3",
   "version": "3.6.9"
  }
 },
 "nbformat": 4,
 "nbformat_minor": 2
}
