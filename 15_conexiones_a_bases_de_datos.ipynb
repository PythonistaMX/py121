{
 "cells": [
  {
   "cell_type": "markdown",
   "metadata": {},
   "source": [
    "[![imagenes](imagenes/pythonista.png)](https://pythonista.mx)"
   ]
  },
  {
   "cell_type": "markdown",
   "metadata": {},
   "source": [
    "## La DB API de Python para bases de datos relacionales.\n",
    "\n",
    "Debido a que existen muy diversos gestores de bases de datos, tanto SQL como no-SQL, la comunidad de Python publicó la [PEP-249](https://www.python.org/dev/peps/pep-0249/), la cual define modelo genérico de API para la gestión de bases de datos, de tal modo que independienetemente de las paerticularidades del gestor,existan interfaces (clases, funciones y métodos) unificadas para acceder a los datos."
   ]
  },
  {
   "cell_type": "markdown",
   "metadata": {},
   "source": [
    "En la siguiente liga se puede consultar las diversas bases de datos  soportadas por Python: \n",
    "\n",
    "https://wiki.python.org/moin/DatabaseInterfaces"
   ]
  },
  {
   "cell_type": "markdown",
   "metadata": {},
   "source": [
    "## Conexión a MySQL.\n",
    "\n",
    "Para ilustrar una conexión y operación simple de una base de datos relacional se utilizará la base de datos MariaDB conectada mediante el driver *pymysql*.\n",
    "\n",
    "Para conocer más sobre *pymysql*, consultar la siguiente liga.\n",
    "\n",
    "https://pymysql.readthedocs.io/en/latest/"
   ]
  },
  {
   "cell_type": "code",
   "execution_count": null,
   "metadata": {},
   "outputs": [],
   "source": [
    "!pip install pymysql"
   ]
  },
  {
   "cell_type": "code",
   "execution_count": null,
   "metadata": {},
   "outputs": [],
   "source": [
    "import pymysql"
   ]
  },
  {
   "cell_type": "markdown",
   "metadata": {},
   "source": [
    "### El objeto *pymysql.connect*.\n",
    "\n",
    "El objeto *pymysql.connect* es un objeto instanciado de la clase *pymysql.connections.Connection*, el cual permite abrir una conexión a la base de datos con la siguiente sintaxis:\n",
    "\n",
    "``` python\n",
    "pymysql.connect(user=<objeto tipo str>, password=<objeto tipo str>,\n",
    "               host='<URL>', port='<puerto>', \n",
    "               database=<objeto tipo str>)\n",
    "```\n",
    "Existen algunos otros parámetros, pero los que se indican son los más comunes.\n",
    "\n",
    "Por defecto la URL del host es *localhost*, el puerto es el *3306* y la base datos es la principal."
   ]
  },
  {
   "cell_type": "markdown",
   "metadata": {},
   "source": [
    "**Ejemplo:**"
   ]
  },
  {
   "cell_type": "code",
   "execution_count": null,
   "metadata": {},
   "outputs": [],
   "source": [
    "conexion = pymysql.connect(user='root', password='0p3n5t4ck')"
   ]
  },
  {
   "cell_type": "markdown",
   "metadata": {},
   "source": [
    "### El método  *pymysql.connect.query()*.\n",
    "Este método permite ingresar consultas SQL a la base de datos ingresándola como parámetro."
   ]
  },
  {
   "cell_type": "markdown",
   "metadata": {},
   "source": [
    "**Ejemplo:**"
   ]
  },
  {
   "cell_type": "code",
   "execution_count": null,
   "metadata": {
    "scrolled": true
   },
   "outputs": [],
   "source": [
    "conexion.query(\"CREATE DATABASE pythonista;\")"
   ]
  },
  {
   "cell_type": "markdown",
   "metadata": {},
   "source": [
    "### El método *pymysql.connect.commit()*\n",
    "\n",
    "Este método permite realizar un commit a a la base de datos.\n"
   ]
  },
  {
   "cell_type": "code",
   "execution_count": null,
   "metadata": {},
   "outputs": [],
   "source": [
    "conexion.commit()"
   ]
  },
  {
   "cell_type": "markdown",
   "metadata": {},
   "source": [
    "### El método  *pymysql.connect.close()*\n",
    "Este método permite cerrar la conexión con la base de datos."
   ]
  },
  {
   "cell_type": "code",
   "execution_count": null,
   "metadata": {},
   "outputs": [],
   "source": [
    "conexion.close()"
   ]
  },
  {
   "cell_type": "markdown",
   "metadata": {},
   "source": [
    "### El objeto *pymysql.cursor*.\n",
    "\n",
    "Aún cuando es posible realizar operaciones de consulta con los objetos *pymysql.connect*, estos objetos se utilizan primordialmente para operaciones de conexión las bases de datos.\n",
    "\n",
    "El objeto cursor es una instancia de la clase *pymysql.cursors.Cursor*, el cual contiene los métodos:\n",
    "* *execute()*, con el que se pueden enviar instrucciones SQL a la base de datos.\n",
    "* *fetchone()*, con el que se obtiene el primer resultado de una búsqueda.\n",
    "* *fetchall()* con el que se obtienen todos los resultado de una búsqueda dentro de un bojeto de tipo *tuple*."
   ]
  },
  {
   "cell_type": "markdown",
   "metadata": {},
   "source": [
    "### La declaración *with* para conexiones de bases de datos.\n",
    "\n",
    "Las conexiones de bases de datos también pueden ser utilizadas dentro de una declaración *with*.\n",
    "\n",
    "De esta forma se abre una conexión y se crea un objeto de tipo *pymysql.cursor* que puede ser utilizado dentro del bloque de código inscrito a *with*. Tan pronto como el bloque es ejecutado, se realiza un commit de las acciones realizadas y se cierra la conexión.\n"
   ]
  },
  {
   "cell_type": "markdown",
   "metadata": {},
   "source": [
    "**Ejemplo:**"
   ]
  },
  {
   "cell_type": "code",
   "execution_count": null,
   "metadata": {},
   "outputs": [],
   "source": [
    "sql = 'SHOW DATABASES;'\n",
    "with pymysql.connect(user='root', password='0p3n5t4ck') as cursor:\n",
    "    print(type(cursor))\n",
    "    cursor.execute(sql)\n",
    "    print(cursor.fetchall())"
   ]
  },
  {
   "cell_type": "code",
   "execution_count": null,
   "metadata": {},
   "outputs": [],
   "source": [
    "with pymysql.connect(user='root', password='0p3n5t4ck') as conexion:\n",
    "    conexion.execute(\"DROP DATABASE pythonista;\")\n",
    "    print(cursor.fetchall())"
   ]
  },
  {
   "cell_type": "code",
   "execution_count": null,
   "metadata": {},
   "outputs": [],
   "source": [
    "sql = 'SHOW DATABASES;'\n",
    "with pymysql.connect(user='root', password='0p3n5t4ck') as cursor:\n",
    "    cursor.execute(sql)\n",
    "    print(cursor.fetchall())"
   ]
  },
  {
   "cell_type": "markdown",
   "metadata": {},
   "source": [
    "## Conexión a MongoDB.\n",
    "\n",
    "[MongoDB](https://www.mongodb.com/) es una base de datos muy popular que se basa en \"colecciones\" y \"documentos\" en formato JSON en vez de registros. \n",
    "\n",
    "La API de MongoDB para Python fue desarrollada por el mismo equipo de MongoDB.\n",
    "\n",
    "Para conocer más sobre el uso de la API de MongoDB consultar:\n",
    "\n",
    "http://api.mongodb.com/python/current/tutorial.html"
   ]
  },
  {
   "cell_type": "markdown",
   "metadata": {},
   "source": [
    "**Ejemplo:**\n",
    "\n",
    "Se realizará una conexión al servidor de Mongodb corriendo en el sistema local (*localhost*) y se consultará el estado del gestor."
   ]
  },
  {
   "cell_type": "code",
   "execution_count": null,
   "metadata": {},
   "outputs": [],
   "source": [
    "!pip install pymongo"
   ]
  },
  {
   "cell_type": "code",
   "execution_count": null,
   "metadata": {},
   "outputs": [],
   "source": [
    "from pymongo import MongoClient\n",
    "client = MongoClient(\"localhost\")\n",
    "db=client.admin\n",
    "serverStatusResult=db.command(\"serverStatus\")\n",
    "claves = [keys for keys in serverStatusResult]"
   ]
  },
  {
   "cell_type": "code",
   "execution_count": null,
   "metadata": {},
   "outputs": [],
   "source": [
    "claves"
   ]
  },
  {
   "cell_type": "code",
   "execution_count": null,
   "metadata": {},
   "outputs": [],
   "source": [
    "serverStatusResult['uptime']"
   ]
  },
  {
   "cell_type": "code",
   "execution_count": null,
   "metadata": {},
   "outputs": [],
   "source": [
    "serverStatusResult['host']"
   ]
  },
  {
   "cell_type": "code",
   "execution_count": null,
   "metadata": {},
   "outputs": [],
   "source": [
    "serverStatusResult['version']"
   ]
  },
  {
   "cell_type": "markdown",
   "metadata": {},
   "source": [
    "<p style=\"text-align: center\"><a rel=\"license\" href=\"http://creativecommons.org/licenses/by/4.0/\"><img alt=\"Licencia Creative Commons\" style=\"border-width:0\" src=\"https://i.creativecommons.org/l/by/4.0/80x15.png\" /></a><br />Esta obra está bajo una <a rel=\"license\" href=\"http://creativecommons.org/licenses/by/4.0/\">Licencia Creative Commons Atribución 4.0 Internacional</a>.</p>\n",
    "<p style=\"text-align: center\">&copy; José Luis Chiquete Valdivieso. 2019.</p>"
   ]
  }
 ],
 "metadata": {
  "kernelspec": {
   "display_name": "Python 3",
   "language": "python",
   "name": "python3"
  },
  "language_info": {
   "codemirror_mode": {
    "name": "ipython",
    "version": 3
   },
   "file_extension": ".py",
   "mimetype": "text/x-python",
   "name": "python",
   "nbconvert_exporter": "python",
   "pygments_lexer": "ipython3",
   "version": "3.6.9"
  }
 },
 "nbformat": 4,
 "nbformat_minor": 2
}
