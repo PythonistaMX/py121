{
 "cells": [
  {
   "cell_type": "markdown",
   "metadata": {},
   "source": [
    "[![imagenes/pythonista.png](imagenes/pythonista.png)](https:pythonista.mx)"
   ]
  },
  {
   "cell_type": "markdown",
   "metadata": {},
   "source": [
    "## Gestión de peticiones HTTP con *Requests*.\n",
    "\n",
    "El proyecto [*Requests*](http://docs.python-requests.org/en/master/) tiene como objetivo ofrecer una herramienta avanzada pero simple para realizar transacciones basadas en HTTP.\n",
    "\n",
    "Como su nombre lo indica, esta herramienta permite enviar peticiones (requests) a un servidor HTTP/1.1 y a su vez obtener las respuestas (responses) y mensajes enviados por dicho servidor."
   ]
  },
  {
   "cell_type": "markdown",
   "metadata": {},
   "source": [
    "Entre otras cosas, *Requests* es capaz de:\n",
    "\n",
    "* Manejar cookies.\n",
    "* Levantar conexiones SSL.\n",
    "* Gestionar flujos (streams).\n",
    "* Enviar encabezados a la medida.\n",
    "* Autenticarse de forma avazanda."
   ]
  },
  {
   "cell_type": "code",
   "execution_count": null,
   "metadata": {
    "scrolled": false
   },
   "outputs": [],
   "source": [
    "!pip install requests "
   ]
  },
  {
   "cell_type": "code",
   "execution_count": null,
   "metadata": {},
   "outputs": [],
   "source": [
    "import requests"
   ]
  },
  {
   "cell_type": "code",
   "execution_count": null,
   "metadata": {},
   "outputs": [],
   "source": [
    "help(requests)"
   ]
  },
  {
   "cell_type": "markdown",
   "metadata": {},
   "source": [
    "El paquete *requests* contiene funciones que emulan a los métodos propios de HTTP:\n",
    "\n",
    "* El método GET con *requests.get()*.\n",
    "* El método POST con *requests.post()*.\n",
    "* El método PUT con *requests.put()*.\n",
    "* El método PATCH con *requests.patch()*.\n",
    "* El método HEAD con *requests.head()*.\n",
    "* El método DELETE con *requests.delete()*.\n",
    "* El método CONNECT con *requests.connect()*.\n",
    "* El método OPTIONS con *requests.options()*.\n",
    "\n",
    "Cada una de estas funciones regresa un objeto con múltiples métodos y atributos con información sobre la comunicación entre el cliente y el servidor."
   ]
  },
  {
   "cell_type": "markdown",
   "metadata": {},
   "source": [
    "###  El sitio https://httpbin.org.\n",
    "\n",
    "Este sitio ofrece un servidor de prueba que regresa determinados datos a partir de peticiones de diversas índoles.\n",
    "\n",
    "Se utilizará para ejemplificar algunos usos del módulo *requests*."
   ]
  },
  {
   "cell_type": "markdown",
   "metadata": {},
   "source": [
    "### La función *request.get()*.\n",
    "Esta función envía una petición utilizando el método GET con la siguiente sintaxis:\n",
    "\n",
    "``` python\n",
    "requests.get('<URL>', params=<objeto tipo dict>)\n",
    "```\n",
    "**Ejemplos:**"
   ]
  },
  {
   "cell_type": "markdown",
   "metadata": {},
   "source": [
    "Se utilizará *requests.get()* sin ningún parámetro adicional."
   ]
  },
  {
   "cell_type": "code",
   "execution_count": null,
   "metadata": {},
   "outputs": [],
   "source": [
    "respuesta_get = requests.get('https://httpbin.org')"
   ]
  },
  {
   "cell_type": "code",
   "execution_count": null,
   "metadata": {},
   "outputs": [],
   "source": [
    "respuesta_get"
   ]
  },
  {
   "cell_type": "code",
   "execution_count": null,
   "metadata": {},
   "outputs": [],
   "source": [
    "dir(respuesta_get)"
   ]
  },
  {
   "cell_type": "code",
   "execution_count": null,
   "metadata": {},
   "outputs": [],
   "source": [
    "print(respuesta_get.headers)"
   ]
  },
  {
   "cell_type": "code",
   "execution_count": null,
   "metadata": {},
   "outputs": [],
   "source": [
    "print(respuesta_get.content)"
   ]
  },
  {
   "cell_type": "code",
   "execution_count": null,
   "metadata": {
    "scrolled": false
   },
   "outputs": [],
   "source": [
    "print(respuesta_get.text)"
   ]
  },
  {
   "cell_type": "code",
   "execution_count": null,
   "metadata": {},
   "outputs": [],
   "source": [
    "print(respuesta_get.status_code)"
   ]
  },
  {
   "cell_type": "code",
   "execution_count": null,
   "metadata": {},
   "outputs": [],
   "source": [
    "respuesta_get.close()"
   ]
  },
  {
   "cell_type": "markdown",
   "metadata": {},
   "source": [
    "Se utilizarán algunos parámetros para *requests_get()*."
   ]
  },
  {
   "cell_type": "code",
   "execution_count": null,
   "metadata": {},
   "outputs": [],
   "source": [
    "parametros = {'url': 'search-alias', 'field-keywords': 'python'}"
   ]
  },
  {
   "cell_type": "code",
   "execution_count": null,
   "metadata": {},
   "outputs": [],
   "source": [
    "respuesta_get = requests.get('https://amazon.com.mx', params=parametros)"
   ]
  },
  {
   "cell_type": "code",
   "execution_count": null,
   "metadata": {},
   "outputs": [],
   "source": [
    "print(respuesta_get.url)"
   ]
  },
  {
   "cell_type": "code",
   "execution_count": null,
   "metadata": {
    "scrolled": false
   },
   "outputs": [],
   "source": [
    "print(respuesta_get.text)"
   ]
  },
  {
   "cell_type": "code",
   "execution_count": null,
   "metadata": {
    "scrolled": true
   },
   "outputs": [],
   "source": [
    "import json\n",
    "print(json.dumps(respuesta_get.json(), indent=2))"
   ]
  },
  {
   "cell_type": "markdown",
   "metadata": {},
   "source": [
    "Se utilizará *request.get()* para obtener una imagen."
   ]
  },
  {
   "cell_type": "code",
   "execution_count": null,
   "metadata": {},
   "outputs": [],
   "source": [
    "imagen = requests.get(\"https://httpbin.org/image/png\")"
   ]
  },
  {
   "cell_type": "code",
   "execution_count": null,
   "metadata": {},
   "outputs": [],
   "source": [
    "print(imagen.content)"
   ]
  },
  {
   "cell_type": "markdown",
   "metadata": {},
   "source": [
    "Para desplegar una imagen se utilzará el módulo *Image* del paquete *iPython*."
   ]
  },
  {
   "cell_type": "code",
   "execution_count": null,
   "metadata": {},
   "outputs": [],
   "source": [
    "from IPython.display import Image"
   ]
  },
  {
   "cell_type": "code",
   "execution_count": null,
   "metadata": {},
   "outputs": [],
   "source": [
    "Image(imagen.content)"
   ]
  },
  {
   "cell_type": "code",
   "execution_count": null,
   "metadata": {},
   "outputs": [],
   "source": [
    "imagen.close()"
   ]
  },
  {
   "cell_type": "markdown",
   "metadata": {},
   "source": [
    "### La función *request.post()*.\n",
    "Esta función envía una petición utilizando el método PUT con la siguiente sintaxis:\n",
    "\n",
    "``` python\n",
    "requests.post('<URL>', data=<objeto>, json=<objeto tipo dict>)\n",
    "```\n",
    "**Ejemplo:**"
   ]
  },
  {
   "cell_type": "code",
   "execution_count": null,
   "metadata": {},
   "outputs": [],
   "source": [
    "import json"
   ]
  },
  {
   "cell_type": "code",
   "execution_count": null,
   "metadata": {},
   "outputs": [],
   "source": [
    "with requests.post('https://httpbin.org/post', data='Hola') as respuesta_post:\n",
    "    print(json.dumps(respuesta_post.json(), indent=2))"
   ]
  },
  {
   "cell_type": "code",
   "execution_count": null,
   "metadata": {},
   "outputs": [],
   "source": [
    "datos = {'nombre': 'Jose', 'apellido': 'Pérez'}"
   ]
  },
  {
   "cell_type": "code",
   "execution_count": null,
   "metadata": {},
   "outputs": [],
   "source": [
    "with requests.post('https://httpbin.org/post', json=datos) as respuesta_post:\n",
    "    print(respuesta_post.url)\n",
    "    print(json.dumps(respuesta_post.json(), indent=2))"
   ]
  },
  {
   "cell_type": "markdown",
   "metadata": {},
   "source": [
    "## Acceso a API que requieren autenticación OAuth.\n",
    "\n",
    "### Las bibliotecas *oauthlib* y  *requests_oauthlib*."
   ]
  },
  {
   "cell_type": "markdown",
   "metadata": {},
   "source": [
    "La biblioteca [*oauthlib*](https://oauthlib.readthedocs.io/en/latest/) es una biblioteca permite realizar la autenticación a un servidor hace uso del protocolo [OAuth](https://oauth.net/) para acceder a este. Sitios como Facebook, Twitter, Linkedin, GitHub y Google entre otros, utilizan este protocolo.\n",
    "\n",
    "Es posible acceder a sitios que utilizan dicho protocolo mediante el paquete *oauthlib* e incluso existe la biblioteca [*requests_oauthlib*](http://requests-oauthlib.readthedocs.io/en/latest/), la cual es una implementación de *requests* para acceder mediante este protocolo. "
   ]
  },
  {
   "cell_type": "markdown",
   "metadata": {},
   "source": [
    "En este ejemplo se hará una conexión a la API de Twitter, la cual utiliza la versión del protocolo OAuth 1."
   ]
  },
  {
   "cell_type": "code",
   "execution_count": null,
   "metadata": {
    "scrolled": true
   },
   "outputs": [],
   "source": [
    "!pip install requests_oauthlib"
   ]
  },
  {
   "cell_type": "code",
   "execution_count": null,
   "metadata": {},
   "outputs": [],
   "source": [
    "import json"
   ]
  },
  {
   "cell_type": "markdown",
   "metadata": {},
   "source": [
    "* La función *credenciales_tw()* toma las credenciales de accceso a la API de twitter."
   ]
  },
  {
   "cell_type": "code",
   "execution_count": null,
   "metadata": {},
   "outputs": [],
   "source": [
    "def credenciales_tw(fuente):\n",
    "    '''Regresa un objeto capaz de consumir la API de Twitter mediante \n",
    "    la lectura de un archivo que contiene las credenciales del desarrollador.'''\n",
    "    with open(fuente, 'r') as archivo:\n",
    "        (CONSUMER_KEY, CONSUMER_SECRET, OAUTH_TOKEN, \n",
    "        OAUTH_TOKEN_SECRET) = archivo.read().splitlines()\n",
    "        return CONSUMER_KEY, CONSUMER_SECRET,  OAUTH_TOKEN, OAUTH_TOKEN_SECRET"
   ]
  },
  {
   "cell_type": "markdown",
   "metadata": {},
   "source": [
    "* Se ejecuta la función *credenciales_tw* y se le asigna el nombre correspondiente a cada credencial obtenida."
   ]
  },
  {
   "cell_type": "code",
   "execution_count": null,
   "metadata": {},
   "outputs": [],
   "source": [
    "client_key, client_secret, resource_owner_key, resource_owner_secret = credenciales_tw('data/credenciales.txt')"
   ]
  },
  {
   "cell_type": "markdown",
   "metadata": {},
   "source": [
    "* Se importa la clase *OAuth1Session* de *requests_oauthlib* para iniciar la conexión con la API."
   ]
  },
  {
   "cell_type": "code",
   "execution_count": null,
   "metadata": {},
   "outputs": [],
   "source": [
    "from requests_oauthlib import OAuth1Session"
   ]
  },
  {
   "cell_type": "markdown",
   "metadata": {},
   "source": [
    "* Se inicia la conexión y se le asigna el nombre *twitter* al objeto resultante."
   ]
  },
  {
   "cell_type": "code",
   "execution_count": null,
   "metadata": {},
   "outputs": [],
   "source": [
    "twitter = OAuth1Session(client_key,client_secret, resource_owner_key, resource_owner_secret)"
   ]
  },
  {
   "cell_type": "markdown",
   "metadata": {},
   "source": [
    "* Se obtienen los datos de la cuenta del usuario al que pertencen las credenciales mediante el método GET, conforme a la especificación localizada en https://developer.twitter.com/en/docs/accounts-and-users/manage-account-settings/api-reference/get-account-settings"
   ]
  },
  {
   "cell_type": "code",
   "execution_count": null,
   "metadata": {},
   "outputs": [],
   "source": [
    "r = twitter.get('https://api.twitter.com/1.1/account/settings.json')"
   ]
  },
  {
   "cell_type": "markdown",
   "metadata": {},
   "source": [
    "* Se consultan algunos datos sobre la petición hecha a la API."
   ]
  },
  {
   "cell_type": "code",
   "execution_count": null,
   "metadata": {},
   "outputs": [],
   "source": [
    "r.status_code"
   ]
  },
  {
   "cell_type": "code",
   "execution_count": null,
   "metadata": {},
   "outputs": [],
   "source": [
    "print(json.dumps(r.json(), indent=2))"
   ]
  },
  {
   "cell_type": "code",
   "execution_count": null,
   "metadata": {},
   "outputs": [],
   "source": [
    "print(r.url)"
   ]
  },
  {
   "cell_type": "markdown",
   "metadata": {},
   "source": [
    "* Se realiza una búsqueda de los tuits que coincidan con los parámetros especificados en el objeto tipo *dict* con nombre *elementos_busqueda* mediante el método GET conforme a la especificación loccalizada en https://developer.twitter.com/en/docs/tweets/search/api-reference/get-search-tweets "
   ]
  },
  {
   "cell_type": "code",
   "execution_count": null,
   "metadata": {},
   "outputs": [],
   "source": [
    "elementos_busqueda = {'q': \"#python\", 'count': 2, 'lang': 'es'}"
   ]
  },
  {
   "cell_type": "code",
   "execution_count": null,
   "metadata": {},
   "outputs": [],
   "source": [
    "busqueda = twitter.get('https://api.twitter.com/1.1/search/tweets.json', params=elementos_busqueda)"
   ]
  },
  {
   "cell_type": "code",
   "execution_count": null,
   "metadata": {},
   "outputs": [],
   "source": [
    "print(busqueda.url)"
   ]
  },
  {
   "cell_type": "code",
   "execution_count": null,
   "metadata": {},
   "outputs": [],
   "source": [
    "print(json.dumps(busqueda.json(), indent=2))"
   ]
  },
  {
   "cell_type": "markdown",
   "metadata": {},
   "source": [
    "* Se cierra la conexión."
   ]
  },
  {
   "cell_type": "code",
   "execution_count": null,
   "metadata": {},
   "outputs": [],
   "source": [
    "twitter.close()"
   ]
  },
  {
   "cell_type": "markdown",
   "metadata": {},
   "source": [
    "<p style=\"text-align: center\"><a rel=\"license\" href=\"http://creativecommons.org/licenses/by/4.0/\"><img alt=\"Licencia Creative Commons\" style=\"border-width:0\" src=\"https://i.creativecommons.org/l/by/4.0/80x15.png\" /></a><br />Esta obra está bajo una <a rel=\"license\" href=\"http://creativecommons.org/licenses/by/4.0/\">Licencia Creative Commons Atribución 4.0 Internacional</a>.</p>\n",
    "<p style=\"text-align: center\">&copy; José Luis Chiquete Valdivieso. 2019.</p>"
   ]
  }
 ],
 "metadata": {
  "kernelspec": {
   "display_name": "Python 3",
   "language": "python",
   "name": "python3"
  },
  "language_info": {
   "codemirror_mode": {
    "name": "ipython",
    "version": 3
   },
   "file_extension": ".py",
   "mimetype": "text/x-python",
   "name": "python",
   "nbconvert_exporter": "python",
   "pygments_lexer": "ipython3",
   "version": "3.7.2"
  }
 },
 "nbformat": 4,
 "nbformat_minor": 2
}
