{
 "cells": [
  {
   "cell_type": "markdown",
   "metadata": {},
   "source": [
    "[![imagenes](imagenes/pythonista.png)](https://pythonista.mx)"
   ]
  },
  {
   "cell_type": "markdown",
   "metadata": {},
   "source": [
    "## El paquete _urllib_.\n",
    "\n",
    "El módulo _urllib_ permite acceder a cualquier recurso publicado en la red (páginas web, archivos, directorios, imágenes, etc) mediante diversos protocolos (HTTP, FTP, SFTP, etc).\n",
    "\n",
    "\n",
    "https://docs.python.org/3/library/urllib.html\n",
    "\n",
    "https://urllib3.readthedocs.io/en/latest/\n",
    "\n",
    "\n",
    "### El módulo _urllib.request_. \n",
    "\n",
    "El módulo _urllib.request_ permite acceder a un recurso publicado en internet mediante su URL y guardar la respuesta del servidor."
   ]
  },
  {
   "cell_type": "code",
   "execution_count": 1,
   "metadata": {},
   "outputs": [],
   "source": [
    "import urllib"
   ]
  },
  {
   "cell_type": "code",
   "execution_count": 2,
   "metadata": {},
   "outputs": [
    {
     "name": "stdout",
     "output_type": "stream",
     "text": [
      "Help on package urllib:\n",
      "\n",
      "NAME\n",
      "    urllib\n",
      "\n",
      "MODULE REFERENCE\n",
      "    https://docs.python.org/3.6/library/urllib\n",
      "    \n",
      "    The following documentation is automatically generated from the Python\n",
      "    source files.  It may be incomplete, incorrect or include features that\n",
      "    are considered implementation detail and may vary between Python\n",
      "    implementations.  When in doubt, consult the module reference at the\n",
      "    location listed above.\n",
      "\n",
      "PACKAGE CONTENTS\n",
      "    error\n",
      "    parse\n",
      "    request\n",
      "    response\n",
      "    robotparser\n",
      "\n",
      "FILE\n",
      "    /usr/lib/python3.6/urllib/__init__.py\n",
      "\n",
      "\n"
     ]
    }
   ],
   "source": [
    "help(urllib)"
   ]
  },
  {
   "cell_type": "code",
   "execution_count": 3,
   "metadata": {},
   "outputs": [],
   "source": [
    "import urllib.request"
   ]
  },
  {
   "cell_type": "code",
   "execution_count": 4,
   "metadata": {},
   "outputs": [],
   "source": [
    "pagina = urllib.request.urlopen('https://coder.mx')"
   ]
  },
  {
   "cell_type": "code",
   "execution_count": 5,
   "metadata": {},
   "outputs": [
    {
     "data": {
      "text/plain": [
       "<http.client.HTTPResponse at 0x7f5e9964d0f0>"
      ]
     },
     "execution_count": 5,
     "metadata": {},
     "output_type": "execute_result"
    }
   ],
   "source": [
    "pagina"
   ]
  },
  {
   "cell_type": "code",
   "execution_count": 6,
   "metadata": {},
   "outputs": [
    {
     "data": {
      "text/plain": [
       "['__abstractmethods__',\n",
       " '__class__',\n",
       " '__del__',\n",
       " '__delattr__',\n",
       " '__dict__',\n",
       " '__dir__',\n",
       " '__doc__',\n",
       " '__enter__',\n",
       " '__eq__',\n",
       " '__exit__',\n",
       " '__format__',\n",
       " '__ge__',\n",
       " '__getattribute__',\n",
       " '__gt__',\n",
       " '__hash__',\n",
       " '__init__',\n",
       " '__init_subclass__',\n",
       " '__iter__',\n",
       " '__le__',\n",
       " '__lt__',\n",
       " '__module__',\n",
       " '__ne__',\n",
       " '__new__',\n",
       " '__next__',\n",
       " '__reduce__',\n",
       " '__reduce_ex__',\n",
       " '__repr__',\n",
       " '__setattr__',\n",
       " '__sizeof__',\n",
       " '__str__',\n",
       " '__subclasshook__',\n",
       " '_abc_cache',\n",
       " '_abc_negative_cache',\n",
       " '_abc_negative_cache_version',\n",
       " '_abc_registry',\n",
       " '_checkClosed',\n",
       " '_checkReadable',\n",
       " '_checkSeekable',\n",
       " '_checkWritable',\n",
       " '_check_close',\n",
       " '_close_conn',\n",
       " '_get_chunk_left',\n",
       " '_method',\n",
       " '_peek_chunked',\n",
       " '_read1_chunked',\n",
       " '_read_and_discard_trailer',\n",
       " '_read_next_chunk_size',\n",
       " '_read_status',\n",
       " '_readall_chunked',\n",
       " '_readinto_chunked',\n",
       " '_safe_read',\n",
       " '_safe_readinto',\n",
       " 'begin',\n",
       " 'chunk_left',\n",
       " 'chunked',\n",
       " 'close',\n",
       " 'closed',\n",
       " 'code',\n",
       " 'debuglevel',\n",
       " 'detach',\n",
       " 'fileno',\n",
       " 'flush',\n",
       " 'fp',\n",
       " 'getcode',\n",
       " 'getheader',\n",
       " 'getheaders',\n",
       " 'geturl',\n",
       " 'headers',\n",
       " 'info',\n",
       " 'isatty',\n",
       " 'isclosed',\n",
       " 'length',\n",
       " 'msg',\n",
       " 'peek',\n",
       " 'read',\n",
       " 'read1',\n",
       " 'readable',\n",
       " 'readinto',\n",
       " 'readinto1',\n",
       " 'readline',\n",
       " 'readlines',\n",
       " 'reason',\n",
       " 'seek',\n",
       " 'seekable',\n",
       " 'status',\n",
       " 'tell',\n",
       " 'truncate',\n",
       " 'url',\n",
       " 'version',\n",
       " 'will_close',\n",
       " 'writable',\n",
       " 'write',\n",
       " 'writelines']"
      ]
     },
     "execution_count": 6,
     "metadata": {},
     "output_type": "execute_result"
    }
   ],
   "source": [
    "dir(pagina)"
   ]
  },
  {
   "cell_type": "code",
   "execution_count": 7,
   "metadata": {
    "scrolled": true
   },
   "outputs": [
    {
     "name": "stdout",
     "output_type": "stream",
     "text": [
      "b'<!DOCTYPE html>\\n<html>\\n<head>\\n<title>Inicio</title>\\n<meta name=\"ROBOTS\" content=\"NOINDEX, NOFOLLOW\">\\n<meta http-equiv=\"content-type\" content=\"text/html; charset=UTF-8\">\\n<meta http-equiv=\"content-type\" content=\"application/xhtml+xml; charset=UTF-8\">\\n<meta http-equiv=\"content-style-type\" content=\"text/css\">\\n<link href=\"style.css\" rel=\"stylesheet\" type=\"text/css\">\\n</head>\\n<body>\\n<!DOCTYPE html>\\r\\n<html>\\r\\n<head>\\r\\n<title>PRINCIPAL</title>\\r\\n<meta http-equiv=\"content-type\" content=\"text/html; charset=UTF-8\">\\n<meta http-equiv=\"content-type\" content=\"application/xhtml+xml; charset=UTF-8\">\\r\\n<link href=\"style.css\" rel=\"stylesheet\" type=\"text/css\" />\\r\\n</head>\\r\\n<body>\\n<header id=\"encabezado\">\\n  <a href=\"index.html#encabezado\">\\n   <h1>\\n   Restaurante-Bar <br>\\n   <span id=\"nombre\">\"La Fonda de la Marquesa\"</span><br>\\n   El lugar de los amigos y c\\xc3\\xb3mplices desde 1987</h1>\\r\\n  </a>\\n</header>\\n <div id=\"container\">\\n <nav>\\n    <p>\\r\\n    <ul> \\r\\n       <li><a class=\"activo\" href=\"#\">Principal</a></li>\\r\\n       <li><a href=\"menu.html\">Men\\xc3\\xba</a></li>\\r\\n       <li><a href=\"equipo.html\">Equipo</a></li>\\r\\n    </ul>\\n    </p>\\r\\n  </nav>\\r\\n    <p class=\"oferta\">Somos la mejor opci\\xc3\\xb3n de la nueva <b>cocina mexicana</b> al sur de la Ciudad de M\\xc3\\xa9xico.<br>\\n    Nuestros platillos est\\xc3\\xa1n basados en las t\\xc3\\xadpicas recetas de la abuela, pero con un toque de modernidad.<br>\\n    </p>\\n    <blockquote>\"\\xc2\\xa1El pan de pulque es tan delicioso como los recuerdos de mi juventud!\"<br>\\n    -Rigoberto Astudillo. Cliente desde 2004.</blockquote>\\r\\n    <p> <img src=\"icono_superior.png\"/><br>\\n    <p class=\"oferta\">Este mes le ofrecemos nuestro <em>Men\\xc3\\xba Tradicional</em> de <s>$250.00</s> a s\\xc3\\xb3lo $180.00 pesos. <br>\\n<sub>No incluye bebidas</sub></p>\\n<p>Pregunte por nuestros paquetes para grupos y eventos especiales.</p>\\n<p>Somos orgullosos miembros de la <abbr title=\"Asociaci\\xc3\\xb3n Mexicana de Comida Tradicional, A.C.\">AMECOT</abbr>.\\r\\n      <p><img src=\"icono_inferior.png\" alt=\"foto here\"/></p>\\r\\n          <p>S\\xc3\\xa1bados y Domingos, Desayuno Buffet. De 9:00 a 13:00hrs.</font></p>\\r\\n      <p><img src=\"icono_molcajete.png\" alt=\"foto here\"/></p>\\r\\n      <p> <a href=\"menu.html\">TOCA AQU\\xc3\\x8d PARA VER NUESTRO MEN\\xc3\\x9a.</a></p>\\r\\n      <p><img src=\"icono_chile.png\" alt=\"foto here\"/></p>\\r\\n      <p><a href=\"equipo.html\">TODOS LO QUE COLABORAMOS EN LA FONDA DE LA MARQUESA ESTAMOS PARA SERVIRTE.</a></p>\\r\\n  <footer>  \\n  <hr>\\n  <address>\\r\\n      Calle Mar del Oro No. 18, Col. San Jacinto el Bajo, Coyoac\\xc3\\xa1n, C.P. 100003, M\\xc3\\xa9xico, D.F.<br>\\n      Correo electr\\xc3\\xb3nico:<a href=\"mailto:reservaciones@fonda-marquesa.com.mx\"> reservaciones@fonda-marquesa.com.mx</a><br>\\n      Reservaciones al (55) 1161-11345\\r\\n </address>\\n</footer>\\r\\n</div>\\r\\n</body>\\r\\n</html>\\n</body>\\n</html>'\n"
     ]
    }
   ],
   "source": [
    "print(pagina.read())"
   ]
  },
  {
   "cell_type": "code",
   "execution_count": 8,
   "metadata": {},
   "outputs": [],
   "source": [
    "pagina.close()"
   ]
  },
  {
   "cell_type": "markdown",
   "metadata": {},
   "source": [
    "##  Escrutinio de HTML/XML con _BeautifulSoup_.\n",
    "\n",
    "El paquete [*BeautifulSoup*](https://www.crummy.com/software/BeautifulSoup/bs4/doc/#beautiful-soup-documentation) contiene una biblioteca especializada en análizar y buscar datos dentro de un archivo HTML mediante diversos tipos de criterios como:\n",
    "\n",
    "* Búsquedas de elementos HTML por medio de la estructura del DOM.\n",
    "* Búsquedas por medio de selectores.\n",
    "* Búsquedas de etiquetas.\n",
    "\n",
    "El nombre del paquete una vez instalado es *bs4*."
   ]
  },
  {
   "cell_type": "code",
   "execution_count": 9,
   "metadata": {},
   "outputs": [
    {
     "name": "stdout",
     "output_type": "stream",
     "text": [
      "Collecting beautifulsoup4\n",
      "  Downloading beautifulsoup4-4.9.0-py3-none-any.whl (109 kB)\n",
      "\u001b[K     |████████████████████████████████| 109 kB 405 kB/s eta 0:00:01\n",
      "\u001b[?25hCollecting soupsieve>1.2\n",
      "  Downloading soupsieve-2.0-py2.py3-none-any.whl (32 kB)\n",
      "Installing collected packages: soupsieve, beautifulsoup4\n",
      "Successfully installed beautifulsoup4-4.9.0 soupsieve-2.0\n",
      "\u001b[33mWARNING: You are using pip version 20.0.2; however, version 20.1 is available.\n",
      "You should consider upgrading via the '/home/oi/pythonista/bin/python -m pip install --upgrade pip' command.\u001b[0m\n"
     ]
    }
   ],
   "source": [
    "!pip install beautifulsoup4"
   ]
  },
  {
   "cell_type": "markdown",
   "metadata": {},
   "source": [
    "**Ejemplo:**\n",
    "\n",
    "Se cargará la página [html/index.html](html/index.html).\n",
    "\n",
    "**Nota:** Asegúrese que la ruta absoluta al archivo sea correcta."
   ]
  },
  {
   "cell_type": "code",
   "execution_count": 14,
   "metadata": {},
   "outputs": [
    {
     "data": {
      "text/plain": [
       "'/opt/oi/py121'"
      ]
     },
     "execution_count": 14,
     "metadata": {},
     "output_type": "execute_result"
    }
   ],
   "source": [
    "%pwd"
   ]
  },
  {
   "cell_type": "code",
   "execution_count": 16,
   "metadata": {},
   "outputs": [],
   "source": [
    "pagina = urllib.request.urlopen('file:///opt/oi/py121/html/index.html')\n",
    "html = pagina.read()"
   ]
  },
  {
   "cell_type": "code",
   "execution_count": 17,
   "metadata": {},
   "outputs": [
    {
     "name": "stdout",
     "output_type": "stream",
     "text": [
      "b'<!DOCTYPE html>\\n<html>\\n<head>\\n<title>La Fonda de la Marquesa</title>\\n\\n<meta http-equiv=\"content-type\" content=\"text/html; charset=UTF-8\">\\n<meta http-equiv=\"content-type\" content=\"application/xhtml+xml; charset=UTF-8\">\\n<meta http-equiv=\"content-style-type\" content=\"text/css\">\\n<link href=\"estilo.css\" rel=\"stylesheet\" type=\"text/css\" />\\n<meta http-equiv=\"expires\" content=\"0\">\\n</head>\\n<body>\\n<header>\\n<div id=\"banner\">\\n<a href=\"index.html\">\\n<br><br><br><br>\\n<p>Restaurante-Bar<br>\\n<span class=\"titulo\">\\n\"La Fonda de la Marquesa\"</span><br>\\nEl lugar de los amigos y c\\xc3\\xb3mplices desde 1987.</p>\\n</a>\\n</div>\\n<nav>\\n<ul>\\n<li><a href=\"index.html\">Inicio</a></li>\\n<li><a href=\"menu.html\">Men\\xc3\\xba</a></li>\\n<li><a href=\"personal.html\">Equipo</a></li>\\n</ul>\\n</nav>\\n</header>\\n<div id=\"contenedor\">\\n<p>Somos la mejor opci\\xc3\\xb3n de nueva <a href=\"http://es.wikipedia.org/wiki/Gastronom%C3%ADa_de_M%C3%A9xico\">cocina mexicana</a> al sur de la Ciudad de M\\xc3\\xa9xico.<br>\\nNuestros platillos est\\xc3\\xa1n basados en las t\\xc3\\xadpicas recetas de la abuela, pero con un toque de modernidad.</p>\\n<blockquote><p><strong>\\xc2\\xa1El pan de pulque es tan delicioso como los recuerdos de mi juventud!</strong><br>\\n-Rigoberto Astudillo. Cliente desde 2004.</p></blockquote>\\n<p><img class=\"separador\" src=\"icono_superior.png\"/></p>\\n<p>Este mes le ofrecemos nuestro <em>Men\\xc3\\xba Tradicional</em> de <s>$250.00</s> a s\\xc3\\xb3lo $180.00 pesos. <br>\\n<sub>No incluye bebidas</sub></p>\\n<p>S\\xc3\\xa1bados y Domingos, Desayuno Buffet<br>\\nDe 9:00 a 13:00hrs.</p>\\n<img class=\"separador\" src=\"icono_inferior.png\"/>\\n<p></p>\\n<p></p>\\n<p>Contamos con estacionamiento y Valet Parking.</p>\\n<p>Contamos con \\xc3\\xa1reas verdes y juegos para ni\\xc3\\xb1os.</p>\\n<p>Pregunte por nuestros paquetes para grupos y eventos especiales.</p>\\n<p>Somos orgullosos miembros de la <abbr title=\"Asociaci\\xc3\\xb3n Mexicana de Comida Tradicional, A.C.\">AMECOT</abbr>.\\n</div>\\n<footer>\\n<address>\\n<p>Calle Mar del Oro No. 18, Col. San Jacinto el Bajo, Coyoac\\xc3\\xa1n, C.P. 100003, M\\xc3\\xa9xico, D.F.</p>\\n<p>Reservaciones al (55) 1161-11345</p>\\n<p>Cont\\xc3\\xa1ctenos por nuestro <a href=\"mailto:ficticio@ficticio.edu.com\">correo electr\\xc3\\xb3nico.</a></p>\\n</address>\\n</footer>\\n</html>'\n"
     ]
    }
   ],
   "source": [
    "print(html)"
   ]
  },
  {
   "cell_type": "markdown",
   "metadata": {},
   "source": [
    "### La clase *bs4.BeautifulSoup*.\n",
    "\n",
    "Para poder realizar operaciones con un documento HTML es necesario crear un objeto a partir de la clase *bs4.BeautifulSoup* ingresando un objeto tipo *str* que contiene el código HTML y seleccionando el tipo de analizador a utilizar.\n",
    "\n",
    "```\n",
    "bs4.BeautifulSoup(<objeto tipo str>, <tipo de analizador>)\n",
    "```\n",
    "\n",
    "Beautifulsoup soporta varios tipos de analizadores del código, pero por defecto se utiliza *'html_parser'*.\n",
    "\n",
    "Para conocer más sobre las opciones de analizadores puede consultar https://www.crummy.com/software/BeautifulSoup/bs4/doc/#installing-a-parser."
   ]
  },
  {
   "cell_type": "code",
   "execution_count": 12,
   "metadata": {},
   "outputs": [],
   "source": [
    "import bs4"
   ]
  },
  {
   "cell_type": "code",
   "execution_count": 13,
   "metadata": {},
   "outputs": [
    {
     "ename": "TypeError",
     "evalue": "object of type 'module' has no len()",
     "output_type": "error",
     "traceback": [
      "\u001b[0;31m---------------------------------------------------------------------------\u001b[0m",
      "\u001b[0;31mTypeError\u001b[0m                                 Traceback (most recent call last)",
      "\u001b[0;32m<ipython-input-13-74d050ebbec0>\u001b[0m in \u001b[0;36m<module>\u001b[0;34m\u001b[0m\n\u001b[0;32m----> 1\u001b[0;31m \u001b[0msopa\u001b[0m \u001b[0;34m=\u001b[0m \u001b[0mbs4\u001b[0m\u001b[0;34m.\u001b[0m\u001b[0mBeautifulSoup\u001b[0m\u001b[0;34m(\u001b[0m\u001b[0mhtml\u001b[0m\u001b[0;34m,\u001b[0m \u001b[0;34m'html.parser'\u001b[0m\u001b[0;34m)\u001b[0m\u001b[0;34m\u001b[0m\u001b[0;34m\u001b[0m\u001b[0m\n\u001b[0m",
      "\u001b[0;32m~/pythonista/lib/python3.6/site-packages/bs4/__init__.py\u001b[0m in \u001b[0;36m__init__\u001b[0;34m(self, markup, features, builder, parse_only, from_encoding, exclude_encodings, element_classes, **kwargs)\u001b[0m\n\u001b[1;32m    285\u001b[0m         \u001b[0;32mif\u001b[0m \u001b[0mhasattr\u001b[0m\u001b[0;34m(\u001b[0m\u001b[0mmarkup\u001b[0m\u001b[0;34m,\u001b[0m \u001b[0;34m'read'\u001b[0m\u001b[0;34m)\u001b[0m\u001b[0;34m:\u001b[0m        \u001b[0;31m# It's a file-type object.\u001b[0m\u001b[0;34m\u001b[0m\u001b[0;34m\u001b[0m\u001b[0m\n\u001b[1;32m    286\u001b[0m             \u001b[0mmarkup\u001b[0m \u001b[0;34m=\u001b[0m \u001b[0mmarkup\u001b[0m\u001b[0;34m.\u001b[0m\u001b[0mread\u001b[0m\u001b[0;34m(\u001b[0m\u001b[0;34m)\u001b[0m\u001b[0;34m\u001b[0m\u001b[0;34m\u001b[0m\u001b[0m\n\u001b[0;32m--> 287\u001b[0;31m         elif len(markup) <= 256 and (\n\u001b[0m\u001b[1;32m    288\u001b[0m                 \u001b[0;34m(\u001b[0m\u001b[0misinstance\u001b[0m\u001b[0;34m(\u001b[0m\u001b[0mmarkup\u001b[0m\u001b[0;34m,\u001b[0m \u001b[0mbytes\u001b[0m\u001b[0;34m)\u001b[0m \u001b[0;32mand\u001b[0m \u001b[0;32mnot\u001b[0m \u001b[0;34mb'<'\u001b[0m \u001b[0;32min\u001b[0m \u001b[0mmarkup\u001b[0m\u001b[0;34m)\u001b[0m\u001b[0;34m\u001b[0m\u001b[0;34m\u001b[0m\u001b[0m\n\u001b[1;32m    289\u001b[0m                 \u001b[0;32mor\u001b[0m \u001b[0;34m(\u001b[0m\u001b[0misinstance\u001b[0m\u001b[0;34m(\u001b[0m\u001b[0mmarkup\u001b[0m\u001b[0;34m,\u001b[0m \u001b[0mstr\u001b[0m\u001b[0;34m)\u001b[0m \u001b[0;32mand\u001b[0m \u001b[0;32mnot\u001b[0m \u001b[0;34m'<'\u001b[0m \u001b[0;32min\u001b[0m \u001b[0mmarkup\u001b[0m\u001b[0;34m)\u001b[0m\u001b[0;34m\u001b[0m\u001b[0;34m\u001b[0m\u001b[0m\n",
      "\u001b[0;31mTypeError\u001b[0m: object of type 'module' has no len()"
     ]
    }
   ],
   "source": [
    "sopa = bs4.BeautifulSoup(html, 'html.parser')"
   ]
  },
  {
   "cell_type": "code",
   "execution_count": null,
   "metadata": {},
   "outputs": [],
   "source": [
    "type(sopa)"
   ]
  },
  {
   "cell_type": "code",
   "execution_count": null,
   "metadata": {},
   "outputs": [],
   "source": [
    "dir(sopa)"
   ]
  },
  {
   "cell_type": "markdown",
   "metadata": {},
   "source": [
    "### Despliegue del código HTML.\n",
    "El atributo _prettify()_ permite desplegar el código HTML de forma legible para los humanos."
   ]
  },
  {
   "cell_type": "code",
   "execution_count": null,
   "metadata": {
    "scrolled": false
   },
   "outputs": [],
   "source": [
    "print(sopa.prettify())"
   ]
  },
  {
   "cell_type": "markdown",
   "metadata": {},
   "source": [
    "### Acceso a elementos mediante DOM.\n",
    "\n",
    "DOM es el acrónimo de Modelo de Objeto de Documento por sus siglas en inglés y es la forma en la que un navegador interpreta un documento HTML dentro de una ventana.\n",
    "\n",
    "El DOM presenta una estructura similar a la del tronco de un árbol a partir del cual se bifurcan ramas. Se dice que el elemento HTML que contiene a otros elementos es el padre de estos. \n",
    "\n",
    "```                \n",
    "padre(parent)\n",
    "| hijos(children)\n",
    "├──elemento\n",
    "├──hermano(sibling)\n",
    "```\n",
    "\n",
    "Cuando se realizan búsquedas mediante el DOM, BeautifulSoup regresa el primer elemento con la etiqueta HTML que coincida."
   ]
  },
  {
   "cell_type": "markdown",
   "metadata": {},
   "source": [
    "### Los objetos de tipo *bs4.element.Tag*.\n",
    "\n",
    "El resultado es un objeto de tipo *bs4.element.Tag* que también contiene métodos y atributos de búsqueda e información del elemento. Los atributos principales que tienen estos objetos son:\n",
    "\n",
    "* *name*\n",
    "* *text*\n",
    "* *attribs*\n",
    "* *parent*\n",
    "* *children*\n",
    "* *sibling*"
   ]
  },
  {
   "cell_type": "markdown",
   "metadata": {},
   "source": [
    "**Ejemplos:**"
   ]
  },
  {
   "cell_type": "code",
   "execution_count": null,
   "metadata": {},
   "outputs": [],
   "source": [
    "sopa.title"
   ]
  },
  {
   "cell_type": "code",
   "execution_count": null,
   "metadata": {},
   "outputs": [],
   "source": [
    "type(sopa.title)"
   ]
  },
  {
   "cell_type": "code",
   "execution_count": null,
   "metadata": {},
   "outputs": [],
   "source": [
    "sopa.title.text"
   ]
  },
  {
   "cell_type": "code",
   "execution_count": null,
   "metadata": {},
   "outputs": [],
   "source": [
    "sopa.body"
   ]
  },
  {
   "cell_type": "code",
   "execution_count": null,
   "metadata": {},
   "outputs": [],
   "source": [
    "sopa.body.text"
   ]
  },
  {
   "cell_type": "code",
   "execution_count": null,
   "metadata": {
    "scrolled": true
   },
   "outputs": [],
   "source": [
    "[elemento for elemento in sopa.body.children]"
   ]
  },
  {
   "cell_type": "code",
   "execution_count": null,
   "metadata": {},
   "outputs": [],
   "source": [
    "[elemento for elemento in sopa.body.children][1]"
   ]
  },
  {
   "cell_type": "code",
   "execution_count": null,
   "metadata": {},
   "outputs": [],
   "source": [
    "sopa.a"
   ]
  },
  {
   "cell_type": "code",
   "execution_count": null,
   "metadata": {},
   "outputs": [],
   "source": [
    "sopa.a.name"
   ]
  },
  {
   "cell_type": "code",
   "execution_count": null,
   "metadata": {},
   "outputs": [],
   "source": [
    "sopa.a.text"
   ]
  },
  {
   "cell_type": "code",
   "execution_count": null,
   "metadata": {},
   "outputs": [],
   "source": [
    "sopa.a.attrs"
   ]
  },
  {
   "cell_type": "code",
   "execution_count": null,
   "metadata": {
    "scrolled": true
   },
   "outputs": [],
   "source": [
    "sopa.footer"
   ]
  },
  {
   "cell_type": "code",
   "execution_count": null,
   "metadata": {},
   "outputs": [],
   "source": [
    "sopa.footer.parent.name"
   ]
  },
  {
   "cell_type": "code",
   "execution_count": null,
   "metadata": {},
   "outputs": [],
   "source": [
    "[elemento for elemento in sopa.footer.children]"
   ]
  },
  {
   "cell_type": "code",
   "execution_count": null,
   "metadata": {},
   "outputs": [],
   "source": [
    "sopa.head"
   ]
  },
  {
   "cell_type": "code",
   "execution_count": null,
   "metadata": {},
   "outputs": [],
   "source": [
    "sopa.head.meta"
   ]
  },
  {
   "cell_type": "code",
   "execution_count": null,
   "metadata": {},
   "outputs": [],
   "source": [
    "sopa.body.a"
   ]
  },
  {
   "cell_type": "code",
   "execution_count": null,
   "metadata": {},
   "outputs": [],
   "source": [
    "sopa.head.meta.attrs"
   ]
  },
  {
   "cell_type": "code",
   "execution_count": null,
   "metadata": {},
   "outputs": [],
   "source": [
    "sopa.footer.parent.name"
   ]
  },
  {
   "cell_type": "markdown",
   "metadata": {},
   "source": [
    "### Acceso a elementos mediante selectores.\n",
    "\n",
    "El método *select()* permite definir búsquedads mendiante selectores, trayendo por resultado un objeto tipo *list* con todos los elementos que coinciden con al búsqueda comop objetos tipo *bs4.element.Tag*.\n",
    "\n",
    "Para saber más de selectores puede consultar:\n",
    "\n",
    "[https://developer.mozilla.org/en-US/docs/Learn/CSS/Introduction_to_CSS/Selectors](https://developer.mozilla.org/en-US/docs/Learn/CSS/Introduction_to_CSS/Selectors)"
   ]
  },
  {
   "cell_type": "code",
   "execution_count": null,
   "metadata": {
    "scrolled": true
   },
   "outputs": [],
   "source": [
    "sopa.body.select('a')"
   ]
  },
  {
   "cell_type": "code",
   "execution_count": null,
   "metadata": {},
   "outputs": [],
   "source": [
    "sopa.body.select('a')[0]"
   ]
  },
  {
   "cell_type": "code",
   "execution_count": null,
   "metadata": {},
   "outputs": [],
   "source": [
    "type(sopa.body.select('a')[0])"
   ]
  },
  {
   "cell_type": "markdown",
   "metadata": {},
   "source": [
    "### Otros métodos para acceder a elementos y datos de HTML.\n",
    "Los siguientes métodos también permiten realizar búsquedas de elementos.\n",
    " * *find()*.\n",
    " * *findall()*.\n",
    " * *findNext()*.\n",
    " * *findPrevious()*.\n",
    " * *fetchParents()*.\n",
    " * *fetchNextSiblings()*.\n",
    " * *fetchPreviousSiblings()*.\n",
    " * *fetchChildren()*.\n",
    " * *get_text()*.\n",
    " * *get()*.\n",
    " "
   ]
  },
  {
   "cell_type": "code",
   "execution_count": null,
   "metadata": {
    "scrolled": true
   },
   "outputs": [],
   "source": [
    "sopa.find_all(\"a\")"
   ]
  },
  {
   "cell_type": "code",
   "execution_count": null,
   "metadata": {},
   "outputs": [],
   "source": [
    "sopa.find(\"a\")"
   ]
  },
  {
   "cell_type": "code",
   "execution_count": null,
   "metadata": {},
   "outputs": [],
   "source": [
    "sopa.find(\"a\").findNext(\"a\")"
   ]
  },
  {
   "cell_type": "code",
   "execution_count": null,
   "metadata": {},
   "outputs": [],
   "source": [
    "sopa.find_all('img')"
   ]
  },
  {
   "cell_type": "code",
   "execution_count": null,
   "metadata": {},
   "outputs": [],
   "source": [
    "type(sopa.find_all('img')[0])"
   ]
  },
  {
   "cell_type": "code",
   "execution_count": null,
   "metadata": {},
   "outputs": [],
   "source": [
    "sopa.find_all('img')[0].parent"
   ]
  },
  {
   "cell_type": "code",
   "execution_count": null,
   "metadata": {},
   "outputs": [],
   "source": [
    "sopa.find(\"div\", {\"id\" : 'contenedor'})"
   ]
  },
  {
   "cell_type": "code",
   "execution_count": null,
   "metadata": {},
   "outputs": [],
   "source": [
    "sopa.head.fetchNextSiblings()"
   ]
  },
  {
   "cell_type": "code",
   "execution_count": null,
   "metadata": {},
   "outputs": [],
   "source": [
    "sopa.footer.get_text()"
   ]
  },
  {
   "cell_type": "code",
   "execution_count": null,
   "metadata": {},
   "outputs": [],
   "source": [
    "sopa.a.get('href')"
   ]
  },
  {
   "cell_type": "markdown",
   "metadata": {
    "collapsed": true
   },
   "source": [
    "<p style=\"text-align: center\"><a rel=\"license\" href=\"http://creativecommons.org/licenses/by/4.0/\"><img alt=\"Licencia Creative Commons\" style=\"border-width:0\" src=\"https://i.creativecommons.org/l/by/4.0/80x15.png\" /></a><br />Esta obra está bajo una <a rel=\"license\" href=\"http://creativecommons.org/licenses/by/4.0/\">Licencia Creative Commons Atribución 4.0 Internacional</a>.</p>\n",
    "<p style=\"text-align: center\">&copy; José Luis Chiquete Valdivieso. 2019.</p>"
   ]
  }
 ],
 "metadata": {
  "kernelspec": {
   "display_name": "Python 3 (ipykernel)",
   "language": "python",
   "name": "python3"
  },
  "language_info": {
   "codemirror_mode": {
    "name": "ipython",
    "version": 3
   },
   "file_extension": ".py",
   "mimetype": "text/x-python",
   "name": "python",
   "nbconvert_exporter": "python",
   "pygments_lexer": "ipython3",
   "version": "3.8.8"
  }
 },
 "nbformat": 4,
 "nbformat_minor": 2
}
