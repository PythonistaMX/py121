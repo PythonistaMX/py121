{
 "cells": [
  {
   "cell_type": "markdown",
   "metadata": {},
   "source": [
    "[![imagenes/pythonista.png](imagenes/pythonista.png)](https://pythonista.io)"
   ]
  },
  {
   "cell_type": "markdown",
   "metadata": {},
   "source": [
    "# Creación y lectura de archivos en formato *PDF*."
   ]
  },
  {
   "cell_type": "markdown",
   "metadata": {},
   "source": [
    "El formato *PDF* es un [estándar internacional](https://www.iso.org/standard/51502.html) para la creación de documentos que pueden ser desplegados o impresos de forma idéntica independientemente del dispositivo o aplicación que acceda a dichos documentos.\n",
    "\n",
    "El énfasis del formato *PDF* reside en la correcta legibilidad de la información para los seres humanos, poniendo en segundo término la estructura y orden de la información que contiene.\n"
   ]
  },
  {
   "cell_type": "markdown",
   "metadata": {},
   "source": [
    "## El paquete ```pdfkit```.\n",
    "\n",
    "El paquete ```pdfkit``` es una empaquetador (*wrapper*) de *Python* para la herramienta ```wkhtmltopdf```, el cual permite crear documentos *PDF* a partir de código *HTML*."
   ]
  },
  {
   "cell_type": "markdown",
   "metadata": {},
   "source": [
    "### La herramienta ```wkhtmltopdf```.\n",
    "\n",
    "El proyecto https://wkhtmltopdf.org/ ofrece una herramienta capaz de transformar código *HTML* en documentos *PDF*. Dicha herramienta se ejecuta directamente como un comando del sistema con la sintaxis.\n",
    "\n",
    "```\n",
    "wkhtmltopdf <archivo HTML de origen> <archivo PDF resultante> <parámetros>\n",
    "```"
   ]
  },
  {
   "cell_type": "markdown",
   "metadata": {},
   "source": [
    "La ejecución de ```wkhtmltopdf``` requiere del uso de la biblioteca [*Qt*](https://www.qt.io/). \n",
    "\n",
    "En el caso de las instalaciones en sistemas Windows, los binarios incluyen lo necesario para poder ejecutar la herramienta desde una terminal. Del mismo modo, los sistemas de escritorio basados en *GNU/Linux* también cuentan con un entorno gráfico gestionado por un *servidor X*. Sin embargo, es muy común que un servidor basado en *GNU/Linux* no cuente con un *servidor X* instalado.\n",
    "\n",
    "Para que ```pdfkit``` pueda funcionar, es necesario que el ejecutable de ```wkhtmltopdf``` se encuentre en una ruta conocida, por lo que en el caso de Windows, es necesario añadir esta ruta a la variable de entorno *PATH*."
   ]
  },
  {
   "cell_type": "markdown",
   "metadata": {},
   "source": [
    "### Instalación de ```wkhtmltopdf``` en un *servidor X* virtual en *Ubuntu*.\n",
    "\n",
    "La máquina virtual que fue descargada del sitio http://pythonista.io no cuenta con un *servidor X*, por lo que es necesario instalarlo al igual que el paquete ```wkhtmltopdf```.\n",
    "\n",
    "**Nota:** Este ejercicio representa el caso menos favorable. Si se utiliza esta herramienta desde un sistema *Windows* o desde un entorno gráfico *GNU/Linux*, el uso de esta herramienta es mucho más simple."
   ]
  },
  {
   "cell_type": "markdown",
   "metadata": {},
   "source": [
    "#### Instalación y configuración del *servidor X* virtual.\n",
    "El servidor X virtual o *X Virtual FrameBuffer* (*xvfb*) es una variante de un *servidor X* que realiza las mismas opraciones que uno convencional, pero no se despliega en pantalla. Se utiliza para realizar operaciones que requieren de un entrono gráfico en un sistema *GNU/Linux*."
   ]
  },
  {
   "cell_type": "markdown",
   "metadata": {},
   "source": [
    "* La siguiente celda instalará *X Virtual FrameBuffer*."
   ]
  },
  {
   "cell_type": "code",
   "execution_count": null,
   "metadata": {
    "scrolled": false
   },
   "outputs": [],
   "source": [
    "!sudo apt install xvfb -y"
   ]
  },
  {
   "cell_type": "markdown",
   "metadata": {},
   "source": [
    "#### Creación del archivo de definición de servicio.\n",
    "Una vez instalado *xvfb*, es necesario habilitarlo como un servicio añadiendo el archivo [```src/xvfb.service```](src/xvfb.service) en ```/etc/systemd/system/```.\n",
    "\n",
    "Dicho archivo contiene el siguiente código:\n",
    "\n",
    "``` bash\n",
    "[Unit]\n",
    "Description=Virtual Frame Buffer X Server\n",
    "After=network.target\n",
    "\n",
    "[Service]\n",
    "ExecStart=/usr/bin/Xvfb :42 -screen 0 1024x768x24 -ac +extension GLX +render -noreset\n",
    "\n",
    "[Install]\n",
    "WantedBy=multi-user.target\n",
    "```"
   ]
  },
  {
   "cell_type": "markdown",
   "metadata": {},
   "source": [
    "* La siguiente celda copiará el archivo ```src/xvfb.service``` en ```/etc/systemd/system/```.\n",
    "\n",
    "**Nota:** Es necesario tener permisos de administrador para ejecutar la siguiente operación."
   ]
  },
  {
   "cell_type": "code",
   "execution_count": null,
   "metadata": {
    "scrolled": false
   },
   "outputs": [],
   "source": [
    "!sudo cp src/xvfb.service /etc/systemd/system/"
   ]
  },
  {
   "cell_type": "markdown",
   "metadata": {},
   "source": [
    "#### Habilitación y puesta en marcha del servicio.\n",
    "\n",
    "Las siguientes celdas habilitarán e iniciarán el servicio ```xvfb``` mediante el comando ```systemctl```."
   ]
  },
  {
   "cell_type": "code",
   "execution_count": null,
   "metadata": {
    "scrolled": false
   },
   "outputs": [],
   "source": [
    "!sudo systemctl enable xvfb"
   ]
  },
  {
   "cell_type": "code",
   "execution_count": null,
   "metadata": {
    "scrolled": false
   },
   "outputs": [],
   "source": [
    "!sudo systemctl start xvfb"
   ]
  },
  {
   "cell_type": "markdown",
   "metadata": {},
   "source": [
    "Para comprobar que el servidor está corriendo ejecute lo siguiente:"
   ]
  },
  {
   "cell_type": "code",
   "execution_count": null,
   "metadata": {
    "scrolled": false
   },
   "outputs": [],
   "source": [
    "!sudo systemctl status xvfb --no-pager"
   ]
  },
  {
   "cell_type": "markdown",
   "metadata": {},
   "source": [
    "**Nota:** Este procedimiento sólo se requiere hace una vez. Una vez instalado, configurado y habilitado, el servicio iniciará junto con el servidor."
   ]
  },
  {
   "cell_type": "markdown",
   "metadata": {},
   "source": [
    "#### Instalación y configuración de ```wkhtmltopdf```.\n",
    "\n",
    "* La siguiente celda instalará ```wkhtmltopdf```."
   ]
  },
  {
   "cell_type": "code",
   "execution_count": null,
   "metadata": {
    "scrolled": false
   },
   "outputs": [],
   "source": [
    "!sudo apt install wkhtmltopdf -y"
   ]
  },
  {
   "cell_type": "markdown",
   "metadata": {},
   "source": [
    "Es necesario que ```wkthmltopdf``` pueda acceder al servidor virtual, por lo que se debe de crear un script que incluya al comando ```xvfb-run``` el cual le indica al sistema que la instrucción hará uso de un *servidor X* virtual.\n",
    "\n",
    "El script [```src/wkhtmltopdf.sh```](src/wkhtmltopdf.sh) contiene el siguiente código:\n",
    "\n",
    "``` bash\n",
    "#!/bin/bash\n",
    "xvfb-run -a --server-args=\"-screen 0, 1280x800x24\" /usr/bin/wkhtmltopdf -q $*\n",
    "```"
   ]
  },
  {
   "cell_type": "markdown",
   "metadata": {},
   "source": [
    "* El script en cuestión debe de contar con permisos de ejecución, lo cual se realiza de la siguiente manera. "
   ]
  },
  {
   "cell_type": "code",
   "execution_count": null,
   "metadata": {
    "scrolled": false
   },
   "outputs": [],
   "source": [
    "!chmod +x src/wkhtmltopdf.sh"
   ]
  },
  {
   "cell_type": "markdown",
   "metadata": {},
   "source": [
    "#### Ejecución del script.\n",
    "\n",
    "**Nota:** Este es un ejemplo de ejecución en la línea de comandos. No es código en *Python*. \n",
    "\n",
    "La siguiente celda ejecutará el script [```src/wkhtmltopdf.sh```]([src/wkhtmltopdf.sh]) \n",
    "* Se conectará a http://google/com.\n",
    "* El contenido será convertido a PDF y guarado en [```google.pdf```](google.pdf)."
   ]
  },
  {
   "cell_type": "code",
   "execution_count": null,
   "metadata": {
    "scrolled": false
   },
   "outputs": [],
   "source": [
    "!src/wkhtmltopdf.sh http://google.com google.pdf"
   ]
  },
  {
   "cell_type": "markdown",
   "metadata": {},
   "source": [
    "### Instalación de ```wkhtmltopdf``` en *Windows*.\n",
    "\n",
    "En el caso de Windows sólo es necesario descargar  el instalador desde:\n",
    "\n",
    "https://wkhtmltopdf.org/downloads.html\n",
    "\n",
    "Por lo general, el ejecutable se lozaliza en ```C:\\Program Files\\wkhtmltopdf\\bin\\wkhtmltopdf.exe```"
   ]
  },
  {
   "cell_type": "markdown",
   "metadata": {},
   "source": [
    "**Ejemplo:**\n",
    "\n",
    "La siguiente celda ejecutará ```wkhtmltopdf.exe``` en la ruta indicada. \n",
    "* Se conectará a http://google/com.\n",
    "* El contenido será convertido a *PDF* y creará al archivo [```google.pdf```](google.pdf)."
   ]
  },
  {
   "cell_type": "code",
   "execution_count": null,
   "metadata": {},
   "outputs": [],
   "source": [
    "!\"C:\\Program Files\\wkhtmltopdf\\bin\\wkhtmltopdf\" \"https://google.com\" \"google.pdf\""
   ]
  },
  {
   "cell_type": "markdown",
   "metadata": {},
   "source": [
    "### Instalación del paquete ```pdfkit```.\n",
    "\n",
    "Una vez instalado ```wkhtmltopdf``` en la plataforma correspondiente, es posible instalar el paquete ```pdfkit```."
   ]
  },
  {
   "cell_type": "markdown",
   "metadata": {},
   "source": [
    "* La siguiente celda instalará el paquete ```pdfkit```."
   ]
  },
  {
   "cell_type": "code",
   "execution_count": null,
   "metadata": {
    "scrolled": false
   },
   "outputs": [],
   "source": [
    "!pip install pdfkit"
   ]
  },
  {
   "cell_type": "markdown",
   "metadata": {},
   "source": [
    "* La siguiente celda importará al paquete."
   ]
  },
  {
   "cell_type": "code",
   "execution_count": null,
   "metadata": {
    "scrolled": false
   },
   "outputs": [],
   "source": [
    "import pdfkit"
   ]
  },
  {
   "cell_type": "markdown",
   "metadata": {},
   "source": [
    "### Funciones de ```pdfkit``` dependiendo la fuente de los datos.\n",
    "\n",
    "Este paquete permite transformar código *HTML* desde diversas fuentes.\n",
    "\n",
    "* Si el código *HTML* es ingresado como una cadena de caracteres se utiliza la función ```pdfkit.fromstring()``` con la siguiente  sintaxis:\n",
    "\n",
    "```\n",
    "pdfkit.fromstring(<objeto tipo str>, '<ruta del archivo resultante>', <argumentos>)\n",
    "```\n",
    "\n",
    "* Si el código *HTML* proviene de un archivo local, se utiliza la función ```pdfkit.fromfile()``` con la siguiente  sintaxis:\n",
    "\n",
    "```\n",
    "pdfkit.fromfile('<ruta>', '<ruta del archivo resultante>', <argumentos>)\n",
    "```\n",
    "\n",
    "* Si el código *HTML* proviene de un recurso en línea, se utiliza la función ```pdfkit.fromurl()``` con la siguiente  sintaxis:\n",
    "\n",
    "```\n",
    "pdfkit.fromurl('<URL>', '<ruta del archivo resultante>', <argumentos>)\n",
    "```"
   ]
  },
  {
   "cell_type": "markdown",
   "metadata": {},
   "source": [
    "### El objeto ```pdfkit.configuration```.\n",
    "\n",
    "El objeto ```pdfkit.configuration``` permite ingresar diversos parámetros de configuración y en este caso se puede indicar dónde se encuentra el archivo ejecutable de ```wkhtmltopdf``` con la siguiente sintaxis:\n",
    "\n",
    "```\n",
    "pdfkit.configuration(wkhtmltopdf='<ruta>')\n",
    "```"
   ]
  },
  {
   "cell_type": "markdown",
   "metadata": {},
   "source": [
    "#### Configuración en  *Ubuntu*.\n",
    "\n",
    "La configuración de ```pdfkit``` apuntará al script localizado en [```src/wkhtmltopdf.sh```](src/wkhtmltopdf.sh)."
   ]
  },
  {
   "cell_type": "code",
   "execution_count": null,
   "metadata": {
    "scrolled": false
   },
   "outputs": [],
   "source": [
    "conf = pdfkit.configuration(wkhtmltopdf='src/wkhtmltopdf.sh')"
   ]
  },
  {
   "cell_type": "markdown",
   "metadata": {},
   "source": [
    "#### Configuración en *Windows*.\n",
    "\n",
    "La configuración de ```pdfkit``` apuntará al ejecutable localizado en ```C:\\Program Files\\wkhtmltopdf\\bin\\wkhtmltopdf.exe```"
   ]
  },
  {
   "cell_type": "code",
   "execution_count": null,
   "metadata": {},
   "outputs": [],
   "source": [
    "conf = pdfkit.configuration(wkhtmltopdf='C:\\\\Program Files\\\\wkhtmltopdf\\\\bin\\\\wkhtmltopdf.exe')"
   ]
  },
  {
   "cell_type": "markdown",
   "metadata": {},
   "source": [
    "### Ejemplos de uso."
   ]
  },
  {
   "cell_type": "markdown",
   "metadata": {},
   "source": [
    "* La siguiente celda convertirá el contenido del archivo [```html/menu.html```](html/menu.html) y creará el archivo [```menu.pdf```](menu.pdf)."
   ]
  },
  {
   "cell_type": "code",
   "execution_count": null,
   "metadata": {
    "scrolled": true
   },
   "outputs": [],
   "source": [
    "pdfkit.from_file('html/menu.html', 'menu.pdf', configuration=conf)"
   ]
  },
  {
   "cell_type": "markdown",
   "metadata": {},
   "source": [
    "* La siguiente celda se conectará a https://www.pythonista.io y creará el archivo [```pythonista.pdf```](pythonista.pdf)."
   ]
  },
  {
   "cell_type": "code",
   "execution_count": null,
   "metadata": {
    "scrolled": false
   },
   "outputs": [],
   "source": [
    "pdfkit.from_url('https://www.pythonista.io ',\n",
    "                'pythonista.pdf', configuration=conf)"
   ]
  },
  {
   "cell_type": "markdown",
   "metadata": {},
   "source": [
    "### El parámetro ```options```.\n",
    "\n",
    "Es posible modificar el tipo y orientación de la página, el tamaño de los márgenes y algunas otras características del documento PDF resultante mediante algunas opciones de ```wkhtmltopdf```, las cuales pueden ser consultadas en:\n",
    "\n",
    "https://github.com/worlduniting/bookshop/wiki/wkhtmltopdf-options\n",
    "\n",
    "En el caso de ```pdfkit``` estas opciones deben de estar contenidas en un objeto tipo ```dict```."
   ]
  },
  {
   "cell_type": "markdown",
   "metadata": {},
   "source": [
    "**Ejemplo:**\n",
    "\n",
    "Se creará nuevamente el archivo [```menu_oficio.pdf```](menu_oficio.pdf) con algunos ajustes a los márgenes e indicando el tipo de tamano de papel."
   ]
  },
  {
   "cell_type": "code",
   "execution_count": null,
   "metadata": {
    "scrolled": true
   },
   "outputs": [],
   "source": [
    "options = {\n",
    "    'page-size': 'Legal',\n",
    "    'margin-top': '0.75in',\n",
    "    'margin-right': '0.75in',\n",
    "    'margin-bottom': '0.75in',\n",
    "    'margin-left': '0.75in',\n",
    "    'encoding': \"UTF-8\"\n",
    "}"
   ]
  },
  {
   "cell_type": "code",
   "execution_count": null,
   "metadata": {
    "scrolled": true
   },
   "outputs": [],
   "source": [
    "pdfkit.from_file('html/menu.html', 'menu_oficio.pdf', configuration=conf, options=options)"
   ]
  },
  {
   "cell_type": "markdown",
   "metadata": {},
   "source": [
    "## Lectura de documentos *PDF* con ```pdfminer.six```.\n",
    "\n",
    "El paquete ```pdfminer.six``` es una implementación compatible con *Python 3* de ```pdfminer```. Es una herramienta especializada para la extracción de texto muy popular. \n",
    "\n",
    "Tiene la ventaja de acceder a porciones específicas de un documento *PDF* y gestionarlas en memoria.\n",
    "\n",
    "Los paquetes ```pdfminer``` y ```pdfminer.six``` cuentan con múltiples clases especializadas en gestionar, seleccionar, obtener, interpretar y convertir porciones específicas de un documento *PDF*.\n",
    "\n",
    "Para mayor información consultar la documentación localizada en:\n",
    "\n",
    "https://pdfminer-docs.readthedocs.io/"
   ]
  },
  {
   "cell_type": "markdown",
   "metadata": {},
   "source": [
    "* La siguiente celda instalará el paquete ```pdfminer.six```."
   ]
  },
  {
   "cell_type": "code",
   "execution_count": null,
   "metadata": {},
   "outputs": [],
   "source": [
    "!pip install pdfminer.six"
   ]
  },
  {
   "cell_type": "markdown",
   "metadata": {},
   "source": [
    "### Gestión de flujos de texto en memoria."
   ]
  },
  {
   "cell_type": "markdown",
   "metadata": {},
   "source": [
    "El módulo ```io``` de la biblioteca estándar de *Python* contiene herramientas que facilitan el uso de flujos de entrada y salidas de datos.\n",
    " \n",
    "* La clase ```io.StringIO``` del módulo permite acceder a un flujo de datos en memoria como si fuera una cadena de caracteres. El paquete ```pdfminer``` aprovecha este tipo de objetos para manipular el contenido de un documento *PDF*.\n",
    "\n",
    "Para mayor información sobre el módulo ```io.StringIO``` puede ser consultsada desde:\n",
    "\n",
    "https://docs.python.org/3/library/io.html#text-i-o"
   ]
  },
  {
   "cell_type": "code",
   "execution_count": null,
   "metadata": {},
   "outputs": [],
   "source": [
    "from io import StringIO"
   ]
  },
  {
   "cell_type": "markdown",
   "metadata": {},
   "source": [
    "### El módulo ```pdfminer.pdfinterp```.\n",
    "\n",
    "* ```PDFResourceManager```, cuyas instancias son capaces de gestionar el flujo de recursos de un documento *PDF* a los que ```pdfminer``` accede. En este caso, se encargará de  gestionar el flujo entre un archivo y el buffer en memoria.\n",
    "* ```PDFPageInterpreter```, cuyas instancias tienen la capacidad de acceder e interpetar el contenido de un recurso proveniente de un archivo *PDF*."
   ]
  },
  {
   "cell_type": "code",
   "execution_count": null,
   "metadata": {},
   "outputs": [],
   "source": [
    "from pdfminer.pdfinterp import PDFResourceManager, PDFPageInterpreter"
   ]
  },
  {
   "cell_type": "markdown",
   "metadata": {},
   "source": [
    "\n",
    "### El módulo ```pdfminer.converter```.\n",
    "\n",
    "Contiene varias clases capaces de convertir contenidos específicos de un documento PDF, tales como XML, HTML o texto.\n",
    "\n",
    "* En este caso, se utilizará la clase ```TextConverter```."
   ]
  },
  {
   "cell_type": "code",
   "execution_count": null,
   "metadata": {},
   "outputs": [],
   "source": [
    "from pdfminer.converter import TextConverter"
   ]
  },
  {
   "cell_type": "markdown",
   "metadata": {},
   "source": [
    "### El módulo ```pdfminer.layout```.\n",
    "\n",
    "\n",
    "Los archivos PDF incluyen por lo general una plantilla (layout) específica del documento que puede definir el tamaño de página, orientacion, numeración, márgenes, etc.\n",
    "\n",
    "La clase ```pdfminer.layout.LAParams```, se encarga de obtener los parámetros definidos en la plantilla de un documento *PDF*."
   ]
  },
  {
   "cell_type": "code",
   "execution_count": null,
   "metadata": {},
   "outputs": [],
   "source": [
    "from pdfminer.layout import LAParams"
   ]
  },
  {
   "cell_type": "markdown",
   "metadata": {},
   "source": [
    "### El módulo ```pdfminer.pdfpage```.\n",
    "\n",
    "Los documentos PDF está compuestos por páginas cuyas características están definidas en los parámetros de la plantilla correspondiente.\n",
    "\n",
    "* La clase ```pdfminer.pdfpage.PDFPage``` crea objetos que emulan a una página del documento PDF."
   ]
  },
  {
   "cell_type": "code",
   "execution_count": null,
   "metadata": {},
   "outputs": [],
   "source": [
    "from pdfminer.pdfpage import PDFPage"
   ]
  },
  {
   "cell_type": "markdown",
   "metadata": {},
   "source": [
    "### Extracción de un documento *PDF* .\n",
    "\n",
    "A continuacion se creará una función capaz de extraer el texto de las páginas indicadas desde un archivo *PDF*."
   ]
  },
  {
   "cell_type": "markdown",
   "metadata": {},
   "source": [
    "* La función ```convierte()``` permite extraer el texto de las páginas enumeradas dentro de un objeto iterable que se ingresa como el argumento ```paginas``` a partir del archivo definido en el parámetro ```ruta```. \n",
    "\n",
    "En caso de no indicarlos, extraerá el texto de todas las páginas del documento."
   ]
  },
  {
   "cell_type": "code",
   "execution_count": null,
   "metadata": {},
   "outputs": [],
   "source": [
    "def convierte(ruta, paginas=None):\n",
    "    if not paginas:\n",
    "        numero_paginas = set()\n",
    "    else:\n",
    "        numero_paginas = set(paginas)\n",
    "    salida = StringIO()\n",
    "    gestor = PDFResourceManager()\n",
    "    convertidor = TextConverter(gestor, salida, laparams=LAParams())\n",
    "    interprete = PDFPageInterpreter(gestor, convertidor)\n",
    "\n",
    "    archivo = open(ruta, 'rb')\n",
    "    for pagina in PDFPage.get_pages(archivo, numero_paginas):\n",
    "        interprete.process_page(pagina)\n",
    "    archivo.close()\n",
    "    convertidor.close()\n",
    "    texto = salida.getvalue()\n",
    "    salida.close\n",
    "    return texto"
   ]
  },
  {
   "cell_type": "markdown",
   "metadata": {},
   "source": [
    "**Ejemplos:**\n",
    "\n",
    "* Se obtendrá el texto de la segunda página del archivo [*menu.pdf*](menu.pdf) que fue creado previamente."
   ]
  },
  {
   "cell_type": "code",
   "execution_count": null,
   "metadata": {},
   "outputs": [],
   "source": [
    "print(convierte('menu.pdf', paginas=[1]))"
   ]
  },
  {
   "cell_type": "markdown",
   "metadata": {},
   "source": [
    "* Se obtendrá el texto completo del archivo [*menu.pdf*](menu.pdf)."
   ]
  },
  {
   "cell_type": "code",
   "execution_count": null,
   "metadata": {},
   "outputs": [],
   "source": [
    "convierte('menu.pdf')"
   ]
  },
  {
   "cell_type": "markdown",
   "metadata": {},
   "source": [
    "## Lectura de documentos *PDF* con ```pdftotext```.\n",
    "\n",
    "Este paquete es una implementación de la biblioteca [*poppler*](https://poppler.freedesktop.org/), perteneciente a [XpdfReader](https://www.xpdfreader.com/). Este paquete corre en Linux, UNIX y MacOS X."
   ]
  },
  {
   "cell_type": "code",
   "execution_count": null,
   "metadata": {},
   "outputs": [],
   "source": [
    "!sudo apt install libpoppler-cpp-dev pkg-config -y"
   ]
  },
  {
   "cell_type": "code",
   "execution_count": null,
   "metadata": {
    "scrolled": true
   },
   "outputs": [],
   "source": [
    "!pip install pdftotext"
   ]
  },
  {
   "cell_type": "code",
   "execution_count": null,
   "metadata": {},
   "outputs": [],
   "source": [
    "import pdftotext"
   ]
  },
  {
   "cell_type": "markdown",
   "metadata": {},
   "source": [
    "La clase *pdftotext.PDF* permite crear un objeto iterador que contienen el texto extraido de cada página de un documento PDF."
   ]
  },
  {
   "cell_type": "code",
   "execution_count": null,
   "metadata": {},
   "outputs": [],
   "source": [
    "with open(\"menu.pdf\", \"rb\") as archivo:\n",
    "    pdf = pdftotext.PDF(archivo)"
   ]
  },
  {
   "cell_type": "code",
   "execution_count": null,
   "metadata": {},
   "outputs": [],
   "source": [
    "type(pdf)"
   ]
  },
  {
   "cell_type": "code",
   "execution_count": null,
   "metadata": {},
   "outputs": [],
   "source": [
    "for page in pdf:\n",
    "    print(page)"
   ]
  },
  {
   "cell_type": "markdown",
   "metadata": {},
   "source": [
    "<p style=\"text-align: center\"><a rel=\"license\" href=\"http://creativecommons.org/licenses/by/4.0/\"><img alt=\"Licencia Creative Commons\" style=\"border-width:0\" src=\"https://i.creativecommons.org/l/by/4.0/80x15.png\" /></a><br />Esta obra está bajo una <a rel=\"license\" href=\"http://creativecommons.org/licenses/by/4.0/\">Licencia Creative Commons Atribución 4.0 Internacional</a>.</p>\n",
    "<p style=\"text-align: center\">&copy; José Luis Chiquete Valdivieso. 2020.</p>"
   ]
  }
 ],
 "metadata": {
  "kernelspec": {
   "display_name": "Python 3",
   "language": "python",
   "name": "python3"
  },
  "language_info": {
   "codemirror_mode": {
    "name": "ipython",
    "version": 3
   },
   "file_extension": ".py",
   "mimetype": "text/x-python",
   "name": "python",
   "nbconvert_exporter": "python",
   "pygments_lexer": "ipython3",
   "version": "3.6.9"
  }
 },
 "nbformat": 4,
 "nbformat_minor": 2
}
