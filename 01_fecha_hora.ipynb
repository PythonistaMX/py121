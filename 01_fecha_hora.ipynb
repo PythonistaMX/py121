{
 "cells": [
  {
   "cell_type": "markdown",
   "metadata": {},
   "source": [
    "[![imagenes/pythonista.png](imagenes/pythonista.png)](https://pythonista.io)"
   ]
  },
  {
   "cell_type": "markdown",
   "metadata": {},
   "source": [
    "# Paquetes de fecha y hora de Python 3\n",
    "\n",
    "La biblioteca estándar de Python cuenta con dos paquetes especializados en manejos de fechas y horas.\n",
    "\n",
    "* *time*.\n",
    "* *datetime*."
   ]
  },
  {
   "cell_type": "markdown",
   "metadata": {},
   "source": [
    "## Algunos conceptos básicos. \n",
    "\n",
    "### Epoch.\n",
    "\n",
    "Los sistemas GNU/Linux y UNIX tiene un contador de tiempo cuyo inicio corresponde a las 00:00 horas (GMT) del jueves 1 de enero de 1970. A esta fecha se le conoce como \"epoch\".\n",
    "\n",
    "### La tupla de fecha y hora.\n",
    "\n",
    "Una fecha es representada por una tupla en la que cada elemento representa un dato calendárico y de tiempo específico.\n",
    "\n",
    "``` python\n",
    "(<Año en cuatro cifras>, <número de mes de 1 a 12>, <número de día del mes de 0 a 31>, <hora del día de 0 a 23>, \n",
    " <minutos de 0 a 60>, <segundos de 0 a 61>, <dia de la semana de 0(lunes) a 6(domingo>, <día del año de 1 a 366>, <valor entero de -1 a 1 para indicar si se apega a un esquema de ahorro de energía>)\n",
    " ```\n",
    " \n",
    "###  Horario de ahorro de energía.\n",
    "El último elemento de la tupla indica si se está haciendo uso del horario de ahorro de energia.\n",
    " * 0 para cuando no está implementado.\n",
    " * 1 para cuando está implementado.\n",
    " * -1 para cuando se desconoce si está implementado."
   ]
  },
  {
   "cell_type": "markdown",
   "metadata": {},
   "source": [
    "# El módulo *time*.\n",
    "\n",
    "Este módulo permite realizar algunas operaciones básicas de fecha y hora.\n",
    "\n",
    "Python tiene información detallada sobre el módulo *time* en https://docs.python.org/3/library/time.html"
   ]
  },
  {
   "cell_type": "code",
   "execution_count": null,
   "metadata": {},
   "outputs": [],
   "source": [
    "import time"
   ]
  },
  {
   "cell_type": "code",
   "execution_count": null,
   "metadata": {},
   "outputs": [],
   "source": [
    "dir(time)"
   ]
  },
  {
   "cell_type": "markdown",
   "metadata": {},
   "source": [
    "### La función *time.time()*.\n",
    "\n",
    "Regresa el número de segundos transcurridos desde \"epoch\" hasta el momento en el que se ejecuta la función."
   ]
  },
  {
   "cell_type": "markdown",
   "metadata": {},
   "source": [
    "**Ejemplo:**"
   ]
  },
  {
   "cell_type": "code",
   "execution_count": null,
   "metadata": {},
   "outputs": [],
   "source": [
    "time.time()"
   ]
  },
  {
   "cell_type": "markdown",
   "metadata": {},
   "source": [
    "### La función *time.ctime()*.\n",
    "\n",
    "Regresa una cadena con formato en inglés ```'<dia de la semana> <mes> <número del día del mes> <horas>:<minutos>:<segundos> <año>'``` a partir de un número que se ingresa como argumento y que corresponde a los segundos transcurridos a partir de \"epoch\"."
   ]
  },
  {
   "cell_type": "markdown",
   "metadata": {},
   "source": [
    "**Ejemplos:**"
   ]
  },
  {
   "cell_type": "code",
   "execution_count": null,
   "metadata": {},
   "outputs": [],
   "source": [
    "time.ctime(1234567890)"
   ]
  },
  {
   "cell_type": "code",
   "execution_count": null,
   "metadata": {},
   "outputs": [],
   "source": [
    "time.ctime(0)"
   ]
  },
  {
   "cell_type": "code",
   "execution_count": null,
   "metadata": {
    "scrolled": true
   },
   "outputs": [],
   "source": [
    "time.ctime(time.time())"
   ]
  },
  {
   "cell_type": "markdown",
   "metadata": {},
   "source": [
    "### La función *time.gmtime()*.\n",
    "\n",
    "Regresa una estructura de tupla de tiempo con la hora del Meridiano de Greenwich (GMT) a partir de un número que se ingresa como argumento. En caso de no ingresar un número, se tomará el conteo del momento en el que se ejecuta la función."
   ]
  },
  {
   "cell_type": "markdown",
   "metadata": {},
   "source": [
    "**Ejemplos:**"
   ]
  },
  {
   "cell_type": "code",
   "execution_count": null,
   "metadata": {},
   "outputs": [],
   "source": [
    "time.gmtime()"
   ]
  },
  {
   "cell_type": "code",
   "execution_count": null,
   "metadata": {},
   "outputs": [],
   "source": [
    "time.gmtime(1234567890)"
   ]
  },
  {
   "cell_type": "markdown",
   "metadata": {},
   "source": [
    "### La función *time.localtime()*.\n",
    "\n",
    "Regresa una estructura de tupla de tiempo con la hora del huso horario local del sistema a partir de un número que se ingresa como argumento. En caso de no ingresar un número, se tomará el conteo del momento en el que se ejecuta la función."
   ]
  },
  {
   "cell_type": "markdown",
   "metadata": {},
   "source": [
    "**Ejemplos:**"
   ]
  },
  {
   "cell_type": "code",
   "execution_count": null,
   "metadata": {},
   "outputs": [],
   "source": [
    "time.localtime()"
   ]
  },
  {
   "cell_type": "code",
   "execution_count": null,
   "metadata": {},
   "outputs": [],
   "source": [
    "time.localtime(1234567890)"
   ]
  },
  {
   "cell_type": "markdown",
   "metadata": {},
   "source": [
    "### La función *time.asctime()*.\n",
    "\n",
    "Regresa una cadena de caracteres con la fecha que se ingresa como una tupla de tiempo."
   ]
  },
  {
   "cell_type": "markdown",
   "metadata": {},
   "source": [
    "**Ejemplo:**"
   ]
  },
  {
   "cell_type": "code",
   "execution_count": null,
   "metadata": {
    "scrolled": true
   },
   "outputs": [],
   "source": [
    "time.asctime(time.localtime())"
   ]
  },
  {
   "cell_type": "markdown",
   "metadata": {},
   "source": [
    "### La función *time.sleep()*.\n",
    "\n",
    "Permite detener la ejecución de un script durante un tiempo defindo en segundos."
   ]
  },
  {
   "cell_type": "markdown",
   "metadata": {},
   "source": [
    "**Ejemplo:**\n",
    "\n",
    "La siguiente celda desplegará un mensaje y 5 segundos después desplegará otro mensaje."
   ]
  },
  {
   "cell_type": "code",
   "execution_count": null,
   "metadata": {},
   "outputs": [],
   "source": [
    "print('Hola')\n",
    "time.sleep(15)\n",
    "print('Hola, de nuevo.')"
   ]
  },
  {
   "cell_type": "markdown",
   "metadata": {},
   "source": [
    "### La función *time.clock()*"
   ]
  },
  {
   "cell_type": "code",
   "execution_count": null,
   "metadata": {},
   "outputs": [],
   "source": [
    "help(time.clock)"
   ]
  },
  {
   "cell_type": "code",
   "execution_count": null,
   "metadata": {},
   "outputs": [],
   "source": [
    "time.clock()"
   ]
  },
  {
   "cell_type": "code",
   "execution_count": null,
   "metadata": {},
   "outputs": [],
   "source": [
    "time.clock()"
   ]
  },
  {
   "cell_type": "markdown",
   "metadata": {},
   "source": [
    "## El módulo *datetime*.\n",
    "\n",
    "Este módulo contiene clases relativas al manejo de fechas. A diferencia del módulo *time*, los datos de tiempo representan atributos de las siguientes clases.\n",
    "\n",
    "\n",
    "* *datetime.time*. Corresponde a una clase que contiene datos de horas como atributos.\n",
    "* *datetime.date*. Corresponde a una clase que contiene datos de fechas como atributos.\n",
    "* *datetime.datetime*.  Corresponde a una clase que contiene datos de fechas y horas como atributos.\n",
    "* *datetime.timedelta*.Coresponde a una clase que puede manipular diferencias horarias.\n",
    "\n",
    "La documentación del módulo *datetime* se encuentra en https://docs.python.org/3/library/datetime.html\n",
    "\n",
    "**Nota:** En vista de que *datetime.datetime* contiene los atributos y métodos de *datetime.time* y *datetime.date*, se utilizará a este para ilustrar su funcionamiento."
   ]
  },
  {
   "cell_type": "markdown",
   "metadata": {},
   "source": [
    "## La clase *datetime.datetime*.\n",
    "\n",
    "Esta clase permite crear objetos de fecha y hora, ingresando una sucesión de datos en forma de una tupla de tiempo. "
   ]
  },
  {
   "cell_type": "code",
   "execution_count": null,
   "metadata": {},
   "outputs": [],
   "source": [
    "from datetime import datetime"
   ]
  },
  {
   "cell_type": "code",
   "execution_count": null,
   "metadata": {},
   "outputs": [],
   "source": [
    "fecha_nacimiento = datetime(1984, 12, 25, 15, 25)"
   ]
  },
  {
   "cell_type": "code",
   "execution_count": null,
   "metadata": {
    "scrolled": false
   },
   "outputs": [],
   "source": [
    "type(fecha_nacimiento)"
   ]
  },
  {
   "cell_type": "markdown",
   "metadata": {},
   "source": [
    "Estos objetos guardan cada dato como un atributo."
   ]
  },
  {
   "cell_type": "code",
   "execution_count": null,
   "metadata": {},
   "outputs": [],
   "source": [
    "fecha_nacimiento.month"
   ]
  },
  {
   "cell_type": "code",
   "execution_count": null,
   "metadata": {},
   "outputs": [],
   "source": [
    "fecha_nacimiento.year"
   ]
  },
  {
   "cell_type": "code",
   "execution_count": null,
   "metadata": {},
   "outputs": [],
   "source": [
    "fecha_nacimiento.day"
   ]
  },
  {
   "cell_type": "markdown",
   "metadata": {},
   "source": [
    "A su vez estos objetos contienen objetos de tipo *datetime.time* y *datetime.date*."
   ]
  },
  {
   "cell_type": "code",
   "execution_count": null,
   "metadata": {},
   "outputs": [],
   "source": [
    "fecha_nacimiento.time()"
   ]
  },
  {
   "cell_type": "code",
   "execution_count": null,
   "metadata": {},
   "outputs": [],
   "source": [
    "fecha_nacimiento.date()"
   ]
  },
  {
   "cell_type": "markdown",
   "metadata": {},
   "source": [
    "### El  método *datetime.datetime.now()*.\n",
    "\n",
    "Regresa un objeto de tipo datetime,datetime con la hora del momento en el que se ejecutó el método."
   ]
  },
  {
   "cell_type": "code",
   "execution_count": null,
   "metadata": {},
   "outputs": [],
   "source": [
    "datetime.now()"
   ]
  },
  {
   "cell_type": "markdown",
   "metadata": {},
   "source": [
    "### El  método *datetime.datetime.timestamp()*.\n",
    "\n",
    "Regresa el número de segundos desde \"epoch* a partir de un objeto *datetime.datetime*."
   ]
  },
  {
   "cell_type": "code",
   "execution_count": null,
   "metadata": {
    "scrolled": true
   },
   "outputs": [],
   "source": [
    "datetime.timestamp(datetime(2018, 6, 13, 22, 45))"
   ]
  },
  {
   "cell_type": "code",
   "execution_count": null,
   "metadata": {},
   "outputs": [],
   "source": [
    "datetime.timestamp(datetime.now())"
   ]
  },
  {
   "cell_type": "markdown",
   "metadata": {},
   "source": [
    "### El  método *datetime.datetime.fromtimestamp()*.\n",
    "\n",
    "Regresa la fecha a partir de una estampa de tiempo."
   ]
  },
  {
   "cell_type": "code",
   "execution_count": null,
   "metadata": {},
   "outputs": [],
   "source": [
    "datetime.fromtimestamp(5131231239)"
   ]
  },
  {
   "cell_type": "markdown",
   "metadata": {},
   "source": [
    "### El  método *datetime.datetime.isoweekday()*.\n",
    "\n",
    "Regresa el número de de día de la semana al que corresponde la fecha, siendo 1= lunes y así sucesivamente hasta 7= domingo."
   ]
  },
  {
   "cell_type": "code",
   "execution_count": null,
   "metadata": {},
   "outputs": [],
   "source": [
    "datetime.isoweekday(datetime(2018, 5, 13))"
   ]
  },
  {
   "cell_type": "code",
   "execution_count": null,
   "metadata": {},
   "outputs": [],
   "source": [
    "## Operaciones con fechas."
   ]
  },
  {
   "cell_type": "markdown",
   "metadata": {},
   "source": [
    "## Períodos de tiempo.\n",
    "\n",
    "Es muy común hacer comparaciones entre fechas o tratar de calcular fechas próximas que implican períodos de tiempo.\n",
    "\n",
    "### La clase *datime.timedelta*.\n",
    "\n",
    "La clase *datime.timedelta* permite definir guardar periodos de tiempo determinados.\n",
    "\n",
    "Las instancias de dicha clase se definen de la siguiente manera:\n",
    "\n",
    "```\n",
    "timedelta(<período>)\n",
    "```\n",
    "\n",
    "Los períodos pueden ser una combinación de los siguientes parámetros:\n",
    "\n",
    "* *weeks* para semanas.\n",
    "* *days* para días. \n",
    "* *hours* para horas.\n",
    "* *minutes* para minutos.\n",
    "* *seconds* para segundos. \n",
    "* *milliseconds* para milisegundos.\n",
    "* *microseconds* para microsegundos.\n",
    "\n",
    "Aún cuando se pueden definir tiempos en los períodos enumerados, los objetos instaciados sólo tienen los atributos:\n",
    "\n",
    "* *days*\n",
    "* *seconds*\n",
    "* *milliseconds*\n",
    "\n",
    "Cada uno de estos atributos complementa a los otros. Es decir, que el atributo *seconds* no calcula todos los segundos del período de tiempo, sino sólo aquellos segundos excedentes que no completan  un día."
   ]
  },
  {
   "cell_type": "markdown",
   "metadata": {},
   "source": [
    "**Ejemplos:**"
   ]
  },
  {
   "cell_type": "code",
   "execution_count": null,
   "metadata": {},
   "outputs": [],
   "source": [
    "from datetime import timedelta"
   ]
  },
  {
   "cell_type": "code",
   "execution_count": null,
   "metadata": {},
   "outputs": [],
   "source": [
    "timedelta(weeks=4, days=3, hours=12, microseconds=4)"
   ]
  },
  {
   "cell_type": "code",
   "execution_count": null,
   "metadata": {},
   "outputs": [],
   "source": [
    "periodo = timedelta(weeks=4, days=3, hours=12, microseconds=4)"
   ]
  },
  {
   "cell_type": "code",
   "execution_count": null,
   "metadata": {},
   "outputs": [],
   "source": [
    "periodo.days"
   ]
  },
  {
   "cell_type": "code",
   "execution_count": null,
   "metadata": {},
   "outputs": [],
   "source": [
    "periodo.seconds /60 /60"
   ]
  },
  {
   "cell_type": "markdown",
   "metadata": {},
   "source": [
    "### Diferencia de fechas.\n",
    "\n",
    "El operador de sustracción (_-_) se utiliza para calcular diferencias de fechas y horas entre objetos instanciados de *datetime.time*, *datetime.date*  y *datetime.datetime*. El resultado es un objeto de tipo *datetime.timedelta*."
   ]
  },
  {
   "cell_type": "markdown",
   "metadata": {},
   "source": [
    "**Ejemplo:**"
   ]
  },
  {
   "cell_type": "code",
   "execution_count": null,
   "metadata": {},
   "outputs": [],
   "source": [
    "ahora = datetime.now()"
   ]
  },
  {
   "cell_type": "code",
   "execution_count": null,
   "metadata": {},
   "outputs": [],
   "source": [
    "nacimiento = datetime(1985, 7, 21, 15, 32)"
   ]
  },
  {
   "cell_type": "code",
   "execution_count": null,
   "metadata": {},
   "outputs": [],
   "source": [
    "diferencia = (ahora - nacimiento)"
   ]
  },
  {
   "cell_type": "code",
   "execution_count": null,
   "metadata": {
    "scrolled": true
   },
   "outputs": [],
   "source": [
    "diferencia.days"
   ]
  },
  {
   "cell_type": "code",
   "execution_count": null,
   "metadata": {},
   "outputs": [],
   "source": [
    "diferencia.days/365"
   ]
  },
  {
   "cell_type": "code",
   "execution_count": null,
   "metadata": {},
   "outputs": [],
   "source": [
    "diferencia.seconds /60/60"
   ]
  },
  {
   "cell_type": "markdown",
   "metadata": {},
   "source": [
    "## Cálculo de fechas a partir de un período de tiempo.\n",
    "\n",
    "Es posible calcular fechas combinando objetos instanciados de *datetime.datetime*, *datetime.date* y *datetime.time* con objetos instanciados de *datetime.timedelta* para calcular fechas en un período de tiempo usando el ooperador de adición (+) y el de sustracción (-)."
   ]
  },
  {
   "cell_type": "code",
   "execution_count": null,
   "metadata": {},
   "outputs": [],
   "source": [
    "proxima_semana = datetime.now() + timedelta(days=7)"
   ]
  },
  {
   "cell_type": "code",
   "execution_count": null,
   "metadata": {},
   "outputs": [],
   "source": [
    "proxima_semana"
   ]
  },
  {
   "cell_type": "code",
   "execution_count": null,
   "metadata": {},
   "outputs": [],
   "source": [
    "semana_pasada = datetime.now() - timedelta(days=7)"
   ]
  },
  {
   "cell_type": "code",
   "execution_count": null,
   "metadata": {},
   "outputs": [],
   "source": [
    "semana_pasada = datetime.now() - timedelta(days=7)"
   ]
  },
  {
   "cell_type": "code",
   "execution_count": null,
   "metadata": {},
   "outputs": [],
   "source": [
    "nacimiento + diferencia"
   ]
  },
  {
   "cell_type": "markdown",
   "metadata": {},
   "source": [
    "<p style=\"text-align: center\"><a rel=\"license\" href=\"http://creativecommons.org/licenses/by/4.0/\"><img alt=\"Licencia Creative Commons\" style=\"border-width:0\" src=\"https://i.creativecommons.org/l/by/4.0/80x15.png\" /></a><br />Esta obra está bajo una <a rel=\"license\" href=\"http://creativecommons.org/licenses/by/4.0/\">Licencia Creative Commons Atribución 4.0 Internacional</a>.</p>\n",
    "<p style=\"text-align: center\">&copy; José Luis Chiquete Valdivieso. 2019.</p>"
   ]
  }
 ],
 "metadata": {
  "kernelspec": {
   "display_name": "Python 3",
   "language": "python",
   "name": "python3"
  },
  "language_info": {
   "codemirror_mode": {
    "name": "ipython",
    "version": 3
   },
   "file_extension": ".py",
   "mimetype": "text/x-python",
   "name": "python",
   "nbconvert_exporter": "python",
   "pygments_lexer": "ipython3",
   "version": "3.7.2"
  }
 },
 "nbformat": 4,
 "nbformat_minor": 2
}
