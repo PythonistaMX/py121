{
 "cells": [
  {
   "cell_type": "markdown",
   "metadata": {},
   "source": [
    "[![imagenes](imagenes/pythonista.png)](https://pythonista.mx)"
   ]
  },
  {
   "cell_type": "markdown",
   "metadata": {},
   "source": [
    "## Manipuación de la API de Twitter.\n",
    "\n",
    "Para acceder a la API de twitter es necesario contar con credenciales de desarrollador. Dichas credenciales pueden ser obtenidas desde [https://apps.twitter.com](https://apps.twitter.com) al crear una nueva aplicación y registrarse.\n",
    "Los datos que se utilizarán son: \n",
    "* Consumer Key. \n",
    "* Consumer Secret. \n",
    "* Oauth Token.\n",
    "* Oauth Token Secret.\n",
    "\n",
    "## El módulo _twitter_.\n",
    "\n",
    "Este módulo está basado en la API REST de Twitter, la cual puede ser consultada en https://developer.twitter.com/en/docs/tweets/search/api-reference.html.\n",
    "   "
   ]
  },
  {
   "cell_type": "code",
   "execution_count": null,
   "metadata": {},
   "outputs": [],
   "source": [
    "!pip install twitter"
   ]
  },
  {
   "cell_type": "code",
   "execution_count": null,
   "metadata": {},
   "outputs": [],
   "source": [
    "import twitter"
   ]
  },
  {
   "cell_type": "markdown",
   "metadata": {},
   "source": [
    "## Conexión:\n",
    "\n",
    "Para poder utilizar la API de Twitter es necesario crear un objeto a partir de lo siguiente:\n",
    "\n",
    "* La clase _twitter.Twitter_, la cual dará por resultado un objeto cpaz de interactuar con la API de Twitter que debe ser definido utilizando el parámetro *auth*.\n",
    "\n",
    "```\n",
    "twitter.Twitter(auth= <objeto twitter.oauth.OAuth>)\n",
    "```\n",
    "\n",
    "* El argumento para el parámetro *auth* debe de ser un objeto instanciado de la clase  *twitter.oauth.OAuth* al que se le deben ingresar las credenciales de acceso de Twitter. \n",
    "\n",
    "```\n",
    "twitter.oauth.OAuth(CONSUMER_KEY,\n",
    "     CONSUMER_SECRET,\n",
    "     ACCESS_TOKEN,\n",
    "     ACCESS_TOKEN_SECRET)\n",
    "```\n",
    "\n",
    "**ADVERTENCIA:** Por seguridad no es conveniente exponer las credenciales de forma pública en el código, por lo que se sugiere almacenar los datos en un archivo aparte."
   ]
  },
  {
   "cell_type": "markdown",
   "metadata": {},
   "source": [
    "**Ejemplo:**\n",
    "\n",
    "La función *accede_a_tw()* leerá las credenciales desde un archivo cuya ruta será ingresada como parámetro y regresará un objeto de tipo *twitter.Twitter* con una copnexión activa a la API de Twitter.\n",
    "El este caso, las credenciales deben estar dentro del archivo [data/credenciales.txt](data/credenciales.txt)."
   ]
  },
  {
   "cell_type": "code",
   "execution_count": null,
   "metadata": {},
   "outputs": [],
   "source": [
    "def accede_a_tw(fuente):\n",
    "    with open(fuente, 'r') as archivo:\n",
    "        (CONSUMER_KEY,\n",
    "        CONSUMER_SECRET,\n",
    "        ACCESS_TOKEN,\n",
    "        ACCESS_TOKEN_SECRET) = archivo.read().splitlines()\n",
    "    auth = twitter.oauth.OAuth(ACCESS_TOKEN,\n",
    "                               ACCESS_TOKEN_SECRET,\n",
    "                               CONSUMER_KEY,\n",
    "                               CONSUMER_SECRET)\n",
    "    return twitter.Twitter(auth=auth)"
   ]
  },
  {
   "cell_type": "code",
   "execution_count": null,
   "metadata": {},
   "outputs": [],
   "source": [
    "t = accede_a_tw(\"data/credenciales.txt\")"
   ]
  },
  {
   "cell_type": "code",
   "execution_count": null,
   "metadata": {
    "scrolled": true
   },
   "outputs": [],
   "source": [
    "t"
   ]
  },
  {
   "cell_type": "markdown",
   "metadata": {},
   "source": [
    "## Acceso a los recursos de la API de twitter.\n",
    "\n",
    "El objeto creado tiene acceso a los recursos GET y POST de la API de Twitter que se enumeran en [El índice de referencia](https://developer.twitter.com/en/docs/api-reference-index). En este caso se sutituye la diagonal \"_\\ _\" por el operador de atributo \"_._\".\n",
    "\n",
    "La API de twitter utiliza el formato JSON por defecto para transmitir información, pero el módulo _twitter_ transforma la información en un objeto tipo _dict_.\n",
    "\n",
    "**Sintaxis:**\n",
    "```\n",
    "<objeto>.<elemento>(<parámetros>)\n",
    "```\n",
    "A continuación se dan algunos ejemplos ilustrativos."
   ]
  },
  {
   "cell_type": "markdown",
   "metadata": {},
   "source": [
    "### Publicación de un tuit y su estructura de metadatos:\n",
    "\n",
    "El paquete *twitter* transforma las respuestas de la API de Twitter de formato JSON a un objeto de Python."
   ]
  },
  {
   "cell_type": "code",
   "execution_count": null,
   "metadata": {},
   "outputs": [],
   "source": [
    "tuit = t.statuses.update(status=\"Saludos desde pythonista al mundo.\")"
   ]
  },
  {
   "cell_type": "code",
   "execution_count": null,
   "metadata": {
    "scrolled": true
   },
   "outputs": [],
   "source": [
    "tuit"
   ]
  },
  {
   "cell_type": "code",
   "execution_count": null,
   "metadata": {},
   "outputs": [],
   "source": [
    "tuit['user']['screen_name']"
   ]
  },
  {
   "cell_type": "code",
   "execution_count": null,
   "metadata": {},
   "outputs": [],
   "source": [
    "for item in tuit:\n",
    "    print(item)"
   ]
  },
  {
   "cell_type": "code",
   "execution_count": null,
   "metadata": {
    "scrolled": true
   },
   "outputs": [],
   "source": [
    "print(tuit['text'])"
   ]
  },
  {
   "cell_type": "markdown",
   "metadata": {},
   "source": [
    "### Ejemplo de acceso a una búsqueda."
   ]
  },
  {
   "cell_type": "code",
   "execution_count": null,
   "metadata": {},
   "outputs": [],
   "source": [
    "busqueda = t.search.tweets(q=\"pythonista\", lang=\"es\", count=\"2\")"
   ]
  },
  {
   "cell_type": "code",
   "execution_count": null,
   "metadata": {},
   "outputs": [],
   "source": [
    "busqueda"
   ]
  },
  {
   "cell_type": "code",
   "execution_count": null,
   "metadata": {},
   "outputs": [],
   "source": [
    "len(busqueda)"
   ]
  },
  {
   "cell_type": "code",
   "execution_count": null,
   "metadata": {
    "scrolled": true
   },
   "outputs": [],
   "source": [
    "for item in busqueda.keys():\n",
    "    print(item)"
   ]
  },
  {
   "cell_type": "code",
   "execution_count": null,
   "metadata": {},
   "outputs": [],
   "source": [
    "print(busqueda['statuses'])"
   ]
  },
  {
   "cell_type": "code",
   "execution_count": null,
   "metadata": {
    "scrolled": true
   },
   "outputs": [],
   "source": [
    "print(busqueda['statuses'][1])"
   ]
  },
  {
   "cell_type": "code",
   "execution_count": null,
   "metadata": {},
   "outputs": [],
   "source": [
    "print(busqueda['statuses'][1]['text'])"
   ]
  },
  {
   "cell_type": "markdown",
   "metadata": {},
   "source": [
    "## Ejemplo de una aplicación sencilla.\n",
    "\n",
    "La aplicación [src/aplicacion_tw.py](src/aplicacion_tw.py) es un ejemplo sencillo de lo que se puede hacer con la API de Twitter."
   ]
  },
  {
   "cell_type": "code",
   "execution_count": null,
   "metadata": {},
   "outputs": [],
   "source": [
    "%run src/aplicacion_tw.py"
   ]
  },
  {
   "cell_type": "code",
   "execution_count": null,
   "metadata": {},
   "outputs": [],
   "source": [
    "import src.aplicacion_tw as app"
   ]
  },
  {
   "cell_type": "code",
   "execution_count": null,
   "metadata": {},
   "outputs": [],
   "source": [
    "app.carga_tuits(\"tuits.json\")"
   ]
  },
  {
   "cell_type": "markdown",
   "metadata": {},
   "source": [
    "<p style=\"text-align: center\"><a rel=\"license\" href=\"http://creativecommons.org/licenses/by/4.0/\"><img alt=\"Licencia Creative Commons\" style=\"border-width:0\" src=\"https://i.creativecommons.org/l/by/4.0/80x15.png\" /></a><br />Esta obra está bajo una <a rel=\"license\" href=\"http://creativecommons.org/licenses/by/4.0/\">Licencia Creative Commons Atribución 4.0 Internacional</a>.</p>\n",
    "<p style=\"text-align: center\">&copy; José Luis Chiquete Valdivieso. 2019.</p>"
   ]
  }
 ],
 "metadata": {
  "kernelspec": {
   "display_name": "Python 3",
   "language": "python",
   "name": "python3"
  },
  "language_info": {
   "codemirror_mode": {
    "name": "ipython",
    "version": 3
   },
   "file_extension": ".py",
   "mimetype": "text/x-python",
   "name": "python",
   "nbconvert_exporter": "python",
   "pygments_lexer": "ipython3",
   "version": "3.6.6"
  }
 },
 "nbformat": 4,
 "nbformat_minor": 2
}
