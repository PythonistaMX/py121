{
 "cells": [
  {
   "cell_type": "markdown",
   "metadata": {},
   "source": [
    "[![imagenes](imagenes/pythonista.png)](https://pythonista.mx)"
   ]
  },
  {
   "cell_type": "markdown",
   "metadata": {},
   "source": [
    "Los archivos que contienen valores separados por coma representan un formato de transmisión de información muy común.\n",
    "\n",
    "Es un formato que muchas bases de datos y hojas de cálculo utilizan para exportar información."
   ]
  },
  {
   "cell_type": "markdown",
   "metadata": {},
   "source": [
    "## El módulo _csv_.\n",
    "Python incluye dentro de su biblioteca estándar al módulo _csv_, el cual permite importar y exportar información en dicho formato."
   ]
  },
  {
   "cell_type": "code",
   "execution_count": null,
   "metadata": {},
   "outputs": [],
   "source": [
    "import csv"
   ]
  },
  {
   "cell_type": "markdown",
   "metadata": {},
   "source": [
    "## Dialectos.\n",
    "Algunas aplicaciones utilizan su propio modo para crear archivos CSV, a los que se les conoce como dialectos.\n",
    "El módulo _csv_ identifica a los siguientes dialectos:\n",
    "* _'unix'_.\n",
    "* _'excel'_.\n",
    "* _excel-tab'_.\n",
    "\n",
    "Cada uno de los dialectos cuenta con características específicas. Por lo general, Python puede identificar automáticamente el tipo de dialecto del que se trata. "
   ]
  },
  {
   "cell_type": "code",
   "execution_count": null,
   "metadata": {
    "scrolled": true
   },
   "outputs": [],
   "source": [
    "csv.list_dialects()"
   ]
  },
  {
   "cell_type": "markdown",
   "metadata": {},
   "source": [
    "## Lectura de elementos de un archivo CSV.\n",
    "\n",
    "La función _csv.reader()_ puede interactuar no sólo con archivos, sino con cualquier objeto que cuente con un método _read()_.\n",
    "\n",
    "Dicha función dará por resultado un objeto iterable que contiene a su vez objetos de tipo _list_ correspondiente a cada línea del archivo y cuyos elementos son cada una de las cadenas de caracteres que fueron separadas por comas.\n",
    "\n",
    "**Sintaxis:**\n",
    "```\n",
    "csv.reader(<objeto>)\n",
    "```"
   ]
  },
  {
   "cell_type": "markdown",
   "metadata": {},
   "source": [
    "**Ejemplo:**\n",
    "Se tiene al archivo [data/hojas.csv](data/hojas.csv), el cual fue exportado de Excel."
   ]
  },
  {
   "cell_type": "code",
   "execution_count": null,
   "metadata": {},
   "outputs": [],
   "source": [
    "with open('data/hojas.csv', 'r') as archivo:\n",
    "    print(csv.reader(archivo))"
   ]
  },
  {
   "cell_type": "code",
   "execution_count": null,
   "metadata": {
    "scrolled": true
   },
   "outputs": [],
   "source": [
    "with open('data/hojas.csv', 'r') as archivo:\n",
    "    for item in csv.reader(archivo):\n",
    "            print(item)"
   ]
  },
  {
   "cell_type": "code",
   "execution_count": null,
   "metadata": {},
   "outputs": [],
   "source": [
    "with open('data/hojas.csv', 'r') as archivo:\n",
    "    for nombre, calificacion in csv.reader(archivo):\n",
    "        print(nombre, calificacion)"
   ]
  },
  {
   "cell_type": "markdown",
   "metadata": {},
   "source": [
    "## Especificación de delimitadores.\n",
    "Aún cuando el módulo _csv_ define como delimitador por defecto al caracter de coma \"_,_\", es posible definir otros delimitadores.\n",
    "\n",
    "Tan sólo es necesario indicar con el parámetro _delimiter_ el caracter que usará como delimitador en vez de las comas.\n",
    "\n",
    "**Ejemplo:**\n",
    "El archivo [data/passwd](data/passwd) contiene el archivo de configuración de usuarios de un sistema Linux, el cual está delimitado por el caracter de dos puntos \"_:_\".\n"
   ]
  },
  {
   "cell_type": "code",
   "execution_count": null,
   "metadata": {
    "scrolled": true
   },
   "outputs": [],
   "source": [
    "with open('data/passwd', 'r') as archivo:\n",
    "    for usuario in csv.reader(archivo, delimiter=\":\"):\n",
    "        print(usuario)"
   ]
  },
  {
   "cell_type": "markdown",
   "metadata": {},
   "source": [
    "## Escritura de un archivo.\n"
   ]
  },
  {
   "cell_type": "markdown",
   "metadata": {
    "collapsed": true
   },
   "source": [
    "La función _csv.writer()_ regresa un objeto capaz de escribir en otro objeto que cuente con el método _write()_.\n",
    "\n",
    "**Sintaxis:**\n",
    "\n",
    "```\n",
    "<csv.witer(<objeto>)>\n",
    "```\n",
    "El objeto creado cuenta a su vez con el método *writerow()*, el cual escribe una línea dentro del archivo y el método *writerows()*, el cual escribe varias líneas en el archivo.\n",
    "\n",
    "### El método _writerow()_.\n",
    "Escribe una línea dentro del archivo a partir de una secuencia de datos que se ingrese como parámetro.\n",
    "\n",
    "**Sintaxis:**\n",
    "\n",
    "```\n",
    "<objeto>.writerow(<secuencia>)\n",
    "```\n",
    "\n",
    "### El método _writerows()_.\n",
    "Escribe varias líneas dentro del archivo a partir de una secuencia de datos que se ingrese como parámetro.\n",
    "\n",
    "```\n",
    "<objeto>.writerows(<secuencia que contienen secuencias>)\n",
    "```"
   ]
  },
  {
   "cell_type": "markdown",
   "metadata": {},
   "source": [
    "**Ejemplo:**\n",
    "\n",
    "Se utilizarán tanto el método *writerow()* como el método *writerows()* para crear el archivo [lista.txt](lista.txt)."
   ]
  },
  {
   "cell_type": "code",
   "execution_count": null,
   "metadata": {},
   "outputs": [],
   "source": [
    "lista_1 = [[1, 2, 3, 4], ['uno', 'dos', 'tres', 'cuatro']]\n",
    "lista_2 = (('Hola', 'Hello'), [True, 0, False, 34j])"
   ]
  },
  {
   "cell_type": "code",
   "execution_count": null,
   "metadata": {},
   "outputs": [],
   "source": [
    "with open('lista.txt', 'w') as archivo:\n",
    "    escritor = csv.writer(archivo, delimiter=\"|\")\n",
    "    for elemento in lista_1:\n",
    "        escritor.writerow(elemento)\n",
    "    escritor.writerows(lista_2)"
   ]
  },
  {
   "cell_type": "markdown",
   "metadata": {},
   "source": [
    "Es posible ver el contenido del archivo [lista.txt](lista.txt) desde un sistema Linux o MacOS X con el siguiente comando mágico de Jupyter. "
   ]
  },
  {
   "cell_type": "code",
   "execution_count": null,
   "metadata": {},
   "outputs": [],
   "source": [
    "%cat lista.txt"
   ]
  },
  {
   "cell_type": "markdown",
   "metadata": {
    "collapsed": true
   },
   "source": [
    "<p style=\"text-align: center\"><a rel=\"license\" href=\"http://creativecommons.org/licenses/by/4.0/\"><img alt=\"Licencia Creative Commons\" style=\"border-width:0\" src=\"https://i.creativecommons.org/l/by/4.0/80x15.png\" /></a><br />Esta obra está bajo una <a rel=\"license\" href=\"http://creativecommons.org/licenses/by/4.0/\">Licencia Creative Commons Atribución 4.0 Internacional</a>.</p>\n",
    "<p style=\"text-align: center\">&copy; José Luis Chiquete Valdivieso. 2019.</p>"
   ]
  }
 ],
 "metadata": {
  "kernelspec": {
   "display_name": "Python 3",
   "language": "python",
   "name": "python3"
  },
  "language_info": {
   "codemirror_mode": {
    "name": "ipython",
    "version": 3
   },
   "file_extension": ".py",
   "mimetype": "text/x-python",
   "name": "python",
   "nbconvert_exporter": "python",
   "pygments_lexer": "ipython3",
   "version": "3.7.2"
  }
 },
 "nbformat": 4,
 "nbformat_minor": 2
}
