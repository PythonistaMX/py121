{
 "cells": [
  {
   "cell_type": "markdown",
   "metadata": {},
   "source": [
    "\n",
    "[![imagenes](imagenes/pythonista.png)](https://pythonista.mx)"
   ]
  },
  {
   "cell_type": "markdown",
   "metadata": {},
   "source": [
    "## El formato *JSON*.\n",
    "\n",
    "JSON es un acrónimo de \"Javascript Object Notation\" y corresponde en un principio al modo en que se definen objetos en Javascript. Sin embargo, la notación es tan simple y práctica que ha sido adoptada como un formato para la serialización y transmisión de datos y a evolucionado de forma paralela a Javascript.\n",
    "\n",
    "Para aprender más acerca de JSON puede consultar esta liga: https://www.w3schools.com/js/js_json_intro.asp\n",
    "\n",
    "\n",
    "## El paquete _json_.\n",
    "\n",
    "Permite transformar un objetos de python en una cadena de caracteres que representa a dichos objetos en formato con JSON.\n",
    "\n",
    "### La función json.dumps()\n",
    "Transforma a un objeto de tipo _dict_ ingresada como primer parámetro a una cadena de texto en formato JSON.\n",
    "\n",
    "**Sintaxis:**\n",
    "\n",
    "```\n",
    "json.dumps(<objeto>)\n",
    "```\n",
    "### La función json.loads()\n",
    "Transforma una cadena de caracteres que contiene información en formato JSON y la transforma en un objeto de tipo _dict_.\n",
    "\n",
    "**Sintaxis:**\n",
    "\n",
    "```\n",
    "json.dumps(<cadena de caracteres>)\n",
    "```"
   ]
  },
  {
   "cell_type": "markdown",
   "metadata": {},
   "source": [
    "**Ejemplo:**\n",
    "\n",
    "Se importará el paquete *json* y se desplegará el contenido del objeto tipo _dict_ llamado _estudiante_ en formato JSON."
   ]
  },
  {
   "cell_type": "code",
   "execution_count": null,
   "metadata": {
    "collapsed": true
   },
   "outputs": [],
   "source": [
    "import json"
   ]
  },
  {
   "cell_type": "code",
   "execution_count": null,
   "metadata": {
    "collapsed": true
   },
   "outputs": [],
   "source": [
    "estudiante = {'nombre completo': ['Juan', 'Pérez', 'Sánchez'], 'rol': 'estudiante'}"
   ]
  },
  {
   "cell_type": "code",
   "execution_count": null,
   "metadata": {
    "collapsed": true
   },
   "outputs": [],
   "source": [
    "type(estudiante)"
   ]
  },
  {
   "cell_type": "code",
   "execution_count": null,
   "metadata": {
    "collapsed": true
   },
   "outputs": [],
   "source": [
    "estudiante['rol']"
   ]
  },
  {
   "cell_type": "code",
   "execution_count": null,
   "metadata": {
    "collapsed": true
   },
   "outputs": [],
   "source": [
    "estudiante['nombre completo']"
   ]
  },
  {
   "cell_type": "code",
   "execution_count": null,
   "metadata": {
    "collapsed": true
   },
   "outputs": [],
   "source": [
    "json.dumps(estudiante)"
   ]
  },
  {
   "cell_type": "markdown",
   "metadata": {},
   "source": [
    "Ahora la cadena de texto resultante de la converión será ligada al nombre *estudiante_json*. "
   ]
  },
  {
   "cell_type": "code",
   "execution_count": null,
   "metadata": {
    "collapsed": true
   },
   "outputs": [],
   "source": [
    "estudiante_json = json.dumps(estudiante)"
   ]
  },
  {
   "cell_type": "markdown",
   "metadata": {},
   "source": [
    "Se transformará la cadena con la representación de un objeto en formato JSON a un objeto de Python."
   ]
  },
  {
   "cell_type": "code",
   "execution_count": null,
   "metadata": {
    "collapsed": true
   },
   "outputs": [],
   "source": [
    "json.loads(estudiante_json)"
   ]
  },
  {
   "cell_type": "code",
   "execution_count": null,
   "metadata": {
    "collapsed": true
   },
   "outputs": [],
   "source": [
    "nuevo_estudiante = json.loads(estudiante_json)"
   ]
  },
  {
   "cell_type": "code",
   "execution_count": null,
   "metadata": {
    "collapsed": true
   },
   "outputs": [],
   "source": [
    "estudiante is nuevo_estudiante"
   ]
  },
  {
   "cell_type": "code",
   "execution_count": null,
   "metadata": {
    "collapsed": true
   },
   "outputs": [],
   "source": [
    "estudiante == nuevo_estudiante"
   ]
  },
  {
   "cell_type": "markdown",
   "metadata": {},
   "source": [
    "### La función json.dump()\n",
    "Transforma a un objeto de tipo _dict_ ingresada como primer parámetro a una cadena de texto en formato JSON y lo guarda en un archivo de texto que se ingresa como segundo parámetro.\n",
    "\n",
    "**Sintaxis:**\n",
    "\n",
    "```\n",
    "json.dump(<objeto>, <archivo>)\n",
    "```\n",
    "\n",
    "\n",
    "### La función json.load()\n",
    "Lee el contenido de un archivo de texto que contiene información en formato JSON y la transforma en un objeto de tipo _dict_.\n",
    "\n",
    "**Sintaxis:**\n",
    "\n",
    "```\n",
    "json.dump(<archivo>)\n",
    "```"
   ]
  },
  {
   "cell_type": "markdown",
   "metadata": {},
   "source": [
    "**Ejemplo:**\n",
    "\n",
    "La representación en formato JSON del objeto tipo _dict_ llamado _estudiante_ será guardado en el archivo *alumno.json*."
   ]
  },
  {
   "cell_type": "code",
   "execution_count": null,
   "metadata": {
    "collapsed": true
   },
   "outputs": [],
   "source": [
    "estudiante = {'nombre completo': ['Juan', 'Pérez', 'Sánchez'], 'rol': 'estudiante'}"
   ]
  },
  {
   "cell_type": "code",
   "execution_count": null,
   "metadata": {
    "collapsed": true
   },
   "outputs": [],
   "source": [
    "with open(\"alumno.json\", \"wt\") as archivo:\n",
    "    json.dump(estudiante, archivo)"
   ]
  },
  {
   "cell_type": "markdown",
   "metadata": {},
   "source": [
    "Se extraerá el objeto de Python cuya representación en formato JSON se encuentra en el archivo [alumno.json](alumno.json)."
   ]
  },
  {
   "cell_type": "code",
   "execution_count": null,
   "metadata": {
    "collapsed": true
   },
   "outputs": [],
   "source": [
    "with open(\"alumno.json\", \"rt\") as archivo:\n",
    "    nuevo_estudiante = json.load(archivo)"
   ]
  },
  {
   "cell_type": "code",
   "execution_count": null,
   "metadata": {
    "collapsed": true
   },
   "outputs": [],
   "source": [
    "nuevo_estudiante"
   ]
  },
  {
   "cell_type": "code",
   "execution_count": null,
   "metadata": {
    "collapsed": true
   },
   "outputs": [],
   "source": [
    "type(nuevo_estudiante)"
   ]
  },
  {
   "cell_type": "code",
   "execution_count": null,
   "metadata": {
    "collapsed": true
   },
   "outputs": [],
   "source": [
    "estudiante is nuevo_estudiante"
   ]
  },
  {
   "cell_type": "markdown",
   "metadata": {},
   "source": [
    "<p style=\"text-align: center\"><a rel=\"license\" href=\"http://creativecommons.org/licenses/by/4.0/\"><img alt=\"Licencia Creative Commons\" style=\"border-width:0\" src=\"https://i.creativecommons.org/l/by/4.0/80x15.png\" /></a><br />Esta obra está bajo una <a rel=\"license\" href=\"http://creativecommons.org/licenses/by/4.0/\">Licencia Creative Commons Atribución 4.0 Internacional</a>.</p>\n",
    "<p style=\"text-align: center\">&copy; José Luis Chiquete Valdivieso. 2019.</p>"
   ]
  }
 ],
 "metadata": {
  "kernelspec": {
   "display_name": "Python 3",
   "language": "python",
   "name": "python3"
  },
  "language_info": {
   "codemirror_mode": {
    "name": "ipython",
    "version": 3
   },
   "file_extension": ".py",
   "mimetype": "text/x-python",
   "name": "python",
   "nbconvert_exporter": "python",
   "pygments_lexer": "ipython3",
   "version": "3.6.6"
  }
 },
 "nbformat": 4,
 "nbformat_minor": 2
}
