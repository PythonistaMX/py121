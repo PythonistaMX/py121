{
 "cells": [
  {
   "cell_type": "markdown",
   "metadata": {},
   "source": [
    "[![imagenes/pythonista.png](imagenes/pythonista.png)](https://pythonista.io)"
   ]
  },
  {
   "cell_type": "markdown",
   "metadata": {},
   "source": [
    "## La biblioteca *SQLAlchemy*.\n",
    "\n",
    "[*SQLAlchemy*](http://www.sqlalchemy.org/) comprende diversas herramientas enfocadas a interactuar con bases de datos relacionales de forma \"pythonica\".\n",
    "\n",
    "Consta de:\n",
    "* **SQLAlchemy Core**, la cual permite crear una interfaz genérica e independiente del gestor de base de datos por medio de un lenguaje  de expresiones basado en SQL.\n",
    "* **SQLAlchemy ORM** Mapeador entre objetos y transacciones relacionales u ORM (por las sigas de object-relational mapper).\n",
    "\n",
    "Conocer a profundidad la biblioteca de SQLAlchemy podría extenderse por varios capítulos, por lo que para fines de este curso, solo se explorarán superficialmente el ORM de SQLAlchemy y la extensión de Jupyter del lenguaje de expresiones de SQLAlchemy ([*ipython-sql*](https://github.com/catherinedevlin/ipython-sql)), la cual aprovecha las funcionalidades de SQLAlchemy Core. "
   ]
  },
  {
   "cell_type": "markdown",
   "metadata": {},
   "source": [
    "**Nota:** En este ejemplo tulizaremos el gestor de bases de datos [SQLite](https://sqlite.org/index.html), el cual vienejunto con Python y es capaz de crear bases de datos en un archivo o incluso en memoria."
   ]
  },
  {
   "cell_type": "code",
   "execution_count": null,
   "metadata": {},
   "outputs": [],
   "source": [
    "!pip install sqlalchemy"
   ]
  },
  {
   "cell_type": "code",
   "execution_count": null,
   "metadata": {},
   "outputs": [],
   "source": [
    "import sqlalchemy"
   ]
  },
  {
   "cell_type": "markdown",
   "metadata": {},
   "source": [
    "## Ruta de conexión a un gestor de la base de datos.\n",
    "\n",
    "El primer paso para poder interactuar con una base de datos es conectándose a esta. Para ello es necesario conocer la ruta y contar con las credenciales (generalmente usuario y contraseña) para poder acceder.\n",
    "\n",
    "La sintaxis de la ruta de conexión a una base de datos utiliza la siguiente sintaxis.\n",
    "\n",
    "```\n",
    "<<dialecto><controlador>://<usuario>:<contraseña>@<ruta del servidor>:<puerto>/<base de datos>\n",
    "```\n",
    "\n",
    "Para mayor información, consultar: \n",
    "\n",
    "http://docs.sqlalchemy.org/en/latest/core/engines.html#database-urls"
   ]
  },
  {
   "cell_type": "markdown",
   "metadata": {},
   "source": [
    "## La clase *sqlalchemy.engine.base.Engine*.\n",
    "\n",
    "La clase *sqlalchemy.engine.base.Engine* tiene por finalidad instanciar objetos que representan el elemento fundamental de esta biblioteca para conectarse con una base de datos y a su vez mapear los atributos de los objetos creados a partir del modelo ORM.\n",
    "\n",
    "Para instanciar un objeto de *sqlalchemy.engine.base.Engine* se utliliza la función *sqlalchemy.create_engine()* con la siguiente sintaxis:\n",
    "\n",
    "```\n",
    "create_engine('<ruta>', <argumentos>)\n",
    "````"
   ]
  },
  {
   "cell_type": "markdown",
   "metadata": {},
   "source": [
    "**Ejemplo:**\n",
    "\n",
    "Se instanciará un objetos a partir de *sqlalchemy.Engine* conectado a una base de datos localizada en [*data/alumnos.db*](data/alumnos.txt)"
   ]
  },
  {
   "cell_type": "code",
   "execution_count": null,
   "metadata": {},
   "outputs": [],
   "source": [
    "engine = sqlalchemy.create_engine('sqlite:///data/alumnos.db')"
   ]
  },
  {
   "cell_type": "code",
   "execution_count": null,
   "metadata": {},
   "outputs": [],
   "source": [
    "type(engine)"
   ]
  },
  {
   "cell_type": "markdown",
   "metadata": {},
   "source": [
    "## Definición de un modelo objeto-relacional.\n",
    "\n",
    "Antes de crear la base de datos es necesario definir un modelo que mapee a un objeto con al menos una tabla en la base de datos.\n",
    "\n",
    "La función *sqlalchemy.ext.declarative.declarative_base()* nos permite crear un modelo a partir de las subclases de *sqlalchemy.ext.declarative.api.DeclarativeMeta*."
   ]
  },
  {
   "cell_type": "markdown",
   "metadata": {},
   "source": [
    "**Ejemplo:**\n",
    "\n",
    "Se creará la clase *Base* como superclase genera.\n",
    "\n",
    "**Nota:** A partir de este momento cuando se utilice el nombre *Base* se referirá a una subclase de  *sqlalchemy.ext.declarative.api.DeclarativeMeta*."
   ]
  },
  {
   "cell_type": "code",
   "execution_count": null,
   "metadata": {},
   "outputs": [],
   "source": [
    "from sqlalchemy.ext.declarative import declarative_base"
   ]
  },
  {
   "cell_type": "code",
   "execution_count": null,
   "metadata": {},
   "outputs": [],
   "source": [
    "Base = declarative_base()"
   ]
  },
  {
   "cell_type": "code",
   "execution_count": null,
   "metadata": {},
   "outputs": [],
   "source": [
    "type(Base)"
   ]
  },
  {
   "cell_type": "markdown",
   "metadata": {},
   "source": [
    "### Definición de columnas de una tabla como atributo de una clase.\n",
    "\n",
    "Las subclase de *Base* corresponden a tablas dentro de una base de datos.\n",
    "\n",
    "Estas subclases tiene el atributo *\\_\\_tablename\\_\\_* que corresponde al nombre de la tabla a la cual está mapeando sus atributos.\n",
    "\n",
    "La sintaxis es la siguiente:\n",
    "```\n",
    "class <Nombre de la Clase>(Base):\n",
    "    __tablename__ = <nombre de la tabla>\n",
    "    ...\n",
    "    ...\n",
    "    ...\n",
    "```\n",
    "\n",
    "Cada objeto instanciado de estas subclases corresponderá a un registro en la tabla definida en *\\_\\_tablename\\_\\_*."
   ]
  },
  {
   "cell_type": "markdown",
   "metadata": {},
   "source": [
    "#### Definición de columnas como atributos.\n",
    "\n",
    "Para mapear un atribulo a una columna de la tabla se utiliza la clase *sqlalchemy.Column* con la siguiente sintaxis.\n",
    "\n",
    "```\n",
    "class <Nombre de la Clase>(Base):\n",
    "    __tablename__ = <nombre de la tabla>\n",
    "    <nombre del atributo> = sqlalchemy.Column(<tipo de dato>, <argumentos>)\n",
    "    ...\n",
    "    ...\n",
    "```"
   ]
  },
  {
   "cell_type": "markdown",
   "metadata": {},
   "source": [
    "##### Algunos parámetros relevantes de *sqlalchemy.Column*. \n",
    "\n",
    "* El parámetro *primary\\_key* con argumento igual a *True* indica que dicho atributo  y será la clave primaria de la tabla definida por Base.\\_\\_tablename\\_\\_ y además será utilizado como parámetro al instanciar a la subclase de *Base*.\n",
    "* El parámetro *unique* con argumento igual a *True* indica que no puede haber dos valores idénticos en la columna. \n",
    "\n",
    "##### Tipos de datos de SQLAlchemy.\n",
    "\n",
    "Cada columna debe de ser definida en la base de datos con un tipo de dato específico.\n",
    "\n",
    "Los tipos de datos que SQLAlchemy acepta pueden ser consultados en http://docs.sqlalchemy.org/en/latest/core/type_basics.html.\n",
    "\n"
   ]
  },
  {
   "cell_type": "markdown",
   "metadata": {},
   "source": [
    "En este ejemplo utilizaremos los tipos:\n",
    "\n",
    "* [*Integer*](http://docs.sqlalchemy.org/en/latest/core/type_basics.html#sqlalchemy.types.Integer).\n",
    "* [*String*](http://docs.sqlalchemy.org/en/latest/core/type_basics.html#sqlalchemy.types.String).\n",
    "* [*Float*](http://docs.sqlalchemy.org/en/latest/core/type_basics.html#sqlalchemy.types.Float).\n",
    "* [*Boolean*](http://docs.sqlalchemy.org/en/latest/core/type_basics.html#sqlalchemy.types.Boolean)."
   ]
  },
  {
   "cell_type": "markdown",
   "metadata": {},
   "source": [
    "A continuación se creará la clase *Alumno* que es subclase de *Base*, la cual estará ligada a la tabla *alumnos* cuyas columnas/atributos son:\n",
    "\n",
    "* *cuenta* de tipo *Integer* con el argumento *primary\\_key=True*.\n",
    "* *nombre* de tipo *String* con tamaño de 50 caracteres.\n",
    "* *primer_apellido* de tipo *String* con tamaño de 50 caracteres.\n",
    "* *segundo_apellido* de tipo *String* con tamaño de 50 caracteres.\n",
    "* *carrera* de tipo *String* con tamaño de 50 caracteres.\n",
    "* *semestre* de tipo *Integer*.\n",
    "* *promedio* de tipo *Float*.\n",
    "* *al_corriente* de tipo *Boolean*. "
   ]
  },
  {
   "cell_type": "code",
   "execution_count": null,
   "metadata": {},
   "outputs": [],
   "source": [
    "from sqlalchemy import Integer, String, Float, Boolean, Column"
   ]
  },
  {
   "cell_type": "code",
   "execution_count": null,
   "metadata": {},
   "outputs": [],
   "source": [
    "class Alumno(Base):\n",
    "    __tablename__ = 'alumnos'\n",
    "    cuenta = Column(Integer, primary_key=True)\n",
    "    nombre = Column(String(50))\n",
    "    primer_apellido = Column(String(50))\n",
    "    segundo_apellido = Column(String(50))\n",
    "    carrera = Column(String(50))\n",
    "    semestre = Column(Integer)\n",
    "    promedio = Column(Float)\n",
    "    al_corriente = Column(Boolean)"
   ]
  },
  {
   "cell_type": "markdown",
   "metadata": {},
   "source": [
    "### Creación de las tablas de la base de datos con el método *Base.metadata.create_all()*.\n",
    "\n",
    "Una base de datos puede consistir de múltiples tablas. En este caso, la base de datos sólo contendrá a la tabla *alumnos* ligadas a la clase *Alumnos*.\n",
    "\n",
    "Para crear la base de datos con las tablas definidas se utiliza el método *Base.metadata.create_all()* en la base de datos gestionada por el objeto instanciado de *sqlalchemy.engine.base.Engine*. \n",
    "\n",
    "* En caso de que no exista el archivo con la base de datos, este será creado.\n",
    "* En caso de que ya existan tablas definidas en la base de datos, sólos e crearán las que sean nuevas y los datos que ya contienen no serán eliminados."
   ]
  },
  {
   "cell_type": "code",
   "execution_count": null,
   "metadata": {},
   "outputs": [],
   "source": [
    "Base.metadata.create_all(engine)"
   ]
  },
  {
   "cell_type": "markdown",
   "metadata": {},
   "source": [
    "Ahora se creó el archivo *alumnos.db* en el directorio [*data*](data/).\n",
    "\n",
    "A partir de este momento, cada objeto instanciado de *Alumno* puede ser representado como un registro de la tabla *alumnos*."
   ]
  },
  {
   "cell_type": "markdown",
   "metadata": {},
   "source": [
    "### Creación de una sesión.\n",
    "\n",
    "La función *sqlalchemy.orm.sessionmaker()* permite crear una clase *sqlalchemy.orm.session.sessionmaker* que contiene atributos y métodos que permiten interactuar con la base de datos. En este capítulo usaremos:\n",
    "\n",
    "* El método *add()* que añade o sustituye el registro ligado al objeto instanciado de una subclase de *Base* en el registro correspondiente dentro de la base de datos.\n",
    "* El método *delete()* que elimina el registro ligado al objeto.\n",
    "* El método *commit()* el cual aplica los cambios en la base de datos."
   ]
  },
  {
   "cell_type": "code",
   "execution_count": null,
   "metadata": {},
   "outputs": [],
   "source": [
    "from sqlalchemy.orm import sessionmaker\n",
    "Sesion = sessionmaker(bind=engine)"
   ]
  },
  {
   "cell_type": "code",
   "execution_count": null,
   "metadata": {},
   "outputs": [],
   "source": [
    "type(Sesion)"
   ]
  },
  {
   "cell_type": "code",
   "execution_count": null,
   "metadata": {},
   "outputs": [],
   "source": [
    "sesion = Sesion()"
   ]
  },
  {
   "cell_type": "markdown",
   "metadata": {},
   "source": [
    "###  Poblamiento de la base de datos a partir de un archivo.\n",
    "\n",
    "El archivo [*data/alumnos.txt*](data/alumnos.txt) contiene la representación de un objeto tipo *list* que a su vez contiene objetos tipo *dir* con los campos:\n",
    "\n",
    "* *'Cuenta'*.\n",
    "* *'Nombre'*.\n",
    "* *'Primer Apellido'*.\n",
    "* *'Segundo Apellido'*.\n",
    "* *'Carrera'*.\n",
    "* *'Semestre'*.\n",
    "* *'Promedio'*.\n",
    "* *'Al Corriente'*.\n",
    "\n",
    "Se puede observar que los identificadores de los campos son similares a los nombres de las columnas definidas en la clase *Alumnos*. Sólo es necesario convertirlos a minúsculas y sustituir los espacios con guiones bajos.\n",
    "\n",
    "La siguiente celda convertirá cada objeto tipo *dict* del archivo *data/alumnos.txt* en un objeto instaciado de *Alumno* y lo ligará a la base de datos.\n",
    "\n",
    "Cada objeto ligado a *alumno* será sustituido por el siguiente cada vez que *Alumno* sea instanciado en cada iteración. Esto implica que el objeto sustituído será destruido, pero sus atributos persistirán en la base de datos."
   ]
  },
  {
   "cell_type": "code",
   "execution_count": null,
   "metadata": {},
   "outputs": [],
   "source": [
    "# Craga los datos del archivo.\n",
    "with open('data/alumnos.txt', 'tr') as archivo:\n",
    "    base = eval(archivo.read())\n",
    "    \n",
    "# Puebla la tabla alumno instanciando de Alumno a cada elemento de tipo _dict_.\n",
    "for registro in base:\n",
    "    # Se instancia el objeto alumno a partir de la clase Alumno.\n",
    "    alumno  = Alumno(cuenta=registro['Cuenta'])\n",
    "    del registro['Cuenta']\n",
    "    for campo in registro: \n",
    "        # Los campos son convertidos en atributos. \n",
    "        setattr(alumno, campo.lower().replace(' ', '_'), registro[campo])\n",
    "    #\n",
    "    sesion.add(alumno)\n",
    "# Los cambios se aplican a la base de datos.\n",
    "sesion.commit()"
   ]
  },
  {
   "cell_type": "markdown",
   "metadata": {},
   "source": [
    "### Consultas mediante el ORM.\n",
    "\n",
    "Los objetos de  subclases de *sqlalchemy.orm.session.sessionmaker* pueden realizar búsquedas relacionadas a los objetos instanciados de *Base* a partir de ellas y de las tablas ligadas a ellas.\n",
    "\n",
    "SQLAlchemy puede realizar consultas tanto mediante álgebra relacional como de búsqueda sobre los atributos de sus objetos instanciados.\n",
    "\n",
    "**Nota:** Para ilustrar estas operaciones se utilizará la clase *Alumno*, la cual es subclase de *Base*.\n"
   ]
  },
  {
   "cell_type": "markdown",
   "metadata": {},
   "source": [
    "Para efectos de este curso sólo se explorarán los siguientes métodos:\n",
    "\n",
    "* *query.first()* regresa al primer objeto encontrado en una búsqueda.\n",
    "* *query.all()* regresa un objeto tipo *list* con todos los objetos resultantes de una búsqueda.\n",
    "* *query.filter()* regresa un objeto de tipo *Query* con los objetos encontrados al ejecutar una búsqueda que satisfaga la expresión lógica sobre los atributos de la clase, la cual es ingresada como argumento.\n",
    "* *query.filter_by()* regresa un objeto de tipo *Query* con los objetos encontrados al ejecutar una búsqueda en la tabla de la base de datos cuyos valores en la columna sean iguales al valor que se ingresa como argumento en la forma ```<columna>=<valor>```."
   ]
  },
  {
   "cell_type": "code",
   "execution_count": null,
   "metadata": {},
   "outputs": [],
   "source": [
    "sesion.query(Alumno).filter(Alumno.cuenta)"
   ]
  },
  {
   "cell_type": "code",
   "execution_count": null,
   "metadata": {},
   "outputs": [],
   "source": [
    "sesion.query(Alumno).filter(Alumno.cuenta).all()"
   ]
  },
  {
   "cell_type": "code",
   "execution_count": null,
   "metadata": {
    "scrolled": true
   },
   "outputs": [],
   "source": [
    "resultado = sesion.query(Alumno).filter(Alumno.cuenta > 1231221).all()"
   ]
  },
  {
   "cell_type": "code",
   "execution_count": null,
   "metadata": {},
   "outputs": [],
   "source": [
    "resultado[0].nombre"
   ]
  },
  {
   "cell_type": "markdown",
   "metadata": {},
   "source": [
    "## La extensión *ipython-sql* de Jupyter.\n",
    "\n",
    "La extensión [*ipython-sql*](https://github.com/catherinedevlin/ipython-sql) utiliza a SQLAlchemy para realizar conexiones a bases de datos y ejecutar instrucciones SQL desde una celda de Jupyter mediante \"comandos mágicos\".\n",
    "\n",
    "Para cargar la extensión se debe ejecutarse desde una celda con la siguiente sintaxis:\n",
    "\n",
    "```\n",
    "%load_ext sql\n",
    "```\n",
    "\n",
    "Para conectarse a la base de datos se utiliza la siguiente sintaxis:\n",
    "\n",
    "```\n",
    "%sql <ruta a la base de datos>\n",
    "```\n",
    "\n",
    "Para ejecutar una instrucción SQL por celda se utiliza la siguiente sintaxis:\n",
    "\n",
    "```\n",
    "%sql <instrucción>\n",
    "```\n",
    "\n",
    "Para ejecutar varias instrucciones SQL en una celda se utiliza la siguiente sintaxis:\n",
    "\n",
    "```\n",
    "%%sql \n",
    "<instrucción>\n",
    "<instrucción>\n",
    "...\n",
    "<instrucción>\n",
    "```"
   ]
  },
  {
   "cell_type": "markdown",
   "metadata": {},
   "source": [
    "**Ejemplo:**\n",
    "\n",
    "Se hará una conexión a la base de datos creada con *SQLite* y se realizará una consulta."
   ]
  },
  {
   "cell_type": "code",
   "execution_count": null,
   "metadata": {},
   "outputs": [],
   "source": [
    "!pip install ipython-sql"
   ]
  },
  {
   "cell_type": "code",
   "execution_count": null,
   "metadata": {},
   "outputs": [],
   "source": [
    "%load_ext sql"
   ]
  },
  {
   "cell_type": "code",
   "execution_count": null,
   "metadata": {},
   "outputs": [],
   "source": [
    "%sql sqlite:///data/alumnos.db"
   ]
  },
  {
   "cell_type": "code",
   "execution_count": null,
   "metadata": {},
   "outputs": [],
   "source": [
    "%%sql \n",
    "select * from alumnos"
   ]
  },
  {
   "cell_type": "markdown",
   "metadata": {},
   "source": [
    "<p style=\"text-align: center\"><a rel=\"license\" href=\"http://creativecommons.org/licenses/by/4.0/\"><img alt=\"Licencia Creative Commons\" style=\"border-width:0\" src=\"https://i.creativecommons.org/l/by/4.0/80x15.png\" /></a><br />Esta obra está bajo una <a rel=\"license\" href=\"http://creativecommons.org/licenses/by/4.0/\">Licencia Creative Commons Atribución 4.0 Internacional</a>.</p>\n",
    "<p style=\"text-align: center\">&copy; José Luis Chiquete Valdivieso. 2019.</p>"
   ]
  }
 ],
 "metadata": {
  "kernelspec": {
   "display_name": "Python 3",
   "language": "python",
   "name": "python3"
  },
  "language_info": {
   "codemirror_mode": {
    "name": "ipython",
    "version": 3
   },
   "file_extension": ".py",
   "mimetype": "text/x-python",
   "name": "python",
   "nbconvert_exporter": "python",
   "pygments_lexer": "ipython3",
   "version": "3.6.9"
  }
 },
 "nbformat": 4,
 "nbformat_minor": 2
}
