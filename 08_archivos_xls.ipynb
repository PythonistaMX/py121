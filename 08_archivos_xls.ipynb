{
 "cells": [
  {
   "cell_type": "markdown",
   "metadata": {},
   "source": [
    "[![imagenes/pythonista.png](imagenes/pythonista.png)](https://pythonista.io)"
   ]
  },
  {
   "cell_type": "markdown",
   "metadata": {},
   "source": [
    "En vista de que todos los productos ofimáticos de hojas de cálculo cuentan con la funcionalidad de importar y exportar a archivos de tipo CSV, por lo general se favorece su uso al hacer extracción y análisis de datos. Sin embargo, el formato de archivo de las hojas de cálculo de MS-Excel es muy requerido para crear reportes automatizados.\n",
    "\n",
    "Existen algunos proyectos dedicados a manipular archivos XLS. Algunos de estos se pueden consultar en:\n",
    "\n",
    "http://www.python-excel.org/"
   ]
  },
  {
   "cell_type": "markdown",
   "metadata": {},
   "source": [
    "## El proyecto *openpyxl*.\n",
    "\n",
    "Este proyecto está enfocado a ofrecer funcionalidades avanzadas de hoja de cálculo para archivos de Excel mediante Python.\n",
    "\n",
    "La documentación del proyecto puede ser consultada en https://openpyxl.readthedocs.io/en/stable/"
   ]
  },
  {
   "cell_type": "code",
   "execution_count": null,
   "metadata": {},
   "outputs": [],
   "source": [
    "!pip install openpyxl"
   ]
  },
  {
   "cell_type": "code",
   "execution_count": null,
   "metadata": {},
   "outputs": [],
   "source": [
    "import openpyxl"
   ]
  },
  {
   "cell_type": "markdown",
   "metadata": {},
   "source": [
    "## Creación de una hoja de cálculo.\n",
    "\n",
    "### La clase *openpyxl.Workbook*.\n",
    "\n",
    "Esta clase es la encargada de crear un objeto con todas las características de una hoja de cálculo, incluyendo métodos capaces de poder realizar operaciones que impliquen a una o a un conjunto de celdas e incluso varias pestañas."
   ]
  },
  {
   "cell_type": "code",
   "execution_count": null,
   "metadata": {},
   "outputs": [],
   "source": [
    "wb = openpyxl.Workbook()"
   ]
  },
  {
   "cell_type": "code",
   "execution_count": null,
   "metadata": {},
   "outputs": [],
   "source": [
    "[item for item in wb]"
   ]
  },
  {
   "cell_type": "markdown",
   "metadata": {},
   "source": [
    "### Acceso a las pestañas de una hoja de cálculo.\n",
    "\n",
    "Los objetos de tipo *openpyxl.Workbook* contienen una estructura de diccionario en la que cada registro corresponde a una pestaña de la hoja de cálculo. Para acceder a una pestaña en particular se utiliza su nombre como identificador.\n",
    "\n",
    "Las pestañas de una hoja de cálculo son instancias de la clase *openpyxl.worksheet.worksheet.Worksheet*.\n",
    "\n",
    "### El atributo *openpyxl.Workbook.active*.\n",
    "\n",
    "El atributo atributo *openpyxl.Workbook.active* corresponde a la pestaña activa de una hoja de cálculo."
   ]
  },
  {
   "cell_type": "code",
   "execution_count": null,
   "metadata": {},
   "outputs": [],
   "source": [
    "ws = wb.active\n",
    "print(type(ws))"
   ]
  },
  {
   "cell_type": "code",
   "execution_count": null,
   "metadata": {},
   "outputs": [],
   "source": [
    "ws = wb['Sheet']\n",
    "print(type(ws))"
   ]
  },
  {
   "cell_type": "markdown",
   "metadata": {},
   "source": [
    "Cada pestaña de una hoja de cálculo contiene a su vez una estructura de tipo *dict*  correspondiente a la coordenada de cada celda. \n",
    "\n",
    "Las celdas son una instancia de la clase *openpyxl.cell.cell.Cell*."
   ]
  },
  {
   "cell_type": "code",
   "execution_count": null,
   "metadata": {},
   "outputs": [],
   "source": [
    "ws['A1'] = 42"
   ]
  },
  {
   "cell_type": "code",
   "execution_count": null,
   "metadata": {},
   "outputs": [],
   "source": [
    "type(ws['A1'])"
   ]
  },
  {
   "cell_type": "code",
   "execution_count": null,
   "metadata": {},
   "outputs": [],
   "source": [
    "[item for item in ws]"
   ]
  },
  {
   "cell_type": "markdown",
   "metadata": {},
   "source": [
    "La conversión entre tipos de datos de Python y tipos de datos de Excel es transparente."
   ]
  },
  {
   "cell_type": "code",
   "execution_count": null,
   "metadata": {},
   "outputs": [],
   "source": [
    "import datetime\n",
    "ws['A2'] = datetime.datetime.now()"
   ]
  },
  {
   "cell_type": "code",
   "execution_count": null,
   "metadata": {},
   "outputs": [],
   "source": [
    "[item for item in ws]"
   ]
  },
  {
   "cell_type": "code",
   "execution_count": null,
   "metadata": {},
   "outputs": [],
   "source": [
    "celda = ws['A2']"
   ]
  },
  {
   "cell_type": "code",
   "execution_count": null,
   "metadata": {},
   "outputs": [],
   "source": [
    "celda.value"
   ]
  },
  {
   "cell_type": "markdown",
   "metadata": {},
   "source": [
    "Del mismo modo, las pestañas tienen los atributos *rows* y *columns* para identificar a los renglones y columnas respectivamente.\n",
    "Estos atributos corresponden a un iterador que enlista a los elementos de celda."
   ]
  },
  {
   "cell_type": "code",
   "execution_count": null,
   "metadata": {},
   "outputs": [],
   "source": [
    "[item for item in ws.columns]"
   ]
  },
  {
   "cell_type": "code",
   "execution_count": null,
   "metadata": {},
   "outputs": [],
   "source": [
    "[item for item in ws.rows]"
   ]
  },
  {
   "cell_type": "markdown",
   "metadata": {},
   "source": [
    "### El método *append()*.\n",
    "\n",
    "Los objetos *openpyxl.worksheet.worksheet.Worksheet* cuentan con el método *append()*, el cual escribe en la fila final de la pestaña."
   ]
  },
  {
   "cell_type": "code",
   "execution_count": null,
   "metadata": {},
   "outputs": [],
   "source": [
    "ws.append([1, 2, 3])"
   ]
  },
  {
   "cell_type": "markdown",
   "metadata": {},
   "source": [
    "## Guardado de una hoja de cálculo en un archivo.\n",
    "\n",
    "Para guardar la hoja de cálculo, se utiliza el método *save()* del objeto tipo *openpyxl.Workbook* con la siguiente sintaxis:\n",
    "\n",
    "```\n",
    "openpyxl.Workbook.save('<ruta>')\n",
    "```"
   ]
  },
  {
   "cell_type": "code",
   "execution_count": null,
   "metadata": {},
   "outputs": [],
   "source": [
    "wb.save(\"ejemplo.xlsx\")"
   ]
  },
  {
   "cell_type": "markdown",
   "metadata": {},
   "source": [
    "## Lectura de un archivo. \n",
    "\n",
    "La función *openpyxl.load_workbook* permite acceder a un archivo existente y creará un objeto de tipo *openpyxl.Workbook* mediante la siguiente sintaxis:\n",
    "\n",
    "```\n",
    "openpyxl.load_workbook(filename='<ruta>', read_only=<booleano>)\n",
    "```"
   ]
  },
  {
   "cell_type": "markdown",
   "metadata": {},
   "source": [
    "**Ejemplos:**"
   ]
  },
  {
   "cell_type": "markdown",
   "metadata": {},
   "source": [
    "* Desde el archivo *ejemplo.xlsx* se obtendrá el valor de cada elemento de la primera pestaña de la hoja de cálculo a partir de sus filas."
   ]
  },
  {
   "cell_type": "code",
   "execution_count": null,
   "metadata": {
    "scrolled": false
   },
   "outputs": [],
   "source": [
    "wb = openpyxl.load_workbook(filename='ejemplo.xlsx', read_only=True)\n",
    "ws = wb.active\n",
    "\n",
    "for renglon in ws.rows:\n",
    "    for celda in renglon:\n",
    "        print(celda.value)"
   ]
  },
  {
   "cell_type": "markdown",
   "metadata": {},
   "source": [
    "* Desde el archivo *ejemplo.xlsx* se obtendrá el valor de cada elemento de la primera pestaña de la hoja de cálculo a partir de sus columnas."
   ]
  },
  {
   "cell_type": "code",
   "execution_count": null,
   "metadata": {},
   "outputs": [],
   "source": [
    "wb = openpyxl.load_workbook(filename='ejemplo.xlsx')\n",
    "ws = wb.active\n",
    "\n",
    "for columna in ws.columns:\n",
    "    for celda in columna:\n",
    "        print(celda.value)"
   ]
  },
  {
   "cell_type": "markdown",
   "metadata": {},
   "source": [
    "<p style=\"text-align: center\"><a rel=\"license\" href=\"http://creativecommons.org/licenses/by/4.0/\"><img alt=\"Licencia Creative Commons\" style=\"border-width:0\" src=\"https://i.creativecommons.org/l/by/4.0/80x15.png\" /></a><br />Esta obra está bajo una <a rel=\"license\" href=\"http://creativecommons.org/licenses/by/4.0/\">Licencia Creative Commons Atribución 4.0 Internacional</a>.</p>\n",
    "<p style=\"text-align: center\">&copy; José Luis Chiquete Valdivieso. 2019.</p>"
   ]
  }
 ],
 "metadata": {
  "kernelspec": {
   "display_name": "Python 3",
   "language": "python",
   "name": "python3"
  },
  "language_info": {
   "codemirror_mode": {
    "name": "ipython",
    "version": 3
   },
   "file_extension": ".py",
   "mimetype": "text/x-python",
   "name": "python",
   "nbconvert_exporter": "python",
   "pygments_lexer": "ipython3",
   "version": "3.6.9"
  }
 },
 "nbformat": 4,
 "nbformat_minor": 2
}
