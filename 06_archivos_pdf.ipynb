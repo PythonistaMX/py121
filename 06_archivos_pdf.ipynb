{
 "cells": [
  {
   "cell_type": "markdown",
   "metadata": {},
   "source": [
    "[![imagenes/pythonista.png](imagenes/pythonista.png)](https://pythonista.io)"
   ]
  },
  {
   "cell_type": "markdown",
   "metadata": {},
   "source": [
    "El formato PDF es un [estándar internacional](https://www.iso.org/standard/51502.html) para la creación de documentos que pueden ser desplegados o impresos de forma idéntica independientemente del dispositivo o aplicación que acceda a dichos documentos.\n",
    "\n",
    "El énfasis del formato PDF reside en la correcta legibilidad de la información para los seres humanos, poniendo en segundo término la estructura y orden de la información que contiene.\n"
   ]
  },
  {
   "cell_type": "markdown",
   "metadata": {},
   "source": [
    "## Creación de documentos PDF a partir de HTML con *wkhtmltopdf*.\n",
    "\n",
    "El proyecto https://wkhtmltopdf.org/ ofrece una herramienta capaz de transformar código HTML en documentos PDF. Dicha herramienta se ejecuta directamente como un comando del sistema con la sintaxis.\n",
    "\n",
    "```\n",
    "wkhtmltopdf <archivo HTML de origen> <archivo PDF resultante> <parámetros>\n",
    "```"
   ]
  },
  {
   "cell_type": "markdown",
   "metadata": {},
   "source": [
    "### Restricciones. \n",
    "\n",
    "El paquete *wkhtmltopdf* requiere del uso de un servidor X y la biblioteca Qt. En el caso de las instalaciones en sistemas Windows, los binarios incluyen lo necesario para poder ejecutar la herramienta desde una terminal. Del mismo modo, los sistemas de escritorio de Linux también cuentan con un entrono gráfico gestionado por un servidor X. Sin embargo, es muy común que un servidor Linux no cuente con un servidor X instalado.\n",
    "\n",
    "Para que *pdfkit* pueda funcionar, es necesario que *wkhtmltopdf* se encuentre en una ruta conocida, por lo que en el caso de Windows, es necesario añadir esta ruta a la variable de entorno *PATH*."
   ]
  },
  {
   "cell_type": "markdown",
   "metadata": {},
   "source": [
    "## Instalación de *wkhtmltopdf* junto con un servidor virtual de X en CentOS 7.\n",
    "\n",
    "La máquina virtual que fue descargada del sitio http://pythonista.io no cuenta con un servidor X, por lo que es necesario instalarlo al igual que el paquete *wkhtmltopdf*.\n",
    "\n",
    "**Nota:**\n",
    "Este ejercicio representa el caso menos favorable. Si se utiliza esta herramienta desde un sistema Windows o desde un entorno gráfico en Linux, el uso de esta herramienta es mucho más simple."
   ]
  },
  {
   "cell_type": "markdown",
   "metadata": {},
   "source": [
    "### Instalación y configuración del servidor X virtual.\n",
    "El servidor X virtual o *xvfb* por las siglas en inglés de \"X Virtual FrameBuffer\" es una variante de un servidor X que realiza las mismas opraciones que uno convencional, pero no se despliega en pantalla. Se utiliza para realizar opraciones que requieren de un entrono gráfico en un sistema GNU/Linux."
   ]
  },
  {
   "cell_type": "markdown",
   "metadata": {},
   "source": [
    "#### Instalación del paquete.\n",
    "\n",
    "En este caso se utilizará el gestor de paquetes, *yum*."
   ]
  },
  {
   "cell_type": "code",
   "execution_count": 1,
   "metadata": {
    "scrolled": false
   },
   "outputs": [
    {
     "name": "stdout",
     "output_type": "stream",
     "text": [
      "Loaded plugins: fastestmirror\n",
      "Determining fastest mirrors\n",
      "epel/x86_64/metalink                                     |  16 kB     00:00     \n",
      " * base: repos-tx.psychz.net\n",
      " * epel: mirror.compevo.com\n",
      " * extras: repos.dfw.quadranet.com\n",
      " * updates: mirrors.usc.edu\n",
      "base                                                     | 3.6 kB     00:00     \n",
      "epel                                                     | 5.4 kB     00:00     \n",
      "extras                                                   | 3.4 kB     00:00     \n",
      "mongodb-org-4.0                                          | 2.5 kB     00:00     \n",
      "updates                                                  | 3.4 kB     00:00     \n",
      "(1/8): base/7/x86_64/group_gz                              | 166 kB   00:00     \n",
      "(2/8): epel/x86_64/group_gz                                |  88 kB   00:01     \n",
      "(3/8): epel/x86_64/updateinfo                              | 998 kB   00:01     \n",
      "(4/8): base/7/x86_64/primary_db                            | 6.0 MB   00:02     \n",
      "(5/8): extras/7/x86_64/primary_db                          | 215 kB   00:01     \n",
      "(6/8): mongodb-org-4.0/primary_db                          |  56 kB   00:00     \n",
      "(7/8): epel/x86_64/primary_db                              | 6.8 MB   00:03     \n",
      "(8/8): updates/7/x86_64/primary_db                         | 7.4 MB   00:03     \n",
      "Resolving Dependencies\n",
      "--> Running transaction check\n",
      "---> Package xorg-x11-server-Xvfb.x86_64 0:1.20.1-5.6.el7_6 will be installed\n",
      "--> Processing Dependency: xorg-x11-server-common >= 1.20.1-5.6.el7_6 for package: xorg-x11-server-Xvfb-1.20.1-5.6.el7_6.x86_64\n",
      "--> Processing Dependency: xorg-x11-xauth for package: xorg-x11-server-Xvfb-1.20.1-5.6.el7_6.x86_64\n",
      "--> Processing Dependency: libXfont2.so.2()(64bit) for package: xorg-x11-server-Xvfb-1.20.1-5.6.el7_6.x86_64\n",
      "--> Processing Dependency: libXdmcp.so.6()(64bit) for package: xorg-x11-server-Xvfb-1.20.1-5.6.el7_6.x86_64\n",
      "--> Running transaction check\n",
      "---> Package libXdmcp.x86_64 0:1.1.2-6.el7 will be installed\n",
      "---> Package libXfont2.x86_64 0:2.0.3-1.el7 will be installed\n",
      "--> Processing Dependency: libfontenc.so.1()(64bit) for package: libXfont2-2.0.3-1.el7.x86_64\n",
      "---> Package xorg-x11-server-common.x86_64 0:1.20.1-5.6.el7_6 will be installed\n",
      "--> Processing Dependency: xkeyboard-config for package: xorg-x11-server-common-1.20.1-5.6.el7_6.x86_64\n",
      "--> Processing Dependency: xkbcomp for package: xorg-x11-server-common-1.20.1-5.6.el7_6.x86_64\n",
      "---> Package xorg-x11-xauth.x86_64 1:1.0.9-1.el7 will be installed\n",
      "--> Processing Dependency: libXmuu.so.1()(64bit) for package: 1:xorg-x11-xauth-1.0.9-1.el7.x86_64\n",
      "--> Running transaction check\n",
      "---> Package libXmu.x86_64 0:1.1.2-2.el7 will be installed\n",
      "--> Processing Dependency: libXt.so.6()(64bit) for package: libXmu-1.1.2-2.el7.x86_64\n",
      "---> Package libfontenc.x86_64 0:1.1.3-3.el7 will be installed\n",
      "---> Package xkeyboard-config.noarch 0:2.24-1.el7 will be installed\n",
      "---> Package xorg-x11-xkb-utils.x86_64 0:7.7-14.el7 will be installed\n",
      "--> Processing Dependency: libxkbfile.so.1()(64bit) for package: xorg-x11-xkb-utils-7.7-14.el7.x86_64\n",
      "--> Running transaction check\n",
      "---> Package libXt.x86_64 0:1.1.5-3.el7 will be installed\n",
      "--> Processing Dependency: libSM.so.6()(64bit) for package: libXt-1.1.5-3.el7.x86_64\n",
      "--> Processing Dependency: libICE.so.6()(64bit) for package: libXt-1.1.5-3.el7.x86_64\n",
      "---> Package libxkbfile.x86_64 0:1.0.9-3.el7 will be installed\n",
      "--> Running transaction check\n",
      "---> Package libICE.x86_64 0:1.0.9-9.el7 will be installed\n",
      "---> Package libSM.x86_64 0:1.2.2-2.el7 will be installed\n",
      "--> Finished Dependency Resolution\n",
      "\n",
      "Dependencies Resolved\n",
      "\n",
      "================================================================================\n",
      " Package                    Arch       Version                Repository   Size\n",
      "================================================================================\n",
      "Installing:\n",
      " xorg-x11-server-Xvfb       x86_64     1.20.1-5.6.el7_6       updates     854 k\n",
      "Installing for dependencies:\n",
      " libICE                     x86_64     1.0.9-9.el7            base         66 k\n",
      " libSM                      x86_64     1.2.2-2.el7            base         39 k\n",
      " libXdmcp                   x86_64     1.1.2-6.el7            base         34 k\n",
      " libXfont2                  x86_64     2.0.3-1.el7            base        143 k\n",
      " libXmu                     x86_64     1.1.2-2.el7            base         71 k\n",
      " libXt                      x86_64     1.1.5-3.el7            base        173 k\n",
      " libfontenc                 x86_64     1.1.3-3.el7            base         31 k\n",
      " libxkbfile                 x86_64     1.0.9-3.el7            base         83 k\n",
      " xkeyboard-config           noarch     2.24-1.el7             base        834 k\n",
      " xorg-x11-server-common     x86_64     1.20.1-5.6.el7_6       updates      54 k\n",
      " xorg-x11-xauth             x86_64     1:1.0.9-1.el7          base         30 k\n",
      " xorg-x11-xkb-utils         x86_64     7.7-14.el7             base        103 k\n",
      "\n",
      "Transaction Summary\n",
      "================================================================================\n",
      "Install  1 Package (+12 Dependent packages)\n",
      "\n",
      "Total download size: 2.5 M\n",
      "Installed size: 9.3 M\n",
      "Downloading packages:\n",
      "(1/13): libSM-1.2.2-2.el7.x86_64.rpm                       |  39 kB   00:00     \n",
      "(2/13): libICE-1.0.9-9.el7.x86_64.rpm                      |  66 kB   00:00     \n",
      "(3/13): libXdmcp-1.1.2-6.el7.x86_64.rpm                    |  34 kB   00:00     \n",
      "(4/13): libXfont2-2.0.3-1.el7.x86_64.rpm                   | 143 kB   00:00     \n",
      "(5/13): libXmu-1.1.2-2.el7.x86_64.rpm                      |  71 kB   00:00     \n",
      "(6/13): libfontenc-1.1.3-3.el7.x86_64.rpm                  |  31 kB   00:00     \n",
      "(7/13): libXt-1.1.5-3.el7.x86_64.rpm                       | 173 kB   00:00     \n",
      "(8/13): libxkbfile-1.0.9-3.el7.x86_64.rpm                  |  83 kB   00:00     \n",
      "(9/13): xorg-x11-xauth-1.0.9-1.el7.x86_64.rpm              |  30 kB   00:00     \n",
      "(10/13): xorg-x11-xkb-utils-7.7-14.el7.x86_64.rpm          | 103 kB   00:00     \n",
      "(11/13): xkeyboard-config-2.24-1.el7.noarch.rpm            | 834 kB   00:00     \n",
      "(12/13): xorg-x11-server-common-1.20.1-5.6.el7_6.x86_64.rp |  54 kB   00:00     \n",
      "(13/13): xorg-x11-server-Xvfb-1.20.1-5.6.el7_6.x86_64.rpm  | 854 kB   00:01     \n",
      "--------------------------------------------------------------------------------\n",
      "Total                                              843 kB/s | 2.5 MB  00:02     \n",
      "Running transaction check\n",
      "Running transaction test\n",
      "Transaction test succeeded\n",
      "Running transaction\n",
      "  Installing : libICE-1.0.9-9.el7.x86_64                                   1/13 \n",
      "  Installing : libSM-1.2.2-2.el7.x86_64                                    2/13 \n",
      "  Installing : libXt-1.1.5-3.el7.x86_64                                    3/13 \n",
      "  Installing : libXmu-1.1.2-2.el7.x86_64                                   4/13 \n",
      "  Installing : 1:xorg-x11-xauth-1.0.9-1.el7.x86_64                         5/13 \n",
      "  Installing : libfontenc-1.1.3-3.el7.x86_64                               6/13 \n",
      "  Installing : libXfont2-2.0.3-1.el7.x86_64                                7/13 \n",
      "  Installing : libXdmcp-1.1.2-6.el7.x86_64                                 8/13 \n",
      "  Installing : xkeyboard-config-2.24-1.el7.noarch                          9/13 \n",
      "  Installing : libxkbfile-1.0.9-3.el7.x86_64                              10/13 \n",
      "  Installing : xorg-x11-xkb-utils-7.7-14.el7.x86_64                       11/13 \n",
      "  Installing : xorg-x11-server-common-1.20.1-5.6.el7_6.x86_64             12/13 \n",
      "  Installing : xorg-x11-server-Xvfb-1.20.1-5.6.el7_6.x86_64               13/13 \n",
      "  Verifying  : libICE-1.0.9-9.el7.x86_64                                   1/13 \n",
      "  Verifying  : libxkbfile-1.0.9-3.el7.x86_64                               2/13 \n",
      "  Verifying  : libSM-1.2.2-2.el7.x86_64                                    3/13 \n",
      "  Verifying  : xkeyboard-config-2.24-1.el7.noarch                          4/13 \n",
      "  Verifying  : libXdmcp-1.1.2-6.el7.x86_64                                 5/13 \n",
      "  Verifying  : libXmu-1.1.2-2.el7.x86_64                                   6/13 \n",
      "  Verifying  : xorg-x11-server-Xvfb-1.20.1-5.6.el7_6.x86_64                7/13 \n",
      "  Verifying  : libXfont2-2.0.3-1.el7.x86_64                                8/13 \n",
      "  Verifying  : libXt-1.1.5-3.el7.x86_64                                    9/13 \n",
      "  Verifying  : xorg-x11-xkb-utils-7.7-14.el7.x86_64                       10/13 \n"
     ]
    },
    {
     "name": "stdout",
     "output_type": "stream",
     "text": [
      "  Verifying  : libfontenc-1.1.3-3.el7.x86_64                              11/13 \n",
      "  Verifying  : xorg-x11-server-common-1.20.1-5.6.el7_6.x86_64             12/13 \n",
      "  Verifying  : 1:xorg-x11-xauth-1.0.9-1.el7.x86_64                        13/13 \n",
      "\n",
      "Installed:\n",
      "  xorg-x11-server-Xvfb.x86_64 0:1.20.1-5.6.el7_6                                \n",
      "\n",
      "Dependency Installed:\n",
      "  libICE.x86_64 0:1.0.9-9.el7                                                   \n",
      "  libSM.x86_64 0:1.2.2-2.el7                                                    \n",
      "  libXdmcp.x86_64 0:1.1.2-6.el7                                                 \n",
      "  libXfont2.x86_64 0:2.0.3-1.el7                                                \n",
      "  libXmu.x86_64 0:1.1.2-2.el7                                                   \n",
      "  libXt.x86_64 0:1.1.5-3.el7                                                    \n",
      "  libfontenc.x86_64 0:1.1.3-3.el7                                               \n",
      "  libxkbfile.x86_64 0:1.0.9-3.el7                                               \n",
      "  xkeyboard-config.noarch 0:2.24-1.el7                                          \n",
      "  xorg-x11-server-common.x86_64 0:1.20.1-5.6.el7_6                              \n",
      "  xorg-x11-xauth.x86_64 1:1.0.9-1.el7                                           \n",
      "  xorg-x11-xkb-utils.x86_64 0:7.7-14.el7                                        \n",
      "\n",
      "Complete!\n"
     ]
    }
   ],
   "source": [
    "!sudo yum install xorg-x11-server-Xvfb -y"
   ]
  },
  {
   "cell_type": "markdown",
   "metadata": {},
   "source": [
    "#### Creación del archivo de definición de servicio.\n",
    "Una vez instalado, se define el servicio añadiendo el archivo [*src/xvfb.service*](src/xvfb.service) en */etc/systemd/system/* como superusuario.\n",
    "\n",
    "Dicho archivo contiene el siguiente código:\n",
    "\n",
    "``` bash\n",
    "[Unit]\n",
    "Description=Virtual Frame Buffer X Server\n",
    "After=network.target\n",
    "\n",
    "[Service]\n",
    "ExecStart=/usr/bin/Xvfb :42 -screen 0 1024x768x24 -ac +extension GLX +render -noreset\n",
    "\n",
    "[Install]\n",
    "WantedBy=multi-user.target\n",
    "```"
   ]
  },
  {
   "cell_type": "code",
   "execution_count": 2,
   "metadata": {
    "scrolled": false
   },
   "outputs": [],
   "source": [
    "!sudo cp src/xvfb.service /etc/systemd/system/"
   ]
  },
  {
   "cell_type": "markdown",
   "metadata": {},
   "source": [
    "#### Habilitación y puesta en marcha del servicio.\n",
    "CentOS 7 utiliza el comando *systemctl* para gestionar servicios."
   ]
  },
  {
   "cell_type": "code",
   "execution_count": 3,
   "metadata": {
    "scrolled": false
   },
   "outputs": [
    {
     "name": "stdout",
     "output_type": "stream",
     "text": [
      "Created symlink from /etc/systemd/system/multi-user.target.wants/xvfb.service to /etc/systemd/system/xvfb.service.\r\n"
     ]
    }
   ],
   "source": [
    "!sudo systemctl enable xvfb"
   ]
  },
  {
   "cell_type": "code",
   "execution_count": 4,
   "metadata": {
    "scrolled": false
   },
   "outputs": [],
   "source": [
    "!sudo systemctl start xvfb"
   ]
  },
  {
   "cell_type": "markdown",
   "metadata": {},
   "source": [
    "Para comprobar que el servidor está corriendo ejecute lo siguiente:"
   ]
  },
  {
   "cell_type": "code",
   "execution_count": 5,
   "metadata": {
    "scrolled": false
   },
   "outputs": [
    {
     "name": "stdout",
     "output_type": "stream",
     "text": [
      "\u001b[1;32m●\u001b[0m xvfb.service - Virtual Frame Buffer X Server\r\n",
      "   Loaded: loaded (/etc/systemd/system/xvfb.service; enabled; vendor preset: disabled)\r\n",
      "   Active: \u001b[1;32mactive (running)\u001b[0m since Thu 2019-08-29 16:01:53 CDT; 10s ago\r\n",
      " Main PID: 3991 (Xvfb)\r\n",
      "   CGroup: /system.slice/xvfb.service\r\n",
      "           └─3991 /usr/bin/Xvfb :42 -screen 0 1024x768x24 -ac +extension GLX ...\r\n",
      "\r\n",
      "Aug 29 16:01:53 pythonista.localdomain systemd[1]: Started Virtual Frame Buff...\r\n",
      "Hint: Some lines were ellipsized, use -l to show in full.\r\n"
     ]
    }
   ],
   "source": [
    "!sudo systemctl status xvfb"
   ]
  },
  {
   "cell_type": "markdown",
   "metadata": {},
   "source": [
    "**Nota:** Este procedimiento sólo se requiere hace una vez. Una vez instalado, configurado y habilitado, el servicio iniciará junto con el servidor."
   ]
  },
  {
   "cell_type": "markdown",
   "metadata": {},
   "source": [
    "### Instalación y configuración de *wkhtmltopdf*.\n",
    "\n",
    "#### Instalación del paquete con *yum*."
   ]
  },
  {
   "cell_type": "code",
   "execution_count": 6,
   "metadata": {
    "scrolled": false
   },
   "outputs": [
    {
     "name": "stdout",
     "output_type": "stream",
     "text": [
      "Loaded plugins: fastestmirror\n",
      "Loading mirror speeds from cached hostfile\n",
      " * base: repos-tx.psychz.net\n",
      " * epel: mirror.compevo.com\n",
      " * extras: repos.dfw.quadranet.com\n",
      " * updates: mirrors.usc.edu\n",
      "Resolving Dependencies\n",
      "--> Running transaction check\n",
      "---> Package wkhtmltopdf.x86_64 0:0.12.1-1.el7 will be installed\n",
      "--> Processing Dependency: libQtCore.so.4()(64bit) for package: wkhtmltopdf-0.12.1-1.el7.x86_64\n",
      "--> Processing Dependency: libQtGui.so.4()(64bit) for package: wkhtmltopdf-0.12.1-1.el7.x86_64\n",
      "--> Processing Dependency: libQtNetwork.so.4()(64bit) for package: wkhtmltopdf-0.12.1-1.el7.x86_64\n",
      "--> Processing Dependency: libQtSvg.so.4()(64bit) for package: wkhtmltopdf-0.12.1-1.el7.x86_64\n",
      "--> Processing Dependency: libQtWebKit.so.4()(64bit) for package: wkhtmltopdf-0.12.1-1.el7.x86_64\n",
      "--> Processing Dependency: libQtXmlPatterns.so.4()(64bit) for package: wkhtmltopdf-0.12.1-1.el7.x86_64\n",
      "--> Running transaction check\n",
      "---> Package qt.x86_64 1:4.8.7-3.el7_6 will be installed\n",
      "--> Processing Dependency: qt-settings for package: 1:qt-4.8.7-3.el7_6.x86_64\n",
      "---> Package qt-x11.x86_64 1:4.8.7-3.el7_6 will be installed\n",
      "--> Processing Dependency: libtiff.so.5(LIBTIFF_4.0)(64bit) for package: 1:qt-x11-4.8.7-3.el7_6.x86_64\n",
      "--> Processing Dependency: libtiff.so.5()(64bit) for package: 1:qt-x11-4.8.7-3.el7_6.x86_64\n",
      "--> Processing Dependency: libmng.so.1()(64bit) for package: 1:qt-x11-4.8.7-3.el7_6.x86_64\n",
      "--> Processing Dependency: libXrandr.so.2()(64bit) for package: 1:qt-x11-4.8.7-3.el7_6.x86_64\n",
      "--> Processing Dependency: libXinerama.so.1()(64bit) for package: 1:qt-x11-4.8.7-3.el7_6.x86_64\n",
      "--> Processing Dependency: libXi.so.6()(64bit) for package: 1:qt-x11-4.8.7-3.el7_6.x86_64\n",
      "--> Processing Dependency: libXcursor.so.1()(64bit) for package: 1:qt-x11-4.8.7-3.el7_6.x86_64\n",
      "---> Package qtwebkit.x86_64 0:2.3.4-6.el7 will be installed\n",
      "--> Processing Dependency: mozilla-filesystem for package: qtwebkit-2.3.4-6.el7.x86_64\n",
      "--> Processing Dependency: libgstapp-0.10.so.0()(64bit) for package: qtwebkit-2.3.4-6.el7.x86_64\n",
      "--> Processing Dependency: libgstbase-0.10.so.0()(64bit) for package: qtwebkit-2.3.4-6.el7.x86_64\n",
      "--> Processing Dependency: libgstinterfaces-0.10.so.0()(64bit) for package: qtwebkit-2.3.4-6.el7.x86_64\n",
      "--> Processing Dependency: libgstpbutils-0.10.so.0()(64bit) for package: qtwebkit-2.3.4-6.el7.x86_64\n",
      "--> Processing Dependency: libgstreamer-0.10.so.0()(64bit) for package: qtwebkit-2.3.4-6.el7.x86_64\n",
      "--> Processing Dependency: libgstvideo-0.10.so.0()(64bit) for package: qtwebkit-2.3.4-6.el7.x86_64\n",
      "--> Processing Dependency: libwebp.so.4()(64bit) for package: qtwebkit-2.3.4-6.el7.x86_64\n",
      "--> Running transaction check\n",
      "---> Package gstreamer.x86_64 0:0.10.36-7.el7 will be installed\n",
      "--> Processing Dependency: gstreamer-tools >= 0.10.36 for package: gstreamer-0.10.36-7.el7.x86_64\n",
      "---> Package gstreamer-plugins-base.x86_64 0:0.10.36-10.el7 will be installed\n",
      "--> Processing Dependency: libtheoraenc.so.1(libtheoraenc_1.0)(64bit) for package: gstreamer-plugins-base-0.10.36-10.el7.x86_64\n",
      "--> Processing Dependency: libtheoradec.so.1(libtheoradec_1.0)(64bit) for package: gstreamer-plugins-base-0.10.36-10.el7.x86_64\n",
      "--> Processing Dependency: iso-codes for package: gstreamer-plugins-base-0.10.36-10.el7.x86_64\n",
      "--> Processing Dependency: libvorbisenc.so.2()(64bit) for package: gstreamer-plugins-base-0.10.36-10.el7.x86_64\n",
      "--> Processing Dependency: libvorbis.so.0()(64bit) for package: gstreamer-plugins-base-0.10.36-10.el7.x86_64\n",
      "--> Processing Dependency: libvisual-0.4.so.0()(64bit) for package: gstreamer-plugins-base-0.10.36-10.el7.x86_64\n",
      "--> Processing Dependency: libtheoraenc.so.1()(64bit) for package: gstreamer-plugins-base-0.10.36-10.el7.x86_64\n",
      "--> Processing Dependency: libtheoradec.so.1()(64bit) for package: gstreamer-plugins-base-0.10.36-10.el7.x86_64\n",
      "--> Processing Dependency: libpangocairo-1.0.so.0()(64bit) for package: gstreamer-plugins-base-0.10.36-10.el7.x86_64\n",
      "--> Processing Dependency: libpango-1.0.so.0()(64bit) for package: gstreamer-plugins-base-0.10.36-10.el7.x86_64\n",
      "--> Processing Dependency: liborc-test-0.4.so.0()(64bit) for package: gstreamer-plugins-base-0.10.36-10.el7.x86_64\n",
      "--> Processing Dependency: liborc-0.4.so.0()(64bit) for package: gstreamer-plugins-base-0.10.36-10.el7.x86_64\n",
      "--> Processing Dependency: libogg.so.0()(64bit) for package: gstreamer-plugins-base-0.10.36-10.el7.x86_64\n",
      "--> Processing Dependency: libcdda_paranoia.so.0()(64bit) for package: gstreamer-plugins-base-0.10.36-10.el7.x86_64\n",
      "--> Processing Dependency: libcdda_interface.so.0()(64bit) for package: gstreamer-plugins-base-0.10.36-10.el7.x86_64\n",
      "--> Processing Dependency: libXv.so.1()(64bit) for package: gstreamer-plugins-base-0.10.36-10.el7.x86_64\n",
      "---> Package libXcursor.x86_64 0:1.1.15-1.el7 will be installed\n",
      "---> Package libXi.x86_64 0:1.7.9-1.el7 will be installed\n",
      "---> Package libXinerama.x86_64 0:1.1.3-2.1.el7 will be installed\n",
      "---> Package libXrandr.x86_64 0:1.5.1-2.el7 will be installed\n",
      "---> Package libmng.x86_64 0:1.0.10-14.el7 will be installed\n",
      "---> Package libtiff.x86_64 0:4.0.3-27.el7_3 will be installed\n",
      "--> Processing Dependency: libjbig.so.2.0()(64bit) for package: libtiff-4.0.3-27.el7_3.x86_64\n",
      "---> Package libwebp.x86_64 0:0.3.0-7.el7 will be installed\n",
      "---> Package mozilla-filesystem.x86_64 0:1.9-11.el7 will be installed\n",
      "---> Package qt-settings.noarch 0:19-23.8.el7.centos will be installed\n",
      "--> Processing Dependency: pciutils for package: qt-settings-19-23.8.el7.centos.noarch\n",
      "--> Running transaction check\n",
      "---> Package cdparanoia-libs.x86_64 0:10.2-17.el7 will be installed\n",
      "---> Package gstreamer-tools.x86_64 0:0.10.36-7.el7 will be installed\n",
      "---> Package iso-codes.noarch 0:3.46-2.el7 will be installed\n",
      "--> Processing Dependency: xml-common for package: iso-codes-3.46-2.el7.noarch\n",
      "---> Package jbigkit-libs.x86_64 0:2.0-11.el7 will be installed\n",
      "---> Package libXv.x86_64 0:1.0.11-1.el7 will be installed\n",
      "---> Package libogg.x86_64 2:1.3.0-7.el7 will be installed\n",
      "---> Package libtheora.x86_64 1:1.1.1-8.el7 will be installed\n",
      "---> Package libvisual.x86_64 0:0.4.0-16.el7 will be installed\n",
      "---> Package libvorbis.x86_64 1:1.3.3-8.el7.1 will be installed\n",
      "---> Package orc.x86_64 0:0.4.26-1.el7 will be installed\n",
      "---> Package pango.x86_64 0:1.42.4-2.el7_6 will be installed\n",
      "--> Processing Dependency: libthai(x86-64) >= 0.1.9 for package: pango-1.42.4-2.el7_6.x86_64\n",
      "--> Processing Dependency: libXft(x86-64) >= 2.0.0 for package: pango-1.42.4-2.el7_6.x86_64\n",
      "--> Processing Dependency: harfbuzz(x86-64) >= 1.4.2 for package: pango-1.42.4-2.el7_6.x86_64\n",
      "--> Processing Dependency: fribidi(x86-64) >= 1.0 for package: pango-1.42.4-2.el7_6.x86_64\n",
      "--> Processing Dependency: libthai.so.0(LIBTHAI_0.1)(64bit) for package: pango-1.42.4-2.el7_6.x86_64\n",
      "--> Processing Dependency: libthai.so.0()(64bit) for package: pango-1.42.4-2.el7_6.x86_64\n",
      "--> Processing Dependency: libharfbuzz.so.0()(64bit) for package: pango-1.42.4-2.el7_6.x86_64\n",
      "--> Processing Dependency: libfribidi.so.0()(64bit) for package: pango-1.42.4-2.el7_6.x86_64\n",
      "--> Processing Dependency: libXft.so.2()(64bit) for package: pango-1.42.4-2.el7_6.x86_64\n",
      "---> Package pciutils.x86_64 0:3.5.1-3.el7 will be installed\n",
      "--> Running transaction check\n",
      "---> Package fribidi.x86_64 0:1.0.2-1.el7 will be installed\n",
      "---> Package harfbuzz.x86_64 0:1.7.5-2.el7 will be installed\n",
      "--> Processing Dependency: libgraphite2.so.3()(64bit) for package: harfbuzz-1.7.5-2.el7.x86_64\n",
      "---> Package libXft.x86_64 0:2.3.2-2.el7 will be installed\n",
      "---> Package libthai.x86_64 0:0.1.14-9.el7 will be installed\n",
      "---> Package xml-common.noarch 0:0.6.3-39.el7 will be installed\n",
      "--> Running transaction check\n",
      "---> Package graphite2.x86_64 0:1.3.10-1.el7_3 will be installed\n",
      "--> Finished Dependency Resolution\n",
      "\n",
      "Dependencies Resolved\n",
      "\n",
      "================================================================================\n",
      " Package                    Arch       Version                Repository   Size\n",
      "================================================================================\n",
      "Installing:\n",
      " wkhtmltopdf                x86_64     0.12.1-1.el7           epel        203 k\n",
      "Installing for dependencies:\n",
      " cdparanoia-libs            x86_64     10.2-17.el7            base         56 k\n",
      " fribidi                    x86_64     1.0.2-1.el7            base         79 k\n",
      " graphite2                  x86_64     1.3.10-1.el7_3         base        115 k\n",
      " gstreamer                  x86_64     0.10.36-7.el7          base        958 k\n",
      " gstreamer-plugins-base     x86_64     0.10.36-10.el7         base        1.2 M\n",
      " gstreamer-tools            x86_64     0.10.36-7.el7          base         27 k\n",
      " harfbuzz                   x86_64     1.7.5-2.el7            base        267 k\n",
      " iso-codes                  noarch     3.46-2.el7             base        2.7 M\n",
      " jbigkit-libs               x86_64     2.0-11.el7             base         46 k\n",
      " libXcursor                 x86_64     1.1.15-1.el7           base         30 k\n",
      " libXft                     x86_64     2.3.2-2.el7            base         58 k\n",
      " libXi                      x86_64     1.7.9-1.el7            base         40 k\n",
      " libXinerama                x86_64     1.1.3-2.1.el7          base         14 k\n",
      " libXrandr                  x86_64     1.5.1-2.el7            base         27 k\n",
      " libXv                      x86_64     1.0.11-1.el7           base         18 k\n",
      " libmng                     x86_64     1.0.10-14.el7          base        171 k\n",
      " libogg                     x86_64     2:1.3.0-7.el7          base         24 k\n",
      " libthai                    x86_64     0.1.14-9.el7           base        187 k\n",
      " libtheora                  x86_64     1:1.1.1-8.el7          base        136 k\n",
      " libtiff                    x86_64     4.0.3-27.el7_3         base        170 k\n"
     ]
    },
    {
     "name": "stdout",
     "output_type": "stream",
     "text": [
      " libvisual                  x86_64     0.4.0-16.el7           base        138 k\n",
      " libvorbis                  x86_64     1:1.3.3-8.el7.1        base        204 k\n",
      " libwebp                    x86_64     0.3.0-7.el7            base        170 k\n",
      " mozilla-filesystem         x86_64     1.9-11.el7             base        5.3 k\n",
      " orc                        x86_64     0.4.26-1.el7           base        166 k\n",
      " pango                      x86_64     1.42.4-2.el7_6         updates     280 k\n",
      " pciutils                   x86_64     3.5.1-3.el7            base         93 k\n",
      " qt                         x86_64     1:4.8.7-3.el7_6        updates     4.6 M\n",
      " qt-settings                noarch     19-23.8.el7.centos     base         17 k\n",
      " qt-x11                     x86_64     1:4.8.7-3.el7_6        updates      13 M\n",
      " qtwebkit                   x86_64     2.3.4-6.el7            epel         10 M\n",
      " xml-common                 noarch     0.6.3-39.el7           base         26 k\n",
      "\n",
      "Transaction Summary\n",
      "================================================================================\n",
      "Install  1 Package (+32 Dependent packages)\n",
      "\n",
      "Total download size: 35 M\n",
      "Installed size: 117 M\n",
      "Downloading packages:\n",
      "(1/33): cdparanoia-libs-10.2-17.el7.x86_64.rpm             |  56 kB   00:00     \n",
      "(2/33): fribidi-1.0.2-1.el7.x86_64.rpm                     |  79 kB   00:00     \n",
      "(3/33): graphite2-1.3.10-1.el7_3.x86_64.rpm                | 115 kB   00:00     \n",
      "(4/33): gstreamer-0.10.36-7.el7.x86_64.rpm                 | 958 kB   00:00     \n",
      "(5/33): gstreamer-tools-0.10.36-7.el7.x86_64.rpm           |  27 kB   00:00     \n",
      "(6/33): gstreamer-plugins-base-0.10.36-10.el7.x86_64.rpm   | 1.2 MB   00:00     \n",
      "(7/33): harfbuzz-1.7.5-2.el7.x86_64.rpm                    | 267 kB   00:00     \n",
      "(8/33): jbigkit-libs-2.0-11.el7.x86_64.rpm                 |  46 kB   00:00     \n",
      "(9/33): libXinerama-1.1.3-2.1.el7.x86_64.rpm               |  14 kB   00:00     \n",
      "(10/33): libXrandr-1.5.1-2.el7.x86_64.rpm                  |  27 kB   00:00     \n",
      "(11/33): libXv-1.0.11-1.el7.x86_64.rpm                     |  18 kB   00:00     \n",
      "(12/33): iso-codes-3.46-2.el7.noarch.rpm                   | 2.7 MB   00:01     \n",
      "(13/33): libXcursor-1.1.15-1.el7.x86_64.rpm                |  30 kB   00:00     \n",
      "(14/33): libXi-1.7.9-1.el7.x86_64.rpm                      |  40 kB   00:00     \n",
      "(15/33): libXft-2.3.2-2.el7.x86_64.rpm                     |  58 kB   00:00     \n",
      "(16/33): libmng-1.0.10-14.el7.x86_64.rpm                   | 171 kB   00:00     \n",
      "(17/33): libogg-1.3.0-7.el7.x86_64.rpm                     |  24 kB   00:00     \n",
      "(18/33): libtiff-4.0.3-27.el7_3.x86_64.rpm                 | 170 kB   00:00     \n",
      "(19/33): libvisual-0.4.0-16.el7.x86_64.rpm                 | 138 kB   00:00     \n",
      "(20/33): mozilla-filesystem-1.9-11.el7.x86_64.rpm          | 5.3 kB   00:00     \n",
      "(21/33): libwebp-0.3.0-7.el7.x86_64.rpm                    | 170 kB   00:00     \n",
      "(22/33): libthai-0.1.14-9.el7.x86_64.rpm                   | 187 kB   00:00     \n",
      "(23/33): libtheora-1.1.1-8.el7.x86_64.rpm                  | 136 kB   00:00     \n",
      "(24/33): orc-0.4.26-1.el7.x86_64.rpm                       | 166 kB   00:00     \n",
      "(25/33): libvorbis-1.3.3-8.el7.1.x86_64.rpm                | 204 kB   00:00     \n",
      "(26/33): pciutils-3.5.1-3.el7.x86_64.rpm                   |  93 kB   00:00     \n",
      "(27/33): qt-settings-19-23.8.el7.centos.noarch.rpm         |  17 kB   00:00     \n",
      "(28/33): pango-1.42.4-2.el7_6.x86_64.rpm                   | 280 kB   00:01     \n",
      "(29/33): xml-common-0.6.3-39.el7.noarch.rpm                |  26 kB   00:00     \n",
      "(30/33): wkhtmltopdf-0.12.1-1.el7.x86_64.rpm               | 203 kB   00:01     \n",
      "(31/33): qt-4.8.7-3.el7_6.x86_64.rpm                       | 4.6 MB   00:03     \n",
      "(32/33): qt-x11-4.8.7-3.el7_6.x86_64.rpm                   |  13 MB   00:04     \n",
      "(33/33): qtwebkit-2.3.4-6.el7.x86_64.rpm                   |  10 MB   00:05     \n",
      "--------------------------------------------------------------------------------\n",
      "Total                                              3.7 MB/s |  35 MB  00:09     \n",
      "Running transaction check\n",
      "Running transaction test\n",
      "Transaction test succeeded\n",
      "Running transaction\n",
      "  Installing : 2:libogg-1.3.0-7.el7.x86_64                                 1/33 \n",
      "  Installing : 1:libvorbis-1.3.3-8.el7.1.x86_64                            2/33 \n",
      "  Installing : 1:libtheora-1.1.1-8.el7.x86_64                              3/33 \n",
      "  Installing : pciutils-3.5.1-3.el7.x86_64                                 4/33 \n",
      "  Installing : qt-settings-19-23.8.el7.centos.noarch                       5/33 \n",
      "  Installing : 1:qt-4.8.7-3.el7_6.x86_64                                   6/33 \n",
      "  Installing : gstreamer-tools-0.10.36-7.el7.x86_64                        7/33 \n",
      "  Installing : gstreamer-0.10.36-7.el7.x86_64                              8/33 \n",
      "  Installing : graphite2-1.3.10-1.el7_3.x86_64                             9/33 \n",
      "  Installing : harfbuzz-1.7.5-2.el7.x86_64                                10/33 \n",
      "  Installing : xml-common-0.6.3-39.el7.noarch                             11/33 \n",
      "  Installing : iso-codes-3.46-2.el7.noarch                                12/33 \n",
      "  Installing : jbigkit-libs-2.0-11.el7.x86_64                             13/33 \n",
      "  Installing : libtiff-4.0.3-27.el7_3.x86_64                              14/33 \n",
      "  Installing : fribidi-1.0.2-1.el7.x86_64                                 15/33 \n",
      "  Installing : libXrandr-1.5.1-2.el7.x86_64                               16/33 \n",
      "  Installing : libvisual-0.4.0-16.el7.x86_64                              17/33 \n",
      "  Installing : orc-0.4.26-1.el7.x86_64                                    18/33 \n",
      "  Installing : libwebp-0.3.0-7.el7.x86_64                                 19/33 \n",
      "  Installing : libmng-1.0.10-14.el7.x86_64                                20/33 \n",
      "  Installing : libXft-2.3.2-2.el7.x86_64                                  21/33 \n",
      "  Installing : libthai-0.1.14-9.el7.x86_64                                22/33 \n",
      "  Installing : pango-1.42.4-2.el7_6.x86_64                                23/33 \n",
      "  Installing : cdparanoia-libs-10.2-17.el7.x86_64                         24/33 \n",
      "  Installing : mozilla-filesystem-1.9-11.el7.x86_64                       25/33 \n",
      "  Installing : libXcursor-1.1.15-1.el7.x86_64                             26/33 \n",
      "  Installing : libXv-1.0.11-1.el7.x86_64                                  27/33 \n",
      "  Installing : gstreamer-plugins-base-0.10.36-10.el7.x86_64               28/33 \n",
      "  Installing : libXinerama-1.1.3-2.1.el7.x86_64                           29/33 \n",
      "  Installing : libXi-1.7.9-1.el7.x86_64                                   30/33 \n",
      "  Installing : 1:qt-x11-4.8.7-3.el7_6.x86_64                              31/33 \n",
      "  Installing : qtwebkit-2.3.4-6.el7.x86_64                                32/33 \n",
      "  Installing : wkhtmltopdf-0.12.1-1.el7.x86_64                            33/33 \n",
      "  Verifying  : libXi-1.7.9-1.el7.x86_64                                    1/33 \n",
      "  Verifying  : libtiff-4.0.3-27.el7_3.x86_64                               2/33 \n",
      "  Verifying  : 1:libvorbis-1.3.3-8.el7.1.x86_64                            3/33 \n",
      "  Verifying  : libXinerama-1.1.3-2.1.el7.x86_64                            4/33 \n",
      "  Verifying  : libXv-1.0.11-1.el7.x86_64                                   5/33 \n",
      "  Verifying  : gstreamer-plugins-base-0.10.36-10.el7.x86_64                6/33 \n",
      "  Verifying  : libXcursor-1.1.15-1.el7.x86_64                              7/33 \n",
      "  Verifying  : qt-settings-19-23.8.el7.centos.noarch                       8/33 \n",
      "  Verifying  : pango-1.42.4-2.el7_6.x86_64                                 9/33 \n",
      "  Verifying  : 1:qt-4.8.7-3.el7_6.x86_64                                  10/33 \n",
      "  Verifying  : gstreamer-0.10.36-7.el7.x86_64                             11/33 \n",
      "  Verifying  : mozilla-filesystem-1.9-11.el7.x86_64                       12/33 \n",
      "  Verifying  : cdparanoia-libs-10.2-17.el7.x86_64                         13/33 \n",
      "  Verifying  : libthai-0.1.14-9.el7.x86_64                                14/33 \n",
      "  Verifying  : libXft-2.3.2-2.el7.x86_64                                  15/33 \n",
      "  Verifying  : 1:libtheora-1.1.1-8.el7.x86_64                             16/33 \n",
      "  Verifying  : libmng-1.0.10-14.el7.x86_64                                17/33 \n",
      "  Verifying  : wkhtmltopdf-0.12.1-1.el7.x86_64                            18/33 \n",
      "  Verifying  : libwebp-0.3.0-7.el7.x86_64                                 19/33 \n"
     ]
    },
    {
     "name": "stdout",
     "output_type": "stream",
     "text": [
      "  Verifying  : orc-0.4.26-1.el7.x86_64                                    20/33 \n",
      "  Verifying  : libvisual-0.4.0-16.el7.x86_64                              21/33 \n",
      "  Verifying  : harfbuzz-1.7.5-2.el7.x86_64                                22/33 \n",
      "  Verifying  : qtwebkit-2.3.4-6.el7.x86_64                                23/33 \n",
      "  Verifying  : 1:qt-x11-4.8.7-3.el7_6.x86_64                              24/33 \n",
      "  Verifying  : 2:libogg-1.3.0-7.el7.x86_64                                25/33 \n",
      "  Verifying  : libXrandr-1.5.1-2.el7.x86_64                               26/33 \n",
      "  Verifying  : fribidi-1.0.2-1.el7.x86_64                                 27/33 \n",
      "  Verifying  : jbigkit-libs-2.0-11.el7.x86_64                             28/33 \n",
      "  Verifying  : xml-common-0.6.3-39.el7.noarch                             29/33 \n",
      "  Verifying  : graphite2-1.3.10-1.el7_3.x86_64                            30/33 \n",
      "  Verifying  : iso-codes-3.46-2.el7.noarch                                31/33 \n",
      "  Verifying  : gstreamer-tools-0.10.36-7.el7.x86_64                       32/33 \n",
      "  Verifying  : pciutils-3.5.1-3.el7.x86_64                                33/33 \n",
      "\n",
      "Installed:\n",
      "  wkhtmltopdf.x86_64 0:0.12.1-1.el7                                             \n",
      "\n",
      "Dependency Installed:\n",
      "  cdparanoia-libs.x86_64 0:10.2-17.el7                                          \n",
      "  fribidi.x86_64 0:1.0.2-1.el7                                                  \n",
      "  graphite2.x86_64 0:1.3.10-1.el7_3                                             \n",
      "  gstreamer.x86_64 0:0.10.36-7.el7                                              \n",
      "  gstreamer-plugins-base.x86_64 0:0.10.36-10.el7                                \n",
      "  gstreamer-tools.x86_64 0:0.10.36-7.el7                                        \n",
      "  harfbuzz.x86_64 0:1.7.5-2.el7                                                 \n",
      "  iso-codes.noarch 0:3.46-2.el7                                                 \n",
      "  jbigkit-libs.x86_64 0:2.0-11.el7                                              \n",
      "  libXcursor.x86_64 0:1.1.15-1.el7                                              \n",
      "  libXft.x86_64 0:2.3.2-2.el7                                                   \n",
      "  libXi.x86_64 0:1.7.9-1.el7                                                    \n",
      "  libXinerama.x86_64 0:1.1.3-2.1.el7                                            \n",
      "  libXrandr.x86_64 0:1.5.1-2.el7                                                \n",
      "  libXv.x86_64 0:1.0.11-1.el7                                                   \n",
      "  libmng.x86_64 0:1.0.10-14.el7                                                 \n",
      "  libogg.x86_64 2:1.3.0-7.el7                                                   \n",
      "  libthai.x86_64 0:0.1.14-9.el7                                                 \n",
      "  libtheora.x86_64 1:1.1.1-8.el7                                                \n",
      "  libtiff.x86_64 0:4.0.3-27.el7_3                                               \n",
      "  libvisual.x86_64 0:0.4.0-16.el7                                               \n",
      "  libvorbis.x86_64 1:1.3.3-8.el7.1                                              \n",
      "  libwebp.x86_64 0:0.3.0-7.el7                                                  \n",
      "  mozilla-filesystem.x86_64 0:1.9-11.el7                                        \n",
      "  orc.x86_64 0:0.4.26-1.el7                                                     \n",
      "  pango.x86_64 0:1.42.4-2.el7_6                                                 \n",
      "  pciutils.x86_64 0:3.5.1-3.el7                                                 \n",
      "  qt.x86_64 1:4.8.7-3.el7_6                                                     \n",
      "  qt-settings.noarch 0:19-23.8.el7.centos                                       \n",
      "  qt-x11.x86_64 1:4.8.7-3.el7_6                                                 \n",
      "  qtwebkit.x86_64 0:2.3.4-6.el7                                                 \n",
      "  xml-common.noarch 0:0.6.3-39.el7                                              \n",
      "\n",
      "Complete!\n"
     ]
    }
   ],
   "source": [
    "!sudo yum install wkhtmltopdf -y"
   ]
  },
  {
   "cell_type": "markdown",
   "metadata": {},
   "source": [
    "#### Creación de un script que permita acceder al servidor virtual.\n",
    "\n",
    "Es necesario que wkthmltopdf pueda acceder al servidor virtual, por lo que se debe de crear un script que incluya al comando *xvfb-run* el cual le indica al sistema que la instrucción hará uso de un servidor X virtual.\n",
    "\n",
    "El script [src/wkhtmltopdf.sh](src/wkhtmltopdf.sh) contiene el siguiente código:\n",
    "\n",
    "``` bash\n",
    "#!/bin/bash\n",
    "xvfb-run -a --server-args=\"-screen 0, 1280x800x24\" /bin/wkhtmltopdf -q $*\n",
    "```"
   ]
  },
  {
   "cell_type": "markdown",
   "metadata": {},
   "source": [
    "El script en cuestión debe de contar con permisos de ejecución, lo cual se realiza con el siguiente comando. "
   ]
  },
  {
   "cell_type": "code",
   "execution_count": 7,
   "metadata": {
    "scrolled": false
   },
   "outputs": [],
   "source": [
    "!chmod +x src/wkhtmltopdf.sh"
   ]
  },
  {
   "cell_type": "markdown",
   "metadata": {},
   "source": [
    "#### Ejecución del script.\n",
    "\n",
    "**Nota:** Este es un ejemplo de ejecución en la línea de comandos. No es código en Python. \n",
    "\n",
    "La siguiente celda ejecutará el script [*src/wkhtmltopdf.sh*]([src/wkhtmltopdf.sh]) \n",
    "* Se conectará a *http://google/com*.\n",
    "* El contenido será convertido a PDF y guarado en [*google.pdf*](google.pdf)."
   ]
  },
  {
   "cell_type": "code",
   "execution_count": 8,
   "metadata": {
    "scrolled": false
   },
   "outputs": [],
   "source": [
    "!src/wkhtmltopdf.sh http://google.com google.pdf"
   ]
  },
  {
   "cell_type": "markdown",
   "metadata": {},
   "source": [
    "## Instalación de *wkhtmltopdf* en Windows.\n",
    "\n",
    "En el caso de Windows sólo es necesario [descargar del sitio](https://wkhtmltopdf.org/downloads.html) la versión *MSVC 2015* y ejecutar el instalador.\n",
    "\n",
    "Por lo general, el ejecutable se instala en *C:\\Program Files\\wkhtmltopdf\\bin\\wkhtmltopdf.exe*"
   ]
  },
  {
   "cell_type": "markdown",
   "metadata": {},
   "source": [
    "**Ejemplo:**\n",
    "\n",
    "La siguiente celda ejecutará *wkhtmltopdf.exe* en la ruta indicada. \n",
    "* Se conectará a *http://google/com*.\n",
    "* El contenido será convertido a PDF y guarado en [*google.pdf*](google.pdf)."
   ]
  },
  {
   "cell_type": "code",
   "execution_count": null,
   "metadata": {},
   "outputs": [],
   "source": [
    "!\"C:\\Program Files\\wkhtmltopdf\\bin\\wkhtmltopdf\" \"https://google.com\" \"google.pdf\""
   ]
  },
  {
   "cell_type": "markdown",
   "metadata": {},
   "source": [
    "## El paquete *pdfkit*.\n",
    "\n",
    "El paquete [*pfdkit*](https://pypi.org/project/pdfkit/#description) es una implementación de *wkhtmltopdf* para Python."
   ]
  },
  {
   "cell_type": "code",
   "execution_count": 9,
   "metadata": {
    "scrolled": false
   },
   "outputs": [
    {
     "name": "stdout",
     "output_type": "stream",
     "text": [
      "Collecting pdfkit\n",
      "  Downloading https://files.pythonhosted.org/packages/57/da/48fdd627794cde49f4ee7854d219f3a65714069b722b8d0e3599cd066185/pdfkit-0.6.1-py3-none-any.whl\n",
      "Installing collected packages: pdfkit\n",
      "Successfully installed pdfkit-0.6.1\n",
      "\u001b[33mYou are using pip version 19.0.1, however version 19.2.3 is available.\n",
      "You should consider upgrading via the 'pip install --upgrade pip' command.\u001b[0m\n"
     ]
    }
   ],
   "source": [
    "!pip install pdfkit"
   ]
  },
  {
   "cell_type": "code",
   "execution_count": 10,
   "metadata": {
    "scrolled": false
   },
   "outputs": [],
   "source": [
    "import pdfkit"
   ]
  },
  {
   "cell_type": "markdown",
   "metadata": {},
   "source": [
    "### Funciones de *pdfkit* dependiendo la fuente de los datos.\n",
    "\n",
    "Es posible tranformar documentos HTML desde diversas fuentes.\n",
    "\n",
    "#### Si el código HTML es ingresado como una cadena de caracteres se utiliza la función *pdfkit.fromstring()* con la siguiente  sintaxis:\n",
    "```\n",
    "pdfkit.fromstring(<objeto tipo str>, '<ruta del archivo resultante>', <argumentos>)\n",
    "```\n",
    "\n",
    "#### Si el código HTML proviene de un archivo local, se utiliza la función *pdfkit.fromfile()* con la siguiente  sintaxis:\n",
    "```\n",
    "pdfkit.fromfile('<ruta>', '<ruta del archivo resultante>', <argumentos>)\n",
    "```\n",
    "\n",
    "#### Si el código HTML proviene de un recurso en línea, se utiliza la función *pdfkit.fromulr()* con la siguiente  sintaxis:\n",
    "```\n",
    "pdfkit.fromurl('<URL>', '<ruta del archivo resultante>', <argumentos>)\n",
    "```"
   ]
  },
  {
   "cell_type": "markdown",
   "metadata": {},
   "source": [
    "### El objeto *pdfkit.configuration*.\n",
    "Para poder utilizar *pdfkit* es necesario que *wkhtmltopdf* esté instalado y que la ruta donde se encuentra el ejecutable sea conocida.\n",
    "\n",
    "El objeto *pdfkit.configuration* permite ingresar diversos parámetros de configuración y en este caso se puede indicar dónde se encuentra el archivo ejecutable de *wkhtmltopdf* con la siguiente sintaxis:\n",
    "\n",
    "```python\n",
    "pdfkit.configuration(wkhtmltopdf='<ruta>')\n",
    "```\n",
    "En caso de que el ejecutable de *wkhtmltopdf* sea accesible desde el sistema, no es necesario utilizar este objeto."
   ]
  },
  {
   "cell_type": "markdown",
   "metadata": {},
   "source": [
    "**Ejemplo:** \n",
    "\n",
    "En este caso, el ejecutable que utilizará *pdfkit* corresponde al script localizado en [src/wkhtmltopdf.sh](src/wkhtmltopdf.sh)"
   ]
  },
  {
   "cell_type": "code",
   "execution_count": 11,
   "metadata": {
    "scrolled": false
   },
   "outputs": [],
   "source": [
    "conf = pdfkit.configuration(wkhtmltopdf='src/wkhtmltopdf.sh')"
   ]
  },
  {
   "cell_type": "markdown",
   "metadata": {},
   "source": [
    "En caso de haber instalado *wkhtmltopdf* en Windows, la configuración sería:"
   ]
  },
  {
   "cell_type": "code",
   "execution_count": null,
   "metadata": {},
   "outputs": [],
   "source": [
    "conf = pdfkit.configuration(wkhtmltopdf='C:\\\\Program Files\\\\wkhtmltopdf\\\\bin\\\\wkhtmltopdf.exe')"
   ]
  },
  {
   "cell_type": "markdown",
   "metadata": {},
   "source": [
    "**Ejemplos:**\n",
    "\n",
    "Se convertirán archivos HTML localizados en archivos locales y en línea mediante *pdfkit*."
   ]
  },
  {
   "cell_type": "markdown",
   "metadata": {},
   "source": [
    "En este caso se convertirá el contenido de [html/menu.html](html/menu.html) y se guardará en [menu.pdf](menu.pdf)."
   ]
  },
  {
   "cell_type": "code",
   "execution_count": 12,
   "metadata": {
    "scrolled": true
   },
   "outputs": [
    {
     "data": {
      "text/plain": [
       "True"
      ]
     },
     "execution_count": 12,
     "metadata": {},
     "output_type": "execute_result"
    }
   ],
   "source": [
    "pdfkit.from_file('html/menu.html', 'menu.pdf', configuration=conf)"
   ]
  },
  {
   "cell_type": "markdown",
   "metadata": {},
   "source": [
    "En este caso se convertirá el contenido de https://pythonista.io/cursos/py101/ciclos-con-while-e-interrupciones-de-flujo y se guardará en [ciclos.pdf](ciclos.pdf)."
   ]
  },
  {
   "cell_type": "code",
   "execution_count": 13,
   "metadata": {
    "scrolled": false
   },
   "outputs": [
    {
     "data": {
      "text/plain": [
       "True"
      ]
     },
     "execution_count": 13,
     "metadata": {},
     "output_type": "execute_result"
    }
   ],
   "source": [
    "pdfkit.from_url('https://pythonista.io/cursos/py101/ciclos-con-while-e-interrupciones-de-flujo',\n",
    "                'ciclos.pdf', configuration=conf)"
   ]
  },
  {
   "cell_type": "markdown",
   "metadata": {},
   "source": [
    "### El parámetro *options*.\n",
    "\n",
    "Es posible modificar el tipo y orientación de la página, el tamaño de los márgenes y algunas otras características del documento PDF resultante mediante algunas opciones de *wkhtmltopdf*, las cuales pueden ser consultadas en https://github.com/worlduniting/bookshop/wiki/wkhtmltopdf-options\n",
    "\n",
    "En el caso de *pdfkit* estas opciones deben de estar contenidas en un objeto tipo *dict*."
   ]
  },
  {
   "cell_type": "markdown",
   "metadata": {},
   "source": [
    "**Ejemplo:**\n",
    "\n",
    "Se creará nuevamente el archivo [menu.pdf](menu.pdf) con algunos ajustes a los márgenes e indicando el tipo de tamano de papel."
   ]
  },
  {
   "cell_type": "code",
   "execution_count": 14,
   "metadata": {
    "scrolled": true
   },
   "outputs": [],
   "source": [
    "options = {\n",
    "    'page-size': 'Letter',\n",
    "    'margin-top': '0.75in',\n",
    "    'margin-right': '0.75in',\n",
    "    'margin-bottom': '0.75in',\n",
    "    'margin-left': '0.75in',\n",
    "    'encoding': \"UTF-8\"\n",
    "}"
   ]
  },
  {
   "cell_type": "code",
   "execution_count": 15,
   "metadata": {
    "scrolled": true
   },
   "outputs": [
    {
     "data": {
      "text/plain": [
       "True"
      ]
     },
     "execution_count": 15,
     "metadata": {},
     "output_type": "execute_result"
    }
   ],
   "source": [
    "pdfkit.from_file('html/menu.html', 'menu.pdf', configuration=conf, options=options)"
   ]
  },
  {
   "cell_type": "markdown",
   "metadata": {},
   "source": [
    "## Lectura de archivos PDF.\n",
    "\n",
    "La extracción de datos a partir de archivos PDF no es simple y en muchos casos tampoco es infalible. Es por ello por lo que se detallará el uso de las siguientes herramientas.\n",
    "\n",
    "* [*pdfminer.six*](https://github.com/pdfminer/pdfminer.six).\n",
    "* [*pdftotext*](https://github.com/jalan/pdftotext).\n",
    "* [*PyPDF2*](https://mstamy2.github.io/PyPDF2/)."
   ]
  },
  {
   "cell_type": "markdown",
   "metadata": {},
   "source": [
    "### El paquete *pdfminer.six*.\n",
    "\n",
    "El paquete *pdfminer.six* es una implementación compatible con Python 3 de *pdfminer*. Es una herramienta especializada para la extracción de texto muy popular. \n",
    "\n",
    "Tiene la  ventaja de acceder  a porciones específicas de un documento PDF y gestionarlas en memoria.\n",
    "\n",
    "Los paquetes *pdfminer* y *pdfminer.six* cuentan con múltiples clases especializadas en gestionar, seleccionar, obtener, interpretar y convertir porciones específicas de un documento PDF.\n",
    "\n",
    "Para mayor información consultar https://pdfminer-docs.readthedocs.io/"
   ]
  },
  {
   "cell_type": "markdown",
   "metadata": {},
   "source": [
    "#### Extracción de un documento PDF con *pdfminer.six*.\n",
    "\n",
    "A continuacion se creará una función capaz de extraer el texto de las pág\n",
    "inas indicadas desde un archivo PDF."
   ]
  },
  {
   "cell_type": "markdown",
   "metadata": {},
   "source": [
    "* Se instala el paquete *pdfminer.six*."
   ]
  },
  {
   "cell_type": "code",
   "execution_count": 16,
   "metadata": {},
   "outputs": [
    {
     "name": "stdout",
     "output_type": "stream",
     "text": [
      "Collecting pdfminer.six\n",
      "\u001b[?25l  Downloading https://files.pythonhosted.org/packages/8a/fd/6e8746e6965d1a7ea8e97253e3d79e625da5547e8f376f88de5d024bacb9/pdfminer.six-20181108-py2.py3-none-any.whl (5.6MB)\n",
      "\u001b[K    100% |████████████████████████████████| 5.6MB 1.0MB/s ta 0:00:011.6MB/s eta 0:00:01\n",
      "\u001b[?25hRequirement already satisfied: six in /home/oi/pythonista/lib/python3.6/site-packages (from pdfminer.six) (1.12.0)\n",
      "Collecting sortedcontainers (from pdfminer.six)\n",
      "  Downloading https://files.pythonhosted.org/packages/13/f3/cf85f7c3a2dbd1a515d51e1f1676d971abe41bba6f4ab5443240d9a78e5b/sortedcontainers-2.1.0-py2.py3-none-any.whl\n",
      "Collecting pycryptodome (from pdfminer.six)\n",
      "\u001b[?25l  Downloading https://files.pythonhosted.org/packages/c1/f1/0ba99559391621280ce24adea245d31bf2eb2f20ac72270eead1813e8d2b/pycryptodome-3.9.0-cp36-cp36m-manylinux1_x86_64.whl (9.7MB)\n",
      "\u001b[K    100% |████████████████████████████████| 9.7MB 1.7MB/s eta 0:00:01��█████▏                | 4.6MB 23.7MB/s eta 0:00:01    63% |████████████████████▍           | 6.2MB 19.5MB/s eta 0:00:01     | 7.0MB 43.0MB/s eta 0:00:0179% |█████████████████████████▌      | 7.7MB 33.7MB/s eta 0:00:01 eta 0:00:01████████████▍   | 8.6MB 20.4MB/s eta 0:00:01   93% |█████████████████████████████▉  | 9.0MB 26.8MB/s eta 0:00:01█████▎| 9.5MB 4.4MB/s eta 0:00:01\n",
      "\u001b[?25hInstalling collected packages: sortedcontainers, pycryptodome, pdfminer.six\n",
      "Successfully installed pdfminer.six-20181108 pycryptodome-3.9.0 sortedcontainers-2.1.0\n",
      "\u001b[33mYou are using pip version 19.0.1, however version 19.2.3 is available.\n",
      "You should consider upgrading via the 'pip install --upgrade pip' command.\u001b[0m\n"
     ]
    }
   ],
   "source": [
    "! pip install pdfminer.six"
   ]
  },
  {
   "cell_type": "markdown",
   "metadata": {},
   "source": [
    "* La clase *io.StringIO* del paquete *io* de Python permite acceder a un recurso en el disco y guardarlo en memoria. De este modo podemos guardar porciones del archivo PDF en un *buffer*."
   ]
  },
  {
   "cell_type": "code",
   "execution_count": 17,
   "metadata": {},
   "outputs": [],
   "source": [
    "from io import StringIO"
   ]
  },
  {
   "cell_type": "code",
   "execution_count": 19,
   "metadata": {},
   "outputs": [
    {
     "name": "stdout",
     "output_type": "stream",
     "text": [
      "Collecting chardet\n",
      "\u001b[?25l  Downloading https://files.pythonhosted.org/packages/bc/a9/01ffebfb562e4274b6487b4bb1ddec7ca55ec7510b22e4c51f14098443b8/chardet-3.0.4-py2.py3-none-any.whl (133kB)\n",
      "\u001b[K    100% |████████████████████████████████| 143kB 2.3MB/s ta 0:00:01\n",
      "\u001b[?25hInstalling collected packages: chardet\n",
      "Successfully installed chardet-3.0.4\n",
      "\u001b[33mYou are using pip version 19.0.1, however version 19.2.3 is available.\n",
      "You should consider upgrading via the 'pip install --upgrade pip' command.\u001b[0m\n"
     ]
    }
   ],
   "source": [
    "!pip install chardet"
   ]
  },
  {
   "cell_type": "markdown",
   "metadata": {},
   "source": [
    "El módulo *pdfminer.pdfinterp* contiene a las clases:\n",
    "\n",
    "* *PDFResourceManager*, cuyas instancias son capaces de gestionar el flujo de recursos de un documento PDF a los que *pdfminer* accede. En este caso, se encargará de  gestionar el flujo entre un archivo y el buffer en memoria.\n",
    "* *PDFPageInterpreter*, cuyas instancias tienen la capacidad de acceder e interpetar el contenido de un recurso proveniente de un archivo PDF."
   ]
  },
  {
   "cell_type": "code",
   "execution_count": 20,
   "metadata": {},
   "outputs": [],
   "source": [
    "from pdfminer.pdfinterp import PDFResourceManager, PDFPageInterpreter"
   ]
  },
  {
   "cell_type": "markdown",
   "metadata": {},
   "source": [
    "* El módulo *pdfminer.converter* contiene varias clases capaces de convertir contenidos específicos de in documento PDF, talkes como XML, HTML o texto.\n",
    "\n",
    "* En este caso, se utilizará la clase *TextConverter*."
   ]
  },
  {
   "cell_type": "code",
   "execution_count": 21,
   "metadata": {},
   "outputs": [],
   "source": [
    "from pdfminer.converter import TextConverter"
   ]
  },
  {
   "cell_type": "markdown",
   "metadata": {},
   "source": [
    "Los archivos PDF incluyen por lo general una plantilla (layout) específica del documento que puede definir el tamaño de página, orientacion, numeración, márgenes, etc.\n",
    "\n",
    "* El módulo *pdfminer.layout* permite acceder a la información de estas plantillas y la clase *pdfminer.layout.LAParams*, se encarga de obtener los parámetros definidos en la plantilla de un documento PDF."
   ]
  },
  {
   "cell_type": "code",
   "execution_count": 22,
   "metadata": {},
   "outputs": [],
   "source": [
    "from pdfminer.layout import LAParams"
   ]
  },
  {
   "cell_type": "markdown",
   "metadata": {},
   "source": [
    "Los documentos PDF está compuestos por páginas cuyas características están definidas en los parámetros de la plantilla correspondiente.\n",
    "\n",
    "* La clase *pdfminer.pdfpage.PDFPage* crea objetos que emulan a una página del documento PDF."
   ]
  },
  {
   "cell_type": "code",
   "execution_count": 23,
   "metadata": {},
   "outputs": [],
   "source": [
    "from pdfminer.pdfpage import PDFPage"
   ]
  },
  {
   "cell_type": "markdown",
   "metadata": {},
   "source": [
    "* La función *convierte()* permite extraer el texto de las páginas enumeradas dentro de un objeto iterable que se ingresa como el argumento *paginas* a partir del archivo definido en el parámetro *ruta*. En caso de no indicarlos, extraerá el texto de todas las páginas del documento."
   ]
  },
  {
   "cell_type": "code",
   "execution_count": 25,
   "metadata": {},
   "outputs": [],
   "source": [
    "def convierte(ruta, paginas=None):\n",
    "    if not paginas:\n",
    "        numero_paginas = set()\n",
    "    else:\n",
    "        numero_paginas = set(paginas)\n",
    "    salida = StringIO()\n",
    "    gestor = PDFResourceManager()\n",
    "    convertidor = TextConverter(gestor, salida, laparams=LAParams())\n",
    "    interprete = PDFPageInterpreter(gestor, convertidor)\n",
    "\n",
    "    archivo = open(ruta, 'rb')\n",
    "    for pagina in PDFPage.get_pages(archivo, numero_paginas):\n",
    "        interprete.process_page(pagina)\n",
    "    archivo.close()\n",
    "    convertidor.close()\n",
    "    texto = salida.getvalue()\n",
    "    salida.close\n",
    "    return texto"
   ]
  },
  {
   "cell_type": "markdown",
   "metadata": {},
   "source": [
    "**Ejemplos:**\n",
    "\n",
    "* Se obtendrá el texto de la segunda página del archivo [*menu.pdf*](menu.pdf) que fue creado previamente."
   ]
  },
  {
   "cell_type": "code",
   "execution_count": 26,
   "metadata": {},
   "outputs": [
    {
     "data": {
      "text/plain": [
       "'Nuestras gringas muy mexicanas\\nNuestras gringas muy mexicanas\\n\\nPavo al pastor sobre tortillas de harina hechas a mano y queso\\nmenonita. Insuperable.\\n\\nPepitos de arrachera\\nPepitos de arrachera\\n\\nUna explosión de sabores con nuestros finos cortes seleccionados\\ny macerados\\npor nuestro chef, y servidos en pan de nuestro horno.\\n\\nHuachinango a la sal\\nHuachinango a la sal\\n\\nNuestro pescado es traído diariamente desde Veracruz hasta su\\nmesa.\\n\\nPostres\\n\\nPan de pulque\\nPan de pulque\\n\\nNuestro famoso pan de pulque hecho con el néctar traído de\\nHidalgo.\\nNo olvide pedir para llevar.\\n\\nNieve de leche quemada con tuna\\nNieve de leche quemada con tuna\\n\\nDisfrute este tradicional postre oaxaqueño servido con las soletas\\npreparadas\\npor nosotros.\\n\\nSorbete de rosas y vino blanco espumoso\\nSorbete de rosas y vino blanco espumoso\\n\\nNuestro postre más delicado, para paladares exigentes.\\n\\nCrepas al momento\\nCrepas al momento\\n\\nPermítanos preparar su crepa frente a usted para que selecciones\\nde entre nuestra gran\\nvariedad de mermeladas y compotas caseras.\\n\\n$100.00\\n\\n$160.00\\n\\n$220.00\\n\\n$95.00\\n\\n$65.00\\n\\n$85.00\\n\\n$115.00\\n\\nCalle Mar del Oro No. 18, Col. San Jacinto el Bajo, Coyoacán, C.P. 100003, México, D.F.\\n\\nReservaciones al (55) 1161-11345\\n\\nContáctenos por nuestro correo electrónico.\\n\\n\\x0c'"
      ]
     },
     "execution_count": 26,
     "metadata": {},
     "output_type": "execute_result"
    }
   ],
   "source": [
    "convierte('menu.pdf', paginas=[1])"
   ]
  },
  {
   "cell_type": "markdown",
   "metadata": {},
   "source": [
    "* Se obtendrá el texto completo del archivo [*menu.pdf*](menu.pdf)."
   ]
  },
  {
   "cell_type": "code",
   "execution_count": 27,
   "metadata": {},
   "outputs": [
    {
     "data": {
      "text/plain": [
       "'Restaurante-Bar\\n\\n\"La Fonda de la Marquesa\"\\n\"La Fonda de la Marquesa\"\\n\\nEl lugar de los amigos y cómplices desde 1987.\\n\\nInicio   Menú   Equipo\\n\\nNuestro Menú\\n\\nEntradas\\n\\nEnsalada mixta\\nEnsalada mixta\\n\\nPreparada con varios tipos de lechuga, cebolla, jitomate y aderezo\\nde la casa.\\n\\nCorazones de alcachofa al vapor\\nCorazones de alcachofa al vapor\\nServidos en un espejo de vinagreta.\\n\\nEmpanadas argentinas (3)\\nEmpanadas argentinas (3)\\n\\nNuestras tradicionales empanadas rellenas de carne, queso o\\nchistorra a escoger.\\n\\nSashimi de pepino\\nSashimi de pepino\\n\\nUna fresca opción con nuestros cortes extra finos y la delicadeza\\nde la salsa de soya.\\n\\nSopas\\n\\nConsomé de la Condesa\\nConsomé de la Condesa\\n\\nNuestra sazón especial para un platillo muy tradicional.\\n\\nJugo de carne\\nJugo de carne\\n\\nHecho con la más fina carne de Sonora.\\n\\nSopa de lentejas\\nSopa de lentejas\\n\\nCon plátano macho y tocino.\\n\\nSopa de fideos\\nSopa de fideos\\n\\nGuisado con nuestro consomé especial y con un toque de crema y\\nqueso fresco.\\n\\n$65.00\\n\\n$125.00\\n\\n$130.00\\n\\n$150.00\\n\\n$85.00\\n\\n$85.00\\n\\n$90.00\\n\\n$105.00\\n\\nPlatos fuertes\\n\\nPechuga en salsa de huitlacoche\\nPechuga en salsa de huitlacoche\\n\\nUn sabor tan delicado que no podrá evitar pedirnos la receta.\\n\\n$145.00\\n\\n\\x0cNuestras gringas muy mexicanas\\nNuestras gringas muy mexicanas\\n\\nPavo al pastor sobre tortillas de harina hechas a mano y queso\\nmenonita. Insuperable.\\n\\nPepitos de arrachera\\nPepitos de arrachera\\n\\nUna explosión de sabores con nuestros finos cortes seleccionados\\ny macerados\\npor nuestro chef, y servidos en pan de nuestro horno.\\n\\nHuachinango a la sal\\nHuachinango a la sal\\n\\nNuestro pescado es traído diariamente desde Veracruz hasta su\\nmesa.\\n\\nPostres\\n\\nPan de pulque\\nPan de pulque\\n\\nNuestro famoso pan de pulque hecho con el néctar traído de\\nHidalgo.\\nNo olvide pedir para llevar.\\n\\nNieve de leche quemada con tuna\\nNieve de leche quemada con tuna\\n\\nDisfrute este tradicional postre oaxaqueño servido con las soletas\\npreparadas\\npor nosotros.\\n\\nSorbete de rosas y vino blanco espumoso\\nSorbete de rosas y vino blanco espumoso\\n\\nNuestro postre más delicado, para paladares exigentes.\\n\\nCrepas al momento\\nCrepas al momento\\n\\nPermítanos preparar su crepa frente a usted para que selecciones\\nde entre nuestra gran\\nvariedad de mermeladas y compotas caseras.\\n\\n$100.00\\n\\n$160.00\\n\\n$220.00\\n\\n$95.00\\n\\n$65.00\\n\\n$85.00\\n\\n$115.00\\n\\nCalle Mar del Oro No. 18, Col. San Jacinto el Bajo, Coyoacán, C.P. 100003, México, D.F.\\n\\nReservaciones al (55) 1161-11345\\n\\nContáctenos por nuestro correo electrónico.\\n\\n\\x0c'"
      ]
     },
     "execution_count": 27,
     "metadata": {},
     "output_type": "execute_result"
    }
   ],
   "source": [
    "convierte('menu.pdf')"
   ]
  },
  {
   "cell_type": "markdown",
   "metadata": {},
   "source": [
    "### El paquete *pdftotext*.\n",
    "\n",
    "Este paquete es una implementación de la biblioteca [*poppler*](https://poppler.freedesktop.org/), perteneciente a [XpdfReader](https://www.xpdfreader.com/). Este paquete corre en Linux, UNIX y MacOS X."
   ]
  },
  {
   "cell_type": "code",
   "execution_count": 28,
   "metadata": {},
   "outputs": [
    {
     "name": "stdout",
     "output_type": "stream",
     "text": [
      "Loaded plugins: fastestmirror\n",
      "Loading mirror speeds from cached hostfile\n",
      " * base: repos-tx.psychz.net\n",
      " * epel: mirror.compevo.com\n",
      " * extras: repos.dfw.quadranet.com\n",
      " * updates: mirrors.usc.edu\n",
      "Resolving Dependencies\n",
      "--> Running transaction check\n",
      "---> Package poppler-cpp-devel.x86_64 0:0.26.5-20.el7 will be installed\n",
      "--> Processing Dependency: poppler-devel(x86-64) = 0.26.5-20.el7 for package: poppler-cpp-devel-0.26.5-20.el7.x86_64\n",
      "--> Processing Dependency: poppler-cpp(x86-64) = 0.26.5-20.el7 for package: poppler-cpp-devel-0.26.5-20.el7.x86_64\n",
      "--> Processing Dependency: pkgconfig(poppler) = 0.26.5 for package: poppler-cpp-devel-0.26.5-20.el7.x86_64\n",
      "--> Processing Dependency: libpoppler-cpp.so.10()(64bit) for package: poppler-cpp-devel-0.26.5-20.el7.x86_64\n",
      "--> Running transaction check\n",
      "---> Package poppler-cpp.x86_64 0:0.26.5-20.el7 will be installed\n",
      "--> Processing Dependency: poppler(x86-64) = 0.26.5-20.el7 for package: poppler-cpp-0.26.5-20.el7.x86_64\n",
      "--> Processing Dependency: libpoppler.so.46()(64bit) for package: poppler-cpp-0.26.5-20.el7.x86_64\n",
      "--> Processing Dependency: libopenjpeg.so.1()(64bit) for package: poppler-cpp-0.26.5-20.el7.x86_64\n",
      "--> Processing Dependency: liblcms2.so.2()(64bit) for package: poppler-cpp-0.26.5-20.el7.x86_64\n",
      "---> Package poppler-devel.x86_64 0:0.26.5-20.el7 will be installed\n",
      "--> Running transaction check\n",
      "---> Package lcms2.x86_64 0:2.6-3.el7 will be installed\n",
      "---> Package openjpeg-libs.x86_64 0:1.5.1-18.el7 will be installed\n",
      "---> Package poppler.x86_64 0:0.26.5-20.el7 will be installed\n",
      "--> Processing Dependency: poppler-data >= 0.4.0 for package: poppler-0.26.5-20.el7.x86_64\n",
      "--> Running transaction check\n",
      "---> Package poppler-data.noarch 0:0.4.6-3.el7 will be installed\n",
      "--> Finished Dependency Resolution\n",
      "\n",
      "Dependencies Resolved\n",
      "\n",
      "================================================================================\n",
      " Package                  Arch          Version               Repository   Size\n",
      "================================================================================\n",
      "Installing:\n",
      " poppler-cpp-devel        x86_64        0.26.5-20.el7         base         27 k\n",
      "Installing for dependencies:\n",
      " lcms2                    x86_64        2.6-3.el7             base        150 k\n",
      " openjpeg-libs            x86_64        1.5.1-18.el7          base         86 k\n",
      " poppler                  x86_64        0.26.5-20.el7         base        784 k\n",
      " poppler-cpp              x86_64        0.26.5-20.el7         base         51 k\n",
      " poppler-data             noarch        0.4.6-3.el7           base        2.2 M\n",
      " poppler-devel            x86_64        0.26.5-20.el7         base        282 k\n",
      "\n",
      "Transaction Summary\n",
      "================================================================================\n",
      "Install  1 Package (+6 Dependent packages)\n",
      "\n",
      "Total download size: 3.5 M\n",
      "Installed size: 17 M\n",
      "Downloading packages:\n",
      "(1/7): poppler-cpp-0.26.5-20.el7.x86_64.rpm                |  51 kB   00:01     \n",
      "(2/7): openjpeg-libs-1.5.1-18.el7.x86_64.rpm               |  86 kB   00:01     \n",
      "(3/7): poppler-cpp-devel-0.26.5-20.el7.x86_64.rpm          |  27 kB   00:01     \n",
      "(4/7): lcms2-2.6-3.el7.x86_64.rpm                          | 150 kB   00:01     \n",
      "(5/7): poppler-0.26.5-20.el7.x86_64.rpm                    | 784 kB   00:01     \n",
      "(6/7): poppler-devel-0.26.5-20.el7.x86_64.rpm              | 282 kB   00:00     \n",
      "(7/7): poppler-data-0.4.6-3.el7.noarch.rpm                 | 2.2 MB   00:01     \n",
      "--------------------------------------------------------------------------------\n",
      "Total                                              1.2 MB/s | 3.5 MB  00:02     \n",
      "Running transaction check\n",
      "Running transaction test\n",
      "Transaction test succeeded\n",
      "Running transaction\n",
      "  Installing : openjpeg-libs-1.5.1-18.el7.x86_64                            1/7 \n",
      "  Installing : lcms2-2.6-3.el7.x86_64                                       2/7 \n",
      "  Installing : poppler-data-0.4.6-3.el7.noarch                              3/7 \n",
      "  Installing : poppler-0.26.5-20.el7.x86_64                                 4/7 \n",
      "  Installing : poppler-devel-0.26.5-20.el7.x86_64                           5/7 \n",
      "  Installing : poppler-cpp-0.26.5-20.el7.x86_64                             6/7 \n",
      "  Installing : poppler-cpp-devel-0.26.5-20.el7.x86_64                       7/7 \n",
      "  Verifying  : lcms2-2.6-3.el7.x86_64                                       1/7 \n",
      "  Verifying  : poppler-cpp-devel-0.26.5-20.el7.x86_64                       2/7 \n",
      "  Verifying  : poppler-data-0.4.6-3.el7.noarch                              3/7 \n",
      "  Verifying  : openjpeg-libs-1.5.1-18.el7.x86_64                            4/7 \n",
      "  Verifying  : poppler-0.26.5-20.el7.x86_64                                 5/7 \n",
      "  Verifying  : poppler-devel-0.26.5-20.el7.x86_64                           6/7 \n",
      "  Verifying  : poppler-cpp-0.26.5-20.el7.x86_64                             7/7 \n",
      "\n",
      "Installed:\n",
      "  poppler-cpp-devel.x86_64 0:0.26.5-20.el7                                      \n",
      "\n",
      "Dependency Installed:\n",
      "  lcms2.x86_64 0:2.6-3.el7              openjpeg-libs.x86_64 0:1.5.1-18.el7     \n",
      "  poppler.x86_64 0:0.26.5-20.el7        poppler-cpp.x86_64 0:0.26.5-20.el7      \n",
      "  poppler-data.noarch 0:0.4.6-3.el7     poppler-devel.x86_64 0:0.26.5-20.el7    \n",
      "\n",
      "Complete!\n"
     ]
    }
   ],
   "source": [
    "!sudo yum install poppler-cpp-devel -y"
   ]
  },
  {
   "cell_type": "code",
   "execution_count": 29,
   "metadata": {
    "scrolled": true
   },
   "outputs": [
    {
     "name": "stdout",
     "output_type": "stream",
     "text": [
      "Collecting pdftotext\n",
      "\u001b[?25l  Downloading https://files.pythonhosted.org/packages/a6/a7/c202adb0bcd3adc3030b0c5f7f0e21f62a721913e93296e6c4ddc305cbd3/pdftotext-2.1.2.tar.gz (113kB)\n",
      "\u001b[K    100% |████████████████████████████████| 122kB 1.5MB/s ta 0:00:01\n",
      "\u001b[?25hBuilding wheels for collected packages: pdftotext\n",
      "  Building wheel for pdftotext (setup.py) ... \u001b[?25ldone\n",
      "\u001b[?25h  Stored in directory: /home/oi/.cache/pip/wheels/43/14/6c/51e06da6a5ba1b2d9169b96d8c9cc30ae96e6ba34be0d4bd6c\n",
      "Successfully built pdftotext\n",
      "Installing collected packages: pdftotext\n",
      "Successfully installed pdftotext-2.1.2\n",
      "\u001b[33mYou are using pip version 19.0.1, however version 19.2.3 is available.\n",
      "You should consider upgrading via the 'pip install --upgrade pip' command.\u001b[0m\n"
     ]
    }
   ],
   "source": [
    "!pip install pdftotext"
   ]
  },
  {
   "cell_type": "code",
   "execution_count": 30,
   "metadata": {},
   "outputs": [],
   "source": [
    "import pdftotext"
   ]
  },
  {
   "cell_type": "markdown",
   "metadata": {},
   "source": [
    "La clase *pdftotext.PDF* permite crear un objeto iterador que contienen el texto extraido de cada página de un documento PDF."
   ]
  },
  {
   "cell_type": "code",
   "execution_count": 31,
   "metadata": {},
   "outputs": [],
   "source": [
    "with open(\"menu.pdf\", \"rb\") as archivo:\n",
    "    pdf = pdftotext.PDF(archivo)"
   ]
  },
  {
   "cell_type": "code",
   "execution_count": 32,
   "metadata": {},
   "outputs": [
    {
     "data": {
      "text/plain": [
       "pdftotext.PDF"
      ]
     },
     "execution_count": 32,
     "metadata": {},
     "output_type": "execute_result"
    }
   ],
   "source": [
    "type(pdf)"
   ]
  },
  {
   "cell_type": "code",
   "execution_count": 33,
   "metadata": {},
   "outputs": [
    {
     "name": "stdout",
     "output_type": "stream",
     "text": [
      "                               Restaurante-Bar\n",
      "                      \"La Fonda de la Marquesa\"\n",
      "              El lugar de los amigos y cómplices desde 1987.\n",
      "                              Inicio        Menú        Equipo\n",
      "                         Nuestro Menú\n",
      "                                 Entradas\n",
      "Ensalada mixta\n",
      "    Preparada con varios tipos de lechuga, cebolla, jitomate y aderezo  $65.00\n",
      "    de la casa.\n",
      "Corazones de alcachofa al vapor\n",
      "                                                                       $125.00\n",
      "    Servidos en un espejo de vinagreta.\n",
      "Empanadas argentinas (3)\n",
      "    Nuestras tradicionales empanadas rellenas de carne, queso o        $130.00\n",
      "    chistorra a escoger.\n",
      "Sashimi de pepino\n",
      "    Una fresca opción con nuestros cortes extra finos y la delicadeza  $150.00\n",
      "    de la salsa de soya.\n",
      "                                     Sopas\n",
      "Consomé de la Condesa\n",
      "                                                                        $85.00\n",
      "    Nuestra sazón especial para un platillo muy tradicional.\n",
      "Jugo de carne\n",
      "                                                                        $85.00\n",
      "    Hecho con la más fina carne de Sonora.\n",
      "Sopa de lentejas\n",
      "                                                                        $90.00\n",
      "    Con plátano macho y tocino.\n",
      "Sopa de fideos\n",
      "    Guisado con nuestro consomé especial y con un toque de crema y     $105.00\n",
      "    queso fresco.\n",
      "                             Platos fuertes\n",
      "Pechuga en salsa de huitlacoche\n",
      "                                                                       $145.00\n",
      "    Un sabor tan delicado que no podrá evitar pedirnos la receta.\n",
      "\n",
      "Nuestras gringas muy mexicanas\n",
      "     Pavo al pastor sobre tortillas de harina hechas a mano y queso                                   $100.00\n",
      "     menonita. Insuperable.\n",
      "Pepitos de arrachera\n",
      "     Una explosión de sabores con nuestros finos cortes seleccionados\n",
      "                                                                                                      $160.00\n",
      "     y macerados\n",
      "     por nuestro chef, y servidos en pan de nuestro horno.\n",
      "Huachinango a la sal\n",
      "     Nuestro pescado es traído diariamente desde Veracruz hasta su                                    $220.00\n",
      "     mesa.\n",
      "                                               Postres\n",
      "Pan de pulque\n",
      "     Nuestro famoso pan de pulque hecho con el néctar traído de\n",
      "                                                                                                       $95.00\n",
      "     Hidalgo.\n",
      "     No olvide pedir para llevar.\n",
      "Nieve de leche quemada con tuna\n",
      "     Disfrute este tradicional postre oaxaqueño servido con las soletas\n",
      "                                                                                                       $65.00\n",
      "     preparadas\n",
      "     por nosotros.\n",
      "Sorbete de rosas y vino blanco espumoso\n",
      "                                                                                                       $85.00\n",
      "     Nuestro postre más delicado, para paladares exigentes.\n",
      "Crepas al momento\n",
      "     Permítanos preparar su crepa frente a usted para que selecciones\n",
      "                                                                                                       $115.00\n",
      "     de entre nuestra gran\n",
      "     variedad de mermeladas y compotas caseras.\n",
      "              Calle Mar del Oro No. 18, Col. San Jacinto el Bajo, Coyoacán, C.P. 100003, México, D.F.\n",
      "                                        Reservaciones al (55) 1161-11345\n",
      "                                   Contáctenos por nuestro correo electrónico.\n",
      "\n"
     ]
    }
   ],
   "source": [
    "for page in pdf:\n",
    "    print(page)"
   ]
  },
  {
   "cell_type": "markdown",
   "metadata": {},
   "source": [
    "### El paquete *PyPDF2*.\n",
    "\n",
    "Existen diversos proyectos enfocados a la gestión de archivos en formato PDF. El paquete *PyPDF2* permite no sólo leer sino escribir, concatenar y modificar archivos PDF. \n",
    "\n",
    "Para los fines de esta sección sólo se utilizará la clase *PyPDF2.PdfFileReader* para leer el contenido de un archivo PDF.\n",
    "\n",
    "Para saber mas sobre este paquete puede consultar en https://pythonhosted.org/PyPDF2/"
   ]
  },
  {
   "cell_type": "code",
   "execution_count": 34,
   "metadata": {
    "scrolled": false
   },
   "outputs": [
    {
     "name": "stdout",
     "output_type": "stream",
     "text": [
      "Collecting PyPDF2\n",
      "\u001b[?25l  Downloading https://files.pythonhosted.org/packages/b4/01/68fcc0d43daf4c6bdbc6b33cc3f77bda531c86b174cac56ef0ffdb96faab/PyPDF2-1.26.0.tar.gz (77kB)\n",
      "\u001b[K    100% |████████████████████████████████| 81kB 942kB/s ta 0:00:01\n",
      "\u001b[?25hBuilding wheels for collected packages: PyPDF2\n",
      "  Building wheel for PyPDF2 (setup.py) ... \u001b[?25ldone\n",
      "\u001b[?25h  Stored in directory: /home/oi/.cache/pip/wheels/53/84/19/35bc977c8bf5f0c23a8a011aa958acd4da4bbd7a229315c1b7\n",
      "Successfully built PyPDF2\n",
      "Installing collected packages: PyPDF2\n",
      "Successfully installed PyPDF2-1.26.0\n",
      "\u001b[33mYou are using pip version 19.0.1, however version 19.2.3 is available.\n",
      "You should consider upgrading via the 'pip install --upgrade pip' command.\u001b[0m\n"
     ]
    }
   ],
   "source": [
    "!pip install PyPDF2"
   ]
  },
  {
   "cell_type": "markdown",
   "metadata": {},
   "source": [
    "#### La clase *PyPDF2.PdfFileReader*\n",
    "\n",
    "Esta clase crea un objeto que posee atributos correspontientes a las características, estructuras y contenidos de un archivco PDF. Para crear un objeto a partir de esta clase su tiliza la siguiente sintaxis:\n",
    "\n",
    "```\n",
    "PyPDF2.PdfFileReader('<ruta del archivo>')\n",
    "```\n",
    "Aún cuando el paquete es muy versatil, en muchos casos no es tan eficiente para extraer texto como las herramientas mencionadas anteriormente."
   ]
  },
  {
   "cell_type": "code",
   "execution_count": 35,
   "metadata": {
    "scrolled": true
   },
   "outputs": [],
   "source": [
    "from PyPDF2 import PdfFileReader"
   ]
  },
  {
   "cell_type": "code",
   "execution_count": 36,
   "metadata": {},
   "outputs": [
    {
     "name": "stdout",
     "output_type": "stream",
     "text": [
      "Información del documento: {'/Title': '', '/Creator': 'wkhtmltopdf 0.12.1', '/Producer': 'Qt 4.8.7', '/CreationDate': 'D:20190829213504'}\n",
      "Número de páginas: 2\n",
      "Contenido de la pagina 1:\n",
      " \n"
     ]
    }
   ],
   "source": [
    "with open('menu.pdf', 'rb') as archivo:\n",
    "    pdf = PdfFileReader(archivo)\n",
    "    print('Información del documento:', pdf.documentInfo)\n",
    "    print('Número de páginas:', pdf.numPages)\n",
    "    pagina = pdf.getPage(0)\n",
    "    print('Contenido de la pagina 1:\\n', pagina.extractText())"
   ]
  },
  {
   "cell_type": "markdown",
   "metadata": {},
   "source": [
    "<p style=\"text-align: center\"><a rel=\"license\" href=\"http://creativecommons.org/licenses/by/4.0/\"><img alt=\"Licencia Creative Commons\" style=\"border-width:0\" src=\"https://i.creativecommons.org/l/by/4.0/80x15.png\" /></a><br />Esta obra está bajo una <a rel=\"license\" href=\"http://creativecommons.org/licenses/by/4.0/\">Licencia Creative Commons Atribución 4.0 Internacional</a>.</p>\n",
    "<p style=\"text-align: center\">&copy; José Luis Chiquete Valdivieso. 2019.</p>"
   ]
  }
 ],
 "metadata": {
  "kernelspec": {
   "display_name": "Python 3",
   "language": "python",
   "name": "python3"
  },
  "language_info": {
   "codemirror_mode": {
    "name": "ipython",
    "version": 3
   },
   "file_extension": ".py",
   "mimetype": "text/x-python",
   "name": "python",
   "nbconvert_exporter": "python",
   "pygments_lexer": "ipython3",
   "version": "3.6.6"
  }
 },
 "nbformat": 4,
 "nbformat_minor": 2
}
